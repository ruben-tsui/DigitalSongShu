{
 "cells": [
  {
   "cell_type": "markdown",
   "metadata": {},
   "source": [
    "### **Digital SongShu Project**\n",
    "#### Last updated 2018-03-05 by Ruben G. Tsui"
   ]
  },
  {
   "cell_type": "code",
   "execution_count": 2,
   "metadata": {
    "colab": {},
    "colab_type": "code",
    "id": "VZVgJhGL7i0n"
   },
   "outputs": [],
   "source": [
    "import json\n",
    "from SongShu import SongShu\n",
    "import re\n",
    "import pandas as pd\n",
    "from bs4 import BeautifulSoup\n",
    "import altair"
   ]
  },
  {
   "cell_type": "markdown",
   "metadata": {
    "colab_type": "text",
    "id": "Rb6_NbIb7i0q"
   },
   "source": [
    "## SongShu -- tagging names, offices, places\n",
    "##### <font color='red'>*Change your Songshu html data folder below*</font>"
   ]
  },
  {
   "cell_type": "code",
   "execution_count": 3,
   "metadata": {
    "colab": {},
    "colab_type": "code",
    "id": "TrRyrgdR7i0r",
    "outputId": "de1a17de-313d-468a-db2d-5c8d04fce614"
   },
   "outputs": [
    {
     "name": "stderr",
     "output_type": "stream",
     "text": [
      "INFO:root:Stop at loading C:\\NLP\\Raft\\Song shu-20181231T032348Z-001\\data - Song shu\\SongShu_0851.html.\n",
      "INFO:root:Total length of the data is 851.\n",
      "ERROR:root:[Error] SongShu_rare_char.json does not exist\n",
      "\n",
      "            try to run these lines: \n",
      "            \t>> self.extract_rare_chars()\n",
      "            \t>> self.write_rare_chars()\n",
      "\n",
      "INFO:root:Remove 標註, page number, and page dividers from the tree structure.\n",
      "INFO:root:Remove the new lines added by the page dividers, connect the paragraphs before and after the new lines.\n",
      "WARNING:root:Not the right indent.史／正史／宋書／志　凡三十卷／卷二十二　志第十二／樂四(P.625)..[底本：宋元明三朝遞修本]\n",
      "WARNING:root:Not the right indent.史／正史／宋書／志　凡三十卷／卷二十二　志第十二／樂四／魏鼓吹曲十二篇　繆襲／初之平曲(P.644)..[底本：宋元明三朝遞修本]\n",
      "WARNING:root:Not the right indent.史／正史／宋書／志　凡三十卷／卷二十二　志第十二／樂四／魏鼓吹曲十二篇　繆襲／戰滎陽曲(P.644)..[底本：宋元明三朝遞修本]\n",
      "WARNING:root:Not the right indent.史／正史／宋書／志　凡三十卷／卷二十二　志第十二／樂四／魏鼓吹曲十二篇　繆襲／獲呂布曲(P.644)..[底本：宋元明三朝遞修本]\n",
      "WARNING:root:Not the right indent.史／正史／宋書／志　凡三十卷／卷二十二　志第十二／樂四／魏鼓吹曲十二篇　繆襲／克官渡曲(P.645)..[底本：宋元明三朝遞修本]\n",
      "WARNING:root:Not the right indent.史／正史／宋書／志　凡三十卷／卷二十二　志第十二／樂四／魏鼓吹曲十二篇　繆襲／舊邦曲(P.645)..[底本：宋元明三朝遞修本]\n",
      "WARNING:root:Not the right indent.史／正史／宋書／志　凡三十卷／卷二十二　志第十二／樂四／魏鼓吹曲十二篇　繆襲／定武功曲(P.645)..[底本：宋元明三朝遞修本]\n",
      "WARNING:root:Not the right indent.史／正史／宋書／志　凡三十卷／卷二十二　志第十二／樂四／魏鼓吹曲十二篇　繆襲／屠柳城曲(P.646)..[底本：宋元明三朝遞修本]\n",
      "WARNING:root:Not the right indent.史／正史／宋書／志　凡三十卷／卷二十二　志第十二／樂四／魏鼓吹曲十二篇　繆襲／平南荊曲(P.646)..[底本：宋元明三朝遞修本]\n",
      "WARNING:root:Not the right indent.史／正史／宋書／志　凡三十卷／卷二十二　志第十二／樂四／魏鼓吹曲十二篇　繆襲／平關中曲(P.646)..[底本：宋元明三朝遞修本]\n",
      "WARNING:root:Not the right indent.史／正史／宋書／志　凡三十卷／卷二十二　志第十二／樂四／魏鼓吹曲十二篇　繆襲／應帝期曲(P.646)..[底本：宋元明三朝遞修本]\n",
      "WARNING:root:Not the right indent.史／正史／宋書／志　凡三十卷／卷二十二　志第十二／樂四／魏鼓吹曲十二篇　繆襲／邕熙曲(P.647)..[底本：宋元明三朝遞修本]\n",
      "WARNING:root:Not the right indent.史／正史／宋書／志　凡三十卷／卷二十二　志第十二／樂四／魏鼓吹曲十二篇　繆襲／太和曲(P.647)..[底本：宋元明三朝遞修本]\n",
      "WARNING:root:Not the right indent.史／正史／宋書／志　凡三十卷／卷二十二　志第十二／樂四／吳鼓吹曲十二篇　韋昭／炎精缺曲凡三十句，句三字(P.656)..[底本：宋元明三朝遞修本]\n",
      "WARNING:root:Not the right indent.史／正史／宋書／志　凡三十卷／卷二十二　志第十二／樂四／吳鼓吹曲十二篇　韋昭／漢之季曲凡二十句，其十八句句三字，二句句四字(P.656)..[底本：宋元明三朝遞修本]\n",
      "WARNING:root:Not the right indent.史／正史／宋書／志　凡三十卷／卷二十二　志第十二／樂四／吳鼓吹曲十二篇　韋昭／攄武師曲凡六句，其三句句三字，三句句四字(P.657)..[底本：宋元明三朝遞修本]\n",
      "WARNING:root:Not the right indent.史／正史／宋書／志　凡三十卷／卷二十二　志第十二／樂四／吳鼓吹曲十二篇　韋昭／伐烏林曲凡十八句，其十句句四字，八句句三字(P.657)..[底本：宋元明三朝遞修本]\n",
      "WARNING:root:Not the right indent.史／正史／宋書／志　凡三十卷／卷二十二　志第十二／樂四／吳鼓吹曲十二篇　韋昭／秋風曲凡十五句，其十四句句五字，一句四字(P.657)..[底本：宋元明三朝遞修本]\n",
      "WARNING:root:Not the right indent.史／正史／宋書／志　凡三十卷／卷二十二　志第十二／樂四／吳鼓吹曲十二篇　韋昭／克皖城曲凡十二句，其六句句三字，六句句四字(P.657)..[底本：宋元明三朝遞修本]\n",
      "WARNING:root:Not the right indent.史／正史／宋書／志　凡三十卷／卷二十二　志第十二／樂四／吳鼓吹曲十二篇　韋昭／關背德曲凡二十一句，其八句句四字，二句句六字，七句句五字，四句句三字(P.658)..[底本：宋元明三朝遞修本]\n",
      "WARNING:root:Not the right indent.史／正史／宋書／志　凡三十卷／卷二十二　志第十二／樂四／吳鼓吹曲十二篇　韋昭／通荊門曲凡二十四句，其十七句句五字，四句句三字，三句句四字(P.658)..[底本：宋元明三朝遞修本]\n",
      "WARNING:root:Not the right indent.史／正史／宋書／志　凡三十卷／卷二十二　志第十二／樂四／吳鼓吹曲十二篇　韋昭／章洪德曲凡十句，其八句句三字，二句句四字(P.659)..[底本：宋元明三朝遞修本]\n",
      "WARNING:root:Not the right indent.史／正史／宋書／志　凡三十卷／卷二十二　志第十二／樂四／吳鼓吹曲十二篇　韋昭／從曆數曲凡二十六句，其一句句三字，三句句四字，二十二句句五字，一句六字(P.659)..[底本：宋元明三朝遞修本]\n",
      "WARNING:root:Not the right indent.史／正史／宋書／志　凡三十卷／卷二十二　志第十二／樂四／吳鼓吹曲十二篇　韋昭／承天命曲凡三十四句，其十九句句三字，二句句五字，十三句句四字(P.659)..[底本：宋元明三朝遞修本]\n",
      "WARNING:root:Not the right indent.史／正史／宋書／志　凡三十卷／卷二十二　志第十二／樂四／吳鼓吹曲十二篇　韋昭／玄化曲凡十三句，其五句句五字，二句句三字，三句句四字，三句句七字(P.660)..[底本：宋元明三朝遞修本]\n",
      "WARNING:root:Not the right indent.史／正史／宋書／志　凡三十卷／卷四十　志第三十／百官下／第一品(P.1260)..[底本：宋元明三朝遞修本]\n",
      "WARNING:root:Not the right indent.史／正史／宋書／志　凡三十卷／卷四十　志第三十／百官下／第二品(P.1260)..[底本：宋元明三朝遞修本]\n",
      "WARNING:root:Not the right indent.史／正史／宋書／志　凡三十卷／卷四十　志第三十／百官下／第三品(P.1261)..[底本：宋元明三朝遞修本]\n",
      "WARNING:root:Not the right indent.史／正史／宋書／志　凡三十卷／卷四十　志第三十／百官下／第四品(P.1261)..[底本：宋元明三朝遞修本]\n",
      "WARNING:root:Not the right indent.史／正史／宋書／志　凡三十卷／卷四十　志第三十／百官下／第五品(P.1262)..[底本：宋元明三朝遞修本]\n",
      "WARNING:root:Not the right indent.史／正史／宋書／志　凡三十卷／卷四十　志第三十／百官下／第六品(P.1263)..[底本：宋元明三朝遞修本]\n",
      "WARNING:root:Not the right indent.史／正史／宋書／志　凡三十卷／卷四十　志第三十／百官下／第七品(P.1264)..[底本：宋元明三朝遞修本]\n",
      "WARNING:root:Not the right indent.史／正史／宋書／志　凡三十卷／卷四十　志第三十／百官下／第八品(P.1264)..[底本：宋元明三朝遞修本]\n",
      "WARNING:root:Not the right indent.史／正史／宋書／志　凡三十卷／卷四十　志第三十／百官下／第九品(P.1265)..[底本：宋元明三朝遞修本]\n"
     ]
    }
   ],
   "source": [
    "songshu = SongShu(\"2019-03-05\", \"RBT\")\n",
    "songshu.load_htmls(r'C:\\NLP\\Raft\\Song shu-20181231T032348Z-001\\data - Song shu')\n",
    "songshu.extract_all()"
   ]
  },
  {
   "cell_type": "code",
   "execution_count": 4,
   "metadata": {},
   "outputs": [
    {
     "data": {
      "text/plain": [
       "851"
      ]
     },
     "execution_count": 4,
     "metadata": {},
     "output_type": "execute_result"
    }
   ],
   "source": [
    "len(songshu.flat_bodies)"
   ]
  },
  {
   "cell_type": "markdown",
   "metadata": {},
   "source": [
    "### Let's just deal with Scroll 001 for now"
   ]
  },
  {
   "cell_type": "code",
   "execution_count": 33,
   "metadata": {},
   "outputs": [],
   "source": [
    "scroll001 = songshu.flat_bodies[0]  # 卷001"
   ]
  },
  {
   "cell_type": "code",
   "execution_count": 34,
   "metadata": {},
   "outputs": [
    {
     "data": {
      "text/plain": [
       "67"
      ]
     },
     "execution_count": 34,
     "metadata": {},
     "output_type": "execute_result"
    }
   ],
   "source": [
    "len(scroll001.html.body.span.find_all('div'))  # each <div> tag contains one paragraph "
   ]
  },
  {
   "cell_type": "code",
   "execution_count": 35,
   "metadata": {},
   "outputs": [
    {
     "name": "stdout",
     "output_type": "stream",
     "text": [
      "高祖武皇帝諱裕，字德輿，小名寄奴，彭城縣綏輿里人，漢高帝弟楚元王交之後也。交生紅懿侯富，富生宗正辟彊，辟彊生陽城繆侯德，德生陽城節侯安民，安民生陽城釐侯慶忌，慶忌生陽城肅侯岑，岑生宗正平，平生東武城令某，某生東萊太守景，景生明經洽，洽生博士弘，弘生瑯邪都尉悝，悝生魏定襄太守某，某生邪城令亮，亮生晉北平太守膺，膺生相國掾熙，熙生開封令旭孫。旭孫生混，始過江，居晉陵郡丹徒縣之京口里，官至武原令。混生東安太守靖，靖生郡功曹翹，是為皇考。高祖以晉哀帝興寧元年歲次癸亥三月壬寅夜生。及長，身長七尺六寸，風骨奇特。家貧，有大志，不治廉隅。事繼母以孝謹稱。\n",
      "------------------------------------------------------------\n",
      "初為冠軍孫無終司馬。安帝隆安三年十一月，妖賊孫恩作亂於會稽，晉朝衞將軍謝琰、前將軍劉牢之東討。牢之請高祖參府軍事。十二月，牢之至吳，而賊緣道屯結，牢之命高祖與數十人覘賊遠近。會遇賊至，眾數千人，高祖便進與戰。所將人多死，而戰意方厲，手奮長刀，所殺傷甚眾。牢之子敬宣疑高祖淹久，恐為賊所困，乃輕騎尋之。既而眾騎並至，賊乃奔退，斬獲千餘人，推鋒而進，平山陰，恩遁還入海。\n",
      "------------------------------------------------------------\n",
      "四年五月，恩復入會稽，殺衞將軍謝琰。十一月，劉牢之復率眾東征，恩退走。牢之屯上虞，使高祖戍句章城。句章城既卑小，戰士不盈數百人，高祖常被堅執銳，為士卒先，每戰輒摧鋒陷陣，賊乃退還浹口。于時東伐諸帥，御軍無律，士卒暴掠，甚為百姓所苦。唯高祖法令明整，所至莫不親賴焉。\n",
      "------------------------------------------------------------\n",
      "五年春，孫恩頻攻句章，高祖屢摧破之，恩復走入海。三月，恩北出海鹽，高祖追而翼之，築城于海鹽故治。賊日來攻城，城內兵力甚弱，高祖乃選敢死之士數百人，咸脫甲冑，執短兵，並鼓噪而出，賊震懼奪氣，因其懼而奔之，並棄甲散走，斬其大帥姚盛。雖連戰剋勝，然眾寡不敵，高祖獨深慮之。一夜，偃旗匿眾，若已遁者。明晨開門，使羸疾數人登城。賊遙問劉裕所在。曰：「夜已走矣。」賊信之，乃率眾大上。高祖乘其懈怠，奮擊，大破之。恩知城不可下，乃進向滬瀆。高祖復棄城追之。海鹽令鮑陋遣子嗣之以吳兵一千，請為前驅。高祖曰：「賊兵甚精，吳人不習戰，若前驅失利，必敗我軍。可在後為聲援。」不從。是夜，高祖多設伏兵，兼置旗鼓，然一處不過數人。明日，賊率眾萬餘迎戰。前驅既交，諸伏皆出，舉旗鳴鼓。賊謂四面有軍，乃退。嗣之追奔，為賊所沒。高祖且戰且退，賊盛，所領死傷且盡。高祖慮不免，至向伏兵處，乃止，令左右脫取死人衣。賊謂當走反停，疑猶有伏。高祖因呼更戰，氣色甚猛，賊眾以為然，乃引軍去。高祖徐歸，然後散兵稍集。五月，孫恩破滬瀆，殺吳國內史袁山松，死者四千人。是月，高祖復破賊於婁縣。\n",
      "------------------------------------------------------------\n",
      "六月，恩乘勝浮海，奄至丹徒，戰士十餘萬。劉牢之猶屯山陰，京邑震動。高祖倍道兼行，與賊俱至。于時眾力既寡，加以步遠疲勞，而丹徒守軍莫有鬭志。恩率眾數萬，鼓噪登蒜山，居民皆荷擔而立。高祖率所領奔擊，大破之，投巘赴水死者甚眾。恩以彭排音敗自載，僅得還船。雖被摧破，猶恃其眾力，徑向京師。樓船高大，值風不得進，旬日乃至白石。尋知劉牢之已還，朝廷有備，遂走向鬱洲。八月，以高祖為建武將軍、下邳太守，領水軍追討至鬱洲，復大破恩。恩南走。十一月，高祖追恩於滬瀆，及海鹽，又破之。三戰並大獲，俘馘以萬數。恩自是饑饉疾疫，死者太半，自浹口奔臨海。\n"
     ]
    }
   ],
   "source": [
    "paragraphs = [] # save each paragraph as an element in this list\n",
    "for c in scroll001.html.body.span.find_all('div'):\n",
    "    paragraphs.append(c.text)\n",
    "    \n",
    "sep = f\"\\n{'-'*60}\\n\"    ## paragraph separator (newline, -----, newline)\n",
    "print(sep.join(paragraphs[:5]))"
   ]
  },
  {
   "cell_type": "markdown",
   "metadata": {},
   "source": [
    "#### Define tagging functions"
   ]
  },
  {
   "cell_type": "code",
   "execution_count": 5,
   "metadata": {},
   "outputs": [],
   "source": [
    "def annotate_name(tagging_unit, df, col):\n",
    "    '''\n",
    "    This function annotates 'tagging_unit' (which is a paragraph for now) by matching the\n",
    "    values from column 'col' in the dataframe 'df'; it then creates the tag\n",
    "    <name id=''></name>, where the attribute id is from the \"id\" column of 'df'. \n",
    "    \n",
    "    Inputs:\n",
    "        tagging_unit = e.g. text of a paragraph\n",
    "        df           = Pandas dataframe containing strings to be matched (e.g. names)\n",
    "        col          = column name for the values to be matched\n",
    "    Output:\n",
    "        The function returns a string containing the tagged text\n",
    "    \n",
    "    Example usage:\n",
    "       annotate_name(paragraph[0], bio_df, '姓名')\n",
    "    '''\n",
    "    tagged = ''\n",
    "    tagged = tagging_unit\n",
    "    for idx, row in df.iterrows():\n",
    "        id_  = row['id'] # this is interpreted as the unique key to the dataframe \n",
    "        name = row[col]  # e.g. 姓名\n",
    "        if name in tagged:\n",
    "            tagged = tagged.replace(name, f\"<name id='{id_}'>{name}</name>\")\n",
    "    return tagged"
   ]
  },
  {
   "cell_type": "code",
   "execution_count": 6,
   "metadata": {},
   "outputs": [],
   "source": [
    "def annotate_office(tagging_unit, df, col):\n",
    "    '''\n",
    "    This function works similarly as annotate_name().\n",
    "    \n",
    "    Inputs:\n",
    "       tagging_unit = e.g. text of a paragraph\n",
    "       df           = Pandas dataframe containing strings to be matched (e.g. office)\n",
    "       col          = column name for the values to be matched\n",
    "       \n",
    "    Example usage:\n",
    "       annotate_name(paragraph[0], bio_df, 'Name') # 'Name' here corresponds to the column containing official tutles\n",
    "    '''\n",
    "    tagged = ''\n",
    "    tagged = tagging_unit\n",
    "    for idx, row in df.iterrows():\n",
    "        id_  = row['ID'] # this is interpreted as the unique key to the dataframe \n",
    "        office = row[col]\n",
    "        if office in tagged:\n",
    "            tagged = tagged.replace(office, f\"<office id='{id_}'>{office}</office>\")\n",
    "    return tagged"
   ]
  },
  {
   "cell_type": "markdown",
   "metadata": {},
   "source": [
    "#### Read names, offices and places data from Excel worksheets"
   ]
  },
  {
   "cell_type": "code",
   "execution_count": 7,
   "metadata": {},
   "outputs": [
    {
     "name": "stdout",
     "output_type": "stream",
     "text": [
      "Wall time: 3.57 s\n"
     ]
    }
   ],
   "source": [
    "%%time\n",
    "bio_df    = pd.read_excel(\"BioCombinedSortedTruncated.xlsx\")  # This file has been processed previously\n",
    "                                                              # requires no further actions\n",
    "office_df = pd.read_excel(\"劉宋地名與官名 2017-11-14.xlsx\", sheet_name=\"Offices\")  # this will be sorted later\n",
    "place_df  = pd.read_excel(\"劉宋地名與官名 2017-11-14.xlsx\", sheet_name=\"Places\")   # this will be sorted later"
   ]
  },
  {
   "cell_type": "markdown",
   "metadata": {},
   "source": [
    "#### Define function to sort a dataframe by the length of value in a column, in descending order, so that longer string will match first."
   ]
  },
  {
   "cell_type": "code",
   "execution_count": 8,
   "metadata": {},
   "outputs": [],
   "source": [
    "def sort_by_length_of_indicated_column(df, col, ascending=False):\n",
    "    s = df[col].str.len().sort_values(ascending=ascending).index\n",
    "    df_out = df.reindex(s)\n",
    "    return df_out"
   ]
  },
  {
   "cell_type": "code",
   "execution_count": 9,
   "metadata": {},
   "outputs": [],
   "source": [
    "office_df = sort_by_length_of_indicated_column(office_df, 'Name')\n",
    "place_df  = sort_by_length_of_indicated_column(place_df, 'Name')"
   ]
  },
  {
   "cell_type": "code",
   "execution_count": 10,
   "metadata": {},
   "outputs": [],
   "source": [
    "office_df = office_df[:-7]  # remove last 7 entries, which are single-character official titles"
   ]
  },
  {
   "cell_type": "code",
   "execution_count": 11,
   "metadata": {},
   "outputs": [
    {
     "data": {
      "text/html": [
       "<div>\n",
       "<style scoped>\n",
       "    .dataframe tbody tr th:only-of-type {\n",
       "        vertical-align: middle;\n",
       "    }\n",
       "\n",
       "    .dataframe tbody tr th {\n",
       "        vertical-align: top;\n",
       "    }\n",
       "\n",
       "    .dataframe thead th {\n",
       "        text-align: right;\n",
       "    }\n",
       "</style>\n",
       "<table border=\"1\" class=\"dataframe\">\n",
       "  <thead>\n",
       "    <tr style=\"text-align: right;\">\n",
       "      <th></th>\n",
       "      <th>ID</th>\n",
       "      <th>Name</th>\n",
       "    </tr>\n",
       "  </thead>\n",
       "  <tbody>\n",
       "    <tr>\n",
       "      <th>306</th>\n",
       "      <td>lso307</td>\n",
       "      <td>衛尉</td>\n",
       "    </tr>\n",
       "    <tr>\n",
       "      <th>309</th>\n",
       "      <td>lso310</td>\n",
       "      <td>廷尉</td>\n",
       "    </tr>\n",
       "    <tr>\n",
       "      <th>331</th>\n",
       "      <td>lso332</td>\n",
       "      <td>少府</td>\n",
       "    </tr>\n",
       "    <tr>\n",
       "      <th>330</th>\n",
       "      <td>lso331</td>\n",
       "      <td>甸師</td>\n",
       "    </tr>\n",
       "    <tr>\n",
       "      <th>319</th>\n",
       "      <td>lso320</td>\n",
       "      <td>太府</td>\n",
       "    </tr>\n",
       "  </tbody>\n",
       "</table>\n",
       "</div>"
      ],
      "text/plain": [
       "         ID Name\n",
       "306  lso307   衛尉\n",
       "309  lso310   廷尉\n",
       "331  lso332   少府\n",
       "330  lso331   甸師\n",
       "319  lso320   太府"
      ]
     },
     "execution_count": 11,
     "metadata": {},
     "output_type": "execute_result"
    }
   ],
   "source": [
    "office_df.tail()"
   ]
  },
  {
   "cell_type": "code",
   "execution_count": 58,
   "metadata": {},
   "outputs": [],
   "source": [
    "# collapse list into a single string for faster processing\n",
    "sep = '|#|#|#|#|'  # paragraph separator\n",
    "all_paragraphs = sep.join(paragraphs)"
   ]
  },
  {
   "cell_type": "markdown",
   "metadata": {},
   "source": [
    "### Deal with variant characters"
   ]
  },
  {
   "cell_type": "code",
   "execution_count": 60,
   "metadata": {},
   "outputs": [],
   "source": [
    "all_paragraphs = all_paragraphs.replace('衞','衛')"
   ]
  },
  {
   "cell_type": "code",
   "execution_count": 62,
   "metadata": {},
   "outputs": [
    {
     "name": "stdout",
     "output_type": "stream",
     "text": [
      "Wall time: 7.12 s\n"
     ]
    }
   ],
   "source": [
    "%%time\n",
    "# annotate names\n",
    "annotated = annotate_name(all_paragraphs, bio_df, '姓名')"
   ]
  },
  {
   "cell_type": "code",
   "execution_count": 113,
   "metadata": {},
   "outputs": [
    {
     "name": "stdout",
     "output_type": "stream",
     "text": [
      "Wall time: 19.9 ms\n"
     ]
    }
   ],
   "source": [
    "%%time\n",
    "# annotate offices\n",
    "annotated = annotate_office(annotated, offices)"
   ]
  },
  {
   "cell_type": "code",
   "execution_count": 114,
   "metadata": {},
   "outputs": [],
   "source": [
    "annoteted_paragraphs = annotated.split(sep)"
   ]
  },
  {
   "cell_type": "markdown",
   "metadata": {},
   "source": [
    "### Apply tagging on entire SongShu"
   ]
  },
  {
   "cell_type": "code",
   "execution_count": 12,
   "metadata": {},
   "outputs": [
    {
     "name": "stdout",
     "output_type": "stream",
     "text": [
      "processed 5 sections\n",
      "processed 10 sections\n",
      "processed 15 sections\n",
      "processed 20 sections\n"
     ]
    }
   ],
   "source": [
    "sep = '|#|#|#|#|'  # paragraph separator\n",
    "\n",
    "fo = open('songshu.all.names.offices.tagged.040-059.txt', 'w', encoding='utf-8', newline='\\n')\n",
    "\n",
    "i = 0\n",
    "for section in songshu.flat_bodies[40:60]:\n",
    "    #\n",
    "    paragraphs = [] # for each section, save each paragraph as an element in this list\n",
    "    for c in section.html.body.span.find_all('div'):\n",
    "        paragraphs.append(c.text)\n",
    "    all_paragraphs = sep.join(paragraphs)\n",
    "    all_paragraphs = all_paragraphs.replace('衞','衛')\n",
    "    annotated = annotate_name(all_paragraphs, bio_df, '姓名')\n",
    "    annotated = annotate_office(annotated, office_df, 'Name')\n",
    "    fo.write(f\"Flat_bodies section {i}\\n\")\n",
    "    for line in annotated.split(sep):\n",
    "        fo.write(line + '\\n')\n",
    "    fo.write(f\"{'-'*60}\\n\")\n",
    "    i += 1\n",
    "    if i % 5 == 0:\n",
    "        print(f\"processed {i} sections\")\n",
    "fo.close()"
   ]
  },
  {
   "cell_type": "code",
   "execution_count": 80,
   "metadata": {},
   "outputs": [],
   "source": [
    "fo.close()"
   ]
  },
  {
   "cell_type": "code",
   "execution_count": 40,
   "metadata": {},
   "outputs": [],
   "source": [
    "soup = BeautifulSoup('<tu>' + annoteted_paragraphs[1] + '</tu>', 'lxml')"
   ]
  },
  {
   "cell_type": "code",
   "execution_count": 43,
   "metadata": {},
   "outputs": [
    {
     "data": {
      "text/plain": [
       "10"
      ]
     },
     "execution_count": 43,
     "metadata": {},
     "output_type": "execute_result"
    }
   ],
   "source": [
    "myNames = soup.find_all('name')\n",
    "len(myNames)"
   ]
  },
  {
   "cell_type": "code",
   "execution_count": null,
   "metadata": {},
   "outputs": [],
   "source": [
    "soup = BeautifulSoup('<tu>' + annoteted_paragraphs[8] + '</tu>', 'lxml')\n",
    "myNames = soup.find_all('name')\n",
    "for person in myNames:\n",
    "    print(person['id'], person.text)"
   ]
  },
  {
   "cell_type": "markdown",
   "metadata": {
    "colab_type": "text",
    "id": "9OhYNrBa7i0v"
   },
   "source": [
    "## Extract Passages with Zhou, Jun"
   ]
  },
  {
   "cell_type": "code",
   "execution_count": 11,
   "metadata": {
    "colab": {},
    "colab_type": "code",
    "id": "Mx2fxaH57i0w"
   },
   "outputs": [],
   "source": [
    "flat_bodies = []\n",
    "\n",
    "for path,body in zip(songshu.paths, songshu.flat_bodies):\n",
    "    if re.search(r\"\\／(['州郡']+)\", path) != None:\n",
    "        flat_bodies.append(body)\n",
    "        \n",
    "songshuGeo = SongShu(date='2018-8-21', creator='MF')\n",
    "songshuGeo.filename = 'ShongShuGeo'\n",
    "songshuGeo.flat_bodies = flat_bodies\n",
    "songshuGeo.extract_paths()"
   ]
  },
  {
   "cell_type": "code",
   "execution_count": 25,
   "metadata": {},
   "outputs": [
    {
     "data": {
      "text/plain": [
       "<html>\n",
       "<body>\n",
       "<a class=\"gobookmark\" href=\"hanji?@96^1115717931^70^^^^@@682676597\" title=\"開啟書籤管理\">史／正史／宋書／志　凡三十卷／卷三十五　志第二十五／州郡一(P.1027)..[底本：宋元明三朝遞修本]</a>\n",
       "<span id=\"fontstyle\" style=\"FONT-SIZE: 12pt;letter-spacing:1pt; LINE-HEIGHT: 18pt;width:99%;word-break:break-all\">\n",
       "<b><h3>宋書卷三十五</h3></b><b><h3>　　志第二十五</h3></b><b><h3>　　　州郡一</h3></b><b><h3>　　　　揚州　南徐州　徐州　南兗州　兗州</h3></b><div style=\"text-indent:2em;padding-left:0em;\">唐堯之世，置十有二牧，及禹平水土，更制九州，冀州堯都，土界廣遠，濟、河為兗州，海、岱為青州，海、岱及淮為徐州，淮、海為揚州，荊及衡陽為荊州，荊、河為豫州，華陽、黑水為梁州，黑水、西河為雍州。自虞至殷無所改變。周氏既有天下，以徐并青，以梁并雍，分冀州之地以為幽、并。漢初又立徐、梁二州。武帝攘卻胡、越，開地斥境，南置交趾，北置朔方，改雍曰涼，改梁曰益，凡為十三州，而司隸部三輔、三河諸郡。東京無復朔方，改交趾曰交州，凡十二州；司隸所部如故。及三國鼎跱，吳得揚、荊、交三州，蜀得益州，魏氏猶得九焉。吳又分交為廣。魏末平蜀，又分益為梁。晉武帝太康元年，天下一統，凡十有六州。後又分涼、雍為秦，分荊、揚為江，分益為寧，分幽為平，而為二十矣。</div>\n",
       "<div style=\"text-indent:2em;padding-left:0em;\">自夷狄亂華，司、冀、雍、涼、青、并、兗、豫、幽、平諸州一時淪沒，遺民南渡，並僑置牧司，非舊土也。江左又分荊為湘，或離或合，凡有揚、荊、湘、江、梁、益、交、廣，其徐州則有過半，豫州唯得譙城而已。及至宋世，分揚州為南徐，徐州為南兗，揚州之江西悉屬豫州，分荊為雍，分荊、湘為郢，分荊為司，分廣為越，分青為冀，分梁為南北秦。太宗初，索虜南侵，青、冀、徐、兗及豫州淮西，並皆不守，自淮以北，化成虜庭。於是於鍾離置徐州，淮陰為北兗，而青、冀二州治贛榆之縣。今志大較以大明八年為正，其後分派，隨事記列。內史、侯、相，則以昇明末為定焉。</div>\n",
       "<div style=\"text-indent:2em;padding-left:0em;\">地理參差，其詳難舉，實由名號驟易，境土屢分，或一郡一縣，割成四五，四五之中，亟有離合，千回百改，巧曆不算，尋校推求，未易精悉。今以班固馬彪二志、太康元康定戶、王隱地道、晉世起居、永初郡國、何徐州郡及地理雜書，互相考覆。且三國無志，事出帝紀，雖立郡時見，而置縣不書。今唯以續漢郡國校太康地志，參伍異同，用相徵驗。自漢至宋，郡縣無移改者，則注云「漢舊」。其有回徙，隨源甄別。若唯云「某無」者，則此前皆有也。若不注置立，史闕也。</div>\n",
       "</span>\n",
       "</body>\n",
       "</html>"
      ]
     },
     "execution_count": 25,
     "metadata": {},
     "output_type": "execute_result"
    }
   ],
   "source": [
    "songshuGeo.flat_bodies[0]"
   ]
  },
  {
   "cell_type": "code",
   "execution_count": 12,
   "metadata": {},
   "outputs": [
    {
     "data": {
      "text/plain": [
       "23"
      ]
     },
     "execution_count": 12,
     "metadata": {},
     "output_type": "execute_result"
    }
   ],
   "source": [
    "len(songshuGeo.flat_bodies)"
   ]
  }
 ],
 "metadata": {
  "colab": {
   "name": "SongShu -- Geo Extraction.ipynb",
   "provenance": [],
   "version": "0.3.2"
  },
  "kernelspec": {
   "display_name": "Python 3",
   "language": "python",
   "name": "python3"
  },
  "language_info": {
   "codemirror_mode": {
    "name": "ipython",
    "version": 3
   },
   "file_extension": ".py",
   "mimetype": "text/x-python",
   "name": "python",
   "nbconvert_exporter": "python",
   "pygments_lexer": "ipython3",
   "version": "3.6.8"
  }
 },
 "nbformat": 4,
 "nbformat_minor": 2
}

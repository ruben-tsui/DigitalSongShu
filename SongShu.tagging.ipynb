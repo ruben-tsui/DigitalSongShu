{
 "cells": [
  {
   "cell_type": "markdown",
   "metadata": {},
   "source": [
    "### **Digital SongShu Project**\n",
    "#### Last updated 2018-03-05 by Ruben G. Tsui"
   ]
  },
  {
   "cell_type": "code",
   "execution_count": 1,
   "metadata": {
    "colab": {},
    "colab_type": "code",
    "id": "VZVgJhGL7i0n"
   },
   "outputs": [],
   "source": [
    "import json\n",
    "from SongShu import SongShu\n",
    "import re\n",
    "import pandas as pd\n",
    "from bs4 import BeautifulSoup\n",
    "import altair"
   ]
  },
  {
   "cell_type": "markdown",
   "metadata": {
    "colab_type": "text",
    "id": "Rb6_NbIb7i0q"
   },
   "source": [
    "## SongShu -- tagging names, offices, places\n",
    "##### <font color='red'>*Change your Songshu html data folder below*</font>"
   ]
  },
  {
   "cell_type": "code",
   "execution_count": 2,
   "metadata": {
    "colab": {},
    "colab_type": "code",
    "id": "TrRyrgdR7i0r",
    "outputId": "de1a17de-313d-468a-db2d-5c8d04fce614"
   },
   "outputs": [
    {
     "name": "stderr",
     "output_type": "stream",
     "text": [
      "INFO:root:Stop at loading C:\\NLP\\Raft\\Song shu-20181231T032348Z-001\\data - Song shu\\SongShu_0851.html.\n",
      "INFO:root:Total length of the data is 851.\n",
      "ERROR:root:[Error] SongShu_rare_char.json does not exist\n",
      "\n",
      "            try to run these lines: \n",
      "            \t>> self.extract_rare_chars()\n",
      "            \t>> self.write_rare_chars()\n",
      "\n",
      "INFO:root:Remove 標註, page number, and page dividers from the tree structure.\n",
      "INFO:root:Remove the new lines added by the page dividers, connect the paragraphs before and after the new lines.\n",
      "WARNING:root:Not the right indent.史／正史／宋書／志　凡三十卷／卷二十二　志第十二／樂四(P.625)..[底本：宋元明三朝遞修本]\n",
      "WARNING:root:Not the right indent.史／正史／宋書／志　凡三十卷／卷二十二　志第十二／樂四／魏鼓吹曲十二篇　繆襲／初之平曲(P.644)..[底本：宋元明三朝遞修本]\n",
      "WARNING:root:Not the right indent.史／正史／宋書／志　凡三十卷／卷二十二　志第十二／樂四／魏鼓吹曲十二篇　繆襲／戰滎陽曲(P.644)..[底本：宋元明三朝遞修本]\n",
      "WARNING:root:Not the right indent.史／正史／宋書／志　凡三十卷／卷二十二　志第十二／樂四／魏鼓吹曲十二篇　繆襲／獲呂布曲(P.644)..[底本：宋元明三朝遞修本]\n",
      "WARNING:root:Not the right indent.史／正史／宋書／志　凡三十卷／卷二十二　志第十二／樂四／魏鼓吹曲十二篇　繆襲／克官渡曲(P.645)..[底本：宋元明三朝遞修本]\n",
      "WARNING:root:Not the right indent.史／正史／宋書／志　凡三十卷／卷二十二　志第十二／樂四／魏鼓吹曲十二篇　繆襲／舊邦曲(P.645)..[底本：宋元明三朝遞修本]\n",
      "WARNING:root:Not the right indent.史／正史／宋書／志　凡三十卷／卷二十二　志第十二／樂四／魏鼓吹曲十二篇　繆襲／定武功曲(P.645)..[底本：宋元明三朝遞修本]\n",
      "WARNING:root:Not the right indent.史／正史／宋書／志　凡三十卷／卷二十二　志第十二／樂四／魏鼓吹曲十二篇　繆襲／屠柳城曲(P.646)..[底本：宋元明三朝遞修本]\n",
      "WARNING:root:Not the right indent.史／正史／宋書／志　凡三十卷／卷二十二　志第十二／樂四／魏鼓吹曲十二篇　繆襲／平南荊曲(P.646)..[底本：宋元明三朝遞修本]\n",
      "WARNING:root:Not the right indent.史／正史／宋書／志　凡三十卷／卷二十二　志第十二／樂四／魏鼓吹曲十二篇　繆襲／平關中曲(P.646)..[底本：宋元明三朝遞修本]\n",
      "WARNING:root:Not the right indent.史／正史／宋書／志　凡三十卷／卷二十二　志第十二／樂四／魏鼓吹曲十二篇　繆襲／應帝期曲(P.646)..[底本：宋元明三朝遞修本]\n",
      "WARNING:root:Not the right indent.史／正史／宋書／志　凡三十卷／卷二十二　志第十二／樂四／魏鼓吹曲十二篇　繆襲／邕熙曲(P.647)..[底本：宋元明三朝遞修本]\n",
      "WARNING:root:Not the right indent.史／正史／宋書／志　凡三十卷／卷二十二　志第十二／樂四／魏鼓吹曲十二篇　繆襲／太和曲(P.647)..[底本：宋元明三朝遞修本]\n",
      "WARNING:root:Not the right indent.史／正史／宋書／志　凡三十卷／卷二十二　志第十二／樂四／吳鼓吹曲十二篇　韋昭／炎精缺曲凡三十句，句三字(P.656)..[底本：宋元明三朝遞修本]\n",
      "WARNING:root:Not the right indent.史／正史／宋書／志　凡三十卷／卷二十二　志第十二／樂四／吳鼓吹曲十二篇　韋昭／漢之季曲凡二十句，其十八句句三字，二句句四字(P.656)..[底本：宋元明三朝遞修本]\n",
      "WARNING:root:Not the right indent.史／正史／宋書／志　凡三十卷／卷二十二　志第十二／樂四／吳鼓吹曲十二篇　韋昭／攄武師曲凡六句，其三句句三字，三句句四字(P.657)..[底本：宋元明三朝遞修本]\n",
      "WARNING:root:Not the right indent.史／正史／宋書／志　凡三十卷／卷二十二　志第十二／樂四／吳鼓吹曲十二篇　韋昭／伐烏林曲凡十八句，其十句句四字，八句句三字(P.657)..[底本：宋元明三朝遞修本]\n",
      "WARNING:root:Not the right indent.史／正史／宋書／志　凡三十卷／卷二十二　志第十二／樂四／吳鼓吹曲十二篇　韋昭／秋風曲凡十五句，其十四句句五字，一句四字(P.657)..[底本：宋元明三朝遞修本]\n",
      "WARNING:root:Not the right indent.史／正史／宋書／志　凡三十卷／卷二十二　志第十二／樂四／吳鼓吹曲十二篇　韋昭／克皖城曲凡十二句，其六句句三字，六句句四字(P.657)..[底本：宋元明三朝遞修本]\n",
      "WARNING:root:Not the right indent.史／正史／宋書／志　凡三十卷／卷二十二　志第十二／樂四／吳鼓吹曲十二篇　韋昭／關背德曲凡二十一句，其八句句四字，二句句六字，七句句五字，四句句三字(P.658)..[底本：宋元明三朝遞修本]\n",
      "WARNING:root:Not the right indent.史／正史／宋書／志　凡三十卷／卷二十二　志第十二／樂四／吳鼓吹曲十二篇　韋昭／通荊門曲凡二十四句，其十七句句五字，四句句三字，三句句四字(P.658)..[底本：宋元明三朝遞修本]\n",
      "WARNING:root:Not the right indent.史／正史／宋書／志　凡三十卷／卷二十二　志第十二／樂四／吳鼓吹曲十二篇　韋昭／章洪德曲凡十句，其八句句三字，二句句四字(P.659)..[底本：宋元明三朝遞修本]\n",
      "WARNING:root:Not the right indent.史／正史／宋書／志　凡三十卷／卷二十二　志第十二／樂四／吳鼓吹曲十二篇　韋昭／從曆數曲凡二十六句，其一句句三字，三句句四字，二十二句句五字，一句六字(P.659)..[底本：宋元明三朝遞修本]\n",
      "WARNING:root:Not the right indent.史／正史／宋書／志　凡三十卷／卷二十二　志第十二／樂四／吳鼓吹曲十二篇　韋昭／承天命曲凡三十四句，其十九句句三字，二句句五字，十三句句四字(P.659)..[底本：宋元明三朝遞修本]\n",
      "WARNING:root:Not the right indent.史／正史／宋書／志　凡三十卷／卷二十二　志第十二／樂四／吳鼓吹曲十二篇　韋昭／玄化曲凡十三句，其五句句五字，二句句三字，三句句四字，三句句七字(P.660)..[底本：宋元明三朝遞修本]\n",
      "WARNING:root:Not the right indent.史／正史／宋書／志　凡三十卷／卷四十　志第三十／百官下／第一品(P.1260)..[底本：宋元明三朝遞修本]\n",
      "WARNING:root:Not the right indent.史／正史／宋書／志　凡三十卷／卷四十　志第三十／百官下／第二品(P.1260)..[底本：宋元明三朝遞修本]\n",
      "WARNING:root:Not the right indent.史／正史／宋書／志　凡三十卷／卷四十　志第三十／百官下／第三品(P.1261)..[底本：宋元明三朝遞修本]\n",
      "WARNING:root:Not the right indent.史／正史／宋書／志　凡三十卷／卷四十　志第三十／百官下／第四品(P.1261)..[底本：宋元明三朝遞修本]\n",
      "WARNING:root:Not the right indent.史／正史／宋書／志　凡三十卷／卷四十　志第三十／百官下／第五品(P.1262)..[底本：宋元明三朝遞修本]\n",
      "WARNING:root:Not the right indent.史／正史／宋書／志　凡三十卷／卷四十　志第三十／百官下／第六品(P.1263)..[底本：宋元明三朝遞修本]\n",
      "WARNING:root:Not the right indent.史／正史／宋書／志　凡三十卷／卷四十　志第三十／百官下／第七品(P.1264)..[底本：宋元明三朝遞修本]\n",
      "WARNING:root:Not the right indent.史／正史／宋書／志　凡三十卷／卷四十　志第三十／百官下／第八品(P.1264)..[底本：宋元明三朝遞修本]\n",
      "WARNING:root:Not the right indent.史／正史／宋書／志　凡三十卷／卷四十　志第三十／百官下／第九品(P.1265)..[底本：宋元明三朝遞修本]\n"
     ]
    }
   ],
   "source": [
    "songshu = SongShu(\"2019-03-05\", \"RBT\")\n",
    "songshu.load_htmls(r'C:\\NLP\\Raft\\Song shu-20181231T032348Z-001\\data - Song shu')\n",
    "songshu.extract_all()"
   ]
  },
  {
   "cell_type": "code",
   "execution_count": 3,
   "metadata": {},
   "outputs": [
    {
     "data": {
      "text/plain": [
       "851"
      ]
     },
     "execution_count": 3,
     "metadata": {},
     "output_type": "execute_result"
    }
   ],
   "source": [
    "len(songshu.flat_bodies)"
   ]
  },
  {
   "cell_type": "markdown",
   "metadata": {},
   "source": [
    "### Let's just deal with Scroll 001 for now <font color='red'>(skip this for now)</font>"
   ]
  },
  {
   "cell_type": "code",
   "execution_count": 33,
   "metadata": {},
   "outputs": [],
   "source": [
    "scroll001 = songshu.flat_bodies[0]  # 卷001"
   ]
  },
  {
   "cell_type": "code",
   "execution_count": 34,
   "metadata": {},
   "outputs": [
    {
     "data": {
      "text/plain": [
       "67"
      ]
     },
     "execution_count": 34,
     "metadata": {},
     "output_type": "execute_result"
    }
   ],
   "source": [
    "len(scroll001.html.body.span.find_all('div'))  # each <div> tag contains one paragraph "
   ]
  },
  {
   "cell_type": "code",
   "execution_count": 35,
   "metadata": {},
   "outputs": [
    {
     "name": "stdout",
     "output_type": "stream",
     "text": [
      "高祖武皇帝諱裕，字德輿，小名寄奴，彭城縣綏輿里人，漢高帝弟楚元王交之後也。交生紅懿侯富，富生宗正辟彊，辟彊生陽城繆侯德，德生陽城節侯安民，安民生陽城釐侯慶忌，慶忌生陽城肅侯岑，岑生宗正平，平生東武城令某，某生東萊太守景，景生明經洽，洽生博士弘，弘生瑯邪都尉悝，悝生魏定襄太守某，某生邪城令亮，亮生晉北平太守膺，膺生相國掾熙，熙生開封令旭孫。旭孫生混，始過江，居晉陵郡丹徒縣之京口里，官至武原令。混生東安太守靖，靖生郡功曹翹，是為皇考。高祖以晉哀帝興寧元年歲次癸亥三月壬寅夜生。及長，身長七尺六寸，風骨奇特。家貧，有大志，不治廉隅。事繼母以孝謹稱。\n",
      "------------------------------------------------------------\n",
      "初為冠軍孫無終司馬。安帝隆安三年十一月，妖賊孫恩作亂於會稽，晉朝衞將軍謝琰、前將軍劉牢之東討。牢之請高祖參府軍事。十二月，牢之至吳，而賊緣道屯結，牢之命高祖與數十人覘賊遠近。會遇賊至，眾數千人，高祖便進與戰。所將人多死，而戰意方厲，手奮長刀，所殺傷甚眾。牢之子敬宣疑高祖淹久，恐為賊所困，乃輕騎尋之。既而眾騎並至，賊乃奔退，斬獲千餘人，推鋒而進，平山陰，恩遁還入海。\n",
      "------------------------------------------------------------\n",
      "四年五月，恩復入會稽，殺衞將軍謝琰。十一月，劉牢之復率眾東征，恩退走。牢之屯上虞，使高祖戍句章城。句章城既卑小，戰士不盈數百人，高祖常被堅執銳，為士卒先，每戰輒摧鋒陷陣，賊乃退還浹口。于時東伐諸帥，御軍無律，士卒暴掠，甚為百姓所苦。唯高祖法令明整，所至莫不親賴焉。\n",
      "------------------------------------------------------------\n",
      "五年春，孫恩頻攻句章，高祖屢摧破之，恩復走入海。三月，恩北出海鹽，高祖追而翼之，築城于海鹽故治。賊日來攻城，城內兵力甚弱，高祖乃選敢死之士數百人，咸脫甲冑，執短兵，並鼓噪而出，賊震懼奪氣，因其懼而奔之，並棄甲散走，斬其大帥姚盛。雖連戰剋勝，然眾寡不敵，高祖獨深慮之。一夜，偃旗匿眾，若已遁者。明晨開門，使羸疾數人登城。賊遙問劉裕所在。曰：「夜已走矣。」賊信之，乃率眾大上。高祖乘其懈怠，奮擊，大破之。恩知城不可下，乃進向滬瀆。高祖復棄城追之。海鹽令鮑陋遣子嗣之以吳兵一千，請為前驅。高祖曰：「賊兵甚精，吳人不習戰，若前驅失利，必敗我軍。可在後為聲援。」不從。是夜，高祖多設伏兵，兼置旗鼓，然一處不過數人。明日，賊率眾萬餘迎戰。前驅既交，諸伏皆出，舉旗鳴鼓。賊謂四面有軍，乃退。嗣之追奔，為賊所沒。高祖且戰且退，賊盛，所領死傷且盡。高祖慮不免，至向伏兵處，乃止，令左右脫取死人衣。賊謂當走反停，疑猶有伏。高祖因呼更戰，氣色甚猛，賊眾以為然，乃引軍去。高祖徐歸，然後散兵稍集。五月，孫恩破滬瀆，殺吳國內史袁山松，死者四千人。是月，高祖復破賊於婁縣。\n",
      "------------------------------------------------------------\n",
      "六月，恩乘勝浮海，奄至丹徒，戰士十餘萬。劉牢之猶屯山陰，京邑震動。高祖倍道兼行，與賊俱至。于時眾力既寡，加以步遠疲勞，而丹徒守軍莫有鬭志。恩率眾數萬，鼓噪登蒜山，居民皆荷擔而立。高祖率所領奔擊，大破之，投巘赴水死者甚眾。恩以彭排音敗自載，僅得還船。雖被摧破，猶恃其眾力，徑向京師。樓船高大，值風不得進，旬日乃至白石。尋知劉牢之已還，朝廷有備，遂走向鬱洲。八月，以高祖為建武將軍、下邳太守，領水軍追討至鬱洲，復大破恩。恩南走。十一月，高祖追恩於滬瀆，及海鹽，又破之。三戰並大獲，俘馘以萬數。恩自是饑饉疾疫，死者太半，自浹口奔臨海。\n"
     ]
    }
   ],
   "source": [
    "paragraphs = [] # save each paragraph as an element in this list\n",
    "for c in scroll001.html.body.span.find_all('div'):\n",
    "    paragraphs.append(c.text)\n",
    "    \n",
    "sep = f\"\\n{'-'*60}\\n\"    ## paragraph separator (newline, -----, newline)\n",
    "print(sep.join(paragraphs[:5]))"
   ]
  },
  {
   "cell_type": "markdown",
   "metadata": {},
   "source": [
    "#### Define tagging functions"
   ]
  },
  {
   "cell_type": "code",
   "execution_count": 4,
   "metadata": {},
   "outputs": [],
   "source": [
    "def annotate_name(tagging_unit, df, col):\n",
    "    '''\n",
    "    This function annotates 'tagging_unit' (which is a paragraph for now) by matching the\n",
    "    values from column 'col' in the dataframe 'df'; it then creates the tag\n",
    "    <name id=''></name>, where the attribute id is from the \"id\" column of 'df'. \n",
    "    \n",
    "    Inputs:\n",
    "        tagging_unit = e.g. text of a paragraph\n",
    "        df           = Pandas dataframe containing strings to be matched (e.g. names)\n",
    "        col          = column name for the values to be matched\n",
    "    Output:\n",
    "        The function returns a string containing the tagged text\n",
    "    \n",
    "    Example usage:\n",
    "       annotate_name(paragraph[0], bio_df, '姓名')\n",
    "    '''\n",
    "    tag = 'n' # 'name'\n",
    "    tagged = tagging_unit\n",
    "    for idx, row in df.iterrows():\n",
    "        id_  = row['id'] # this is interpreted as the unique key to the dataframe \n",
    "        name = row[col]  # e.g. 姓名\n",
    "        if name in tagged:\n",
    "            tagged = tagged.replace(name, f\"<{tag} id='{id_}'>{name}</{tag}>\")\n",
    "    return tagged"
   ]
  },
  {
   "cell_type": "code",
   "execution_count": 5,
   "metadata": {},
   "outputs": [],
   "source": [
    "def annotate_office(tagging_unit, df, col):\n",
    "    '''\n",
    "    This function works similarly as annotate_name().\n",
    "    \n",
    "    Inputs:\n",
    "       tagging_unit = e.g. text of a paragraph\n",
    "       df           = Pandas dataframe containing strings to be matched (e.g. office)\n",
    "       col          = column name for the values to be matched\n",
    "       \n",
    "    Example usage:\n",
    "       annotate_name(paragraph[0], bio_df, 'Name') # 'Name' here corresponds to the column containing official tutles\n",
    "    '''\n",
    "    tag = 'o' # 'office'\n",
    "    tagged = tagging_unit\n",
    "    for idx, row in df.iterrows():\n",
    "        id_  = row['ID'] # this is interpreted as the unique key to the dataframe \n",
    "        office = row[col]\n",
    "        if office in tagged:\n",
    "            tagged = tagged.replace(office, f\"<{tag} id='{id_}'>{office}</{tag}>\")\n",
    "    return tagged"
   ]
  },
  {
   "cell_type": "markdown",
   "metadata": {},
   "source": [
    "#### Read names, offices and places data from Excel worksheets"
   ]
  },
  {
   "cell_type": "code",
   "execution_count": 24,
   "metadata": {},
   "outputs": [
    {
     "name": "stdout",
     "output_type": "stream",
     "text": [
      "Wall time: 712 ms\n"
     ]
    }
   ],
   "source": [
    "%%time\n",
    "bio_df    = pd.read_excel(\"BioCombinedSorted.xlsx\")  # This file has been processed previously\n",
    "                                                              # requires no further actions\n",
    "office_df = pd.read_excel(\"劉宋地名與官名 2017-11-14.xlsx\", sheet_name=\"Offices\")  # this will be sorted later\n",
    "place_df  = pd.read_excel(\"劉宋地名與官名 2017-11-14.xlsx\", sheet_name=\"Places\")   # this will be sorted later"
   ]
  },
  {
   "cell_type": "markdown",
   "metadata": {},
   "source": [
    "#### Define function to sort a dataframe by the length of value in a column, in descending order, so that longer string will match first."
   ]
  },
  {
   "cell_type": "code",
   "execution_count": 16,
   "metadata": {},
   "outputs": [],
   "source": [
    "def sort_by_length_of_indicated_column(df, col, ascending=False):\n",
    "    s = df[col].str.len().sort_values(ascending=ascending).index\n",
    "    df_out = df.reindex(s)\n",
    "    return df_out"
   ]
  },
  {
   "cell_type": "code",
   "execution_count": 17,
   "metadata": {},
   "outputs": [],
   "source": [
    "office_df = sort_by_length_of_indicated_column(office_df, 'Name')\n",
    "place_df  = sort_by_length_of_indicated_column(place_df, 'Name')"
   ]
  },
  {
   "cell_type": "code",
   "execution_count": 18,
   "metadata": {},
   "outputs": [],
   "source": [
    "office_df = office_df[:-7]  # remove last 7 entries, which are single-character official titles"
   ]
  },
  {
   "cell_type": "code",
   "execution_count": 19,
   "metadata": {},
   "outputs": [
    {
     "data": {
      "text/html": [
       "<div>\n",
       "<style scoped>\n",
       "    .dataframe tbody tr th:only-of-type {\n",
       "        vertical-align: middle;\n",
       "    }\n",
       "\n",
       "    .dataframe tbody tr th {\n",
       "        vertical-align: top;\n",
       "    }\n",
       "\n",
       "    .dataframe thead th {\n",
       "        text-align: right;\n",
       "    }\n",
       "</style>\n",
       "<table border=\"1\" class=\"dataframe\">\n",
       "  <thead>\n",
       "    <tr style=\"text-align: right;\">\n",
       "      <th></th>\n",
       "      <th>ID</th>\n",
       "      <th>Name</th>\n",
       "    </tr>\n",
       "  </thead>\n",
       "  <tbody>\n",
       "    <tr>\n",
       "      <th>306</th>\n",
       "      <td>lso307</td>\n",
       "      <td>衛尉</td>\n",
       "    </tr>\n",
       "    <tr>\n",
       "      <th>309</th>\n",
       "      <td>lso310</td>\n",
       "      <td>廷尉</td>\n",
       "    </tr>\n",
       "    <tr>\n",
       "      <th>331</th>\n",
       "      <td>lso332</td>\n",
       "      <td>少府</td>\n",
       "    </tr>\n",
       "    <tr>\n",
       "      <th>330</th>\n",
       "      <td>lso331</td>\n",
       "      <td>甸師</td>\n",
       "    </tr>\n",
       "    <tr>\n",
       "      <th>319</th>\n",
       "      <td>lso320</td>\n",
       "      <td>太府</td>\n",
       "    </tr>\n",
       "  </tbody>\n",
       "</table>\n",
       "</div>"
      ],
      "text/plain": [
       "         ID Name\n",
       "306  lso307   衛尉\n",
       "309  lso310   廷尉\n",
       "331  lso332   少府\n",
       "330  lso331   甸師\n",
       "319  lso320   太府"
      ]
     },
     "execution_count": 19,
     "metadata": {},
     "output_type": "execute_result"
    }
   ],
   "source": [
    "office_df.tail()"
   ]
  },
  {
   "cell_type": "markdown",
   "metadata": {},
   "source": [
    "### Deal with variant characters"
   ]
  },
  {
   "cell_type": "code",
   "execution_count": 60,
   "metadata": {},
   "outputs": [],
   "source": [
    "#all_paragraphs = all_paragraphs.replace('衞','衛')"
   ]
  },
  {
   "cell_type": "markdown",
   "metadata": {},
   "source": [
    "### Apply tagging on entire SongShu"
   ]
  },
  {
   "cell_type": "code",
   "execution_count": 25,
   "metadata": {},
   "outputs": [
    {
     "name": "stdout",
     "output_type": "stream",
     "text": [
      "processed 5 sections\n",
      "processed 10 sections\n",
      "processed 15 sections\n",
      "processed 20 sections\n",
      "processed 25 sections\n",
      "processed 30 sections\n",
      "processed 35 sections\n",
      "processed 40 sections\n",
      "processed 45 sections\n",
      "processed 50 sections\n",
      "processed 55 sections\n",
      "processed 60 sections\n",
      "processed 65 sections\n",
      "processed 70 sections\n",
      "processed 75 sections\n",
      "processed 80 sections\n",
      "processed 85 sections\n",
      "processed 90 sections\n",
      "processed 95 sections\n",
      "processed 100 sections\n",
      "Wall time: 2min 30s\n"
     ]
    }
   ],
   "source": [
    "%%time\n",
    "sep = '|#|#|#|#|'  # paragraph separator\n",
    "\n",
    "fo = open('songshu.all.names.offices.tagged.000-100.txt', 'w', encoding='utf-8', newline='\\n')\n",
    "\n",
    "i = 0\n",
    "for section in songshu.flat_bodies[i:i+100]: # start with a smaller subset\n",
    "    #\n",
    "    paragraphs = [] # for each section, save each paragraph as an element in this list\n",
    "    for c in section.html.body.span.find_all('div'):\n",
    "        paragraphs.append(c.text)\n",
    "    all_paragraphs = sep.join(paragraphs) # collapse list into a single string for faster processing\n",
    "    all_paragraphs = all_paragraphs.replace('衞','衛')\n",
    "    annotated = annotate_name(all_paragraphs, bio_df, 'name')\n",
    "    annotated = annotate_office(annotated, office_df, 'Name')\n",
    "    fo.write(f\"Flat_bodies section {i}\\n\")\n",
    "    for line in annotated.split(sep):\n",
    "        fo.write(line + '\\n')\n",
    "    fo.write(f\"{'-'*60}\\n\")\n",
    "    i += 1\n",
    "    if i % 5 == 0:\n",
    "        print(f\"processed {i} sections\")\n",
    "fo.close()"
   ]
  },
  {
   "cell_type": "code",
   "execution_count": 22,
   "metadata": {},
   "outputs": [],
   "source": [
    "fo.close()"
   ]
  },
  {
   "cell_type": "code",
   "execution_count": 16,
   "metadata": {},
   "outputs": [
    {
     "data": {
      "text/plain": [
       "<html>\n",
       "<body>\n",
       "<a class=\"gobookmark\" href=\"hanji?@96^1115717931^70^^^^@@1047099258\" title=\"開啟書籤管理\">史／正史／宋書／志　凡三十卷／卷三十九　志第二十九／百官上(P.1217)..[底本：宋元明三朝遞修本]</a>\n",
       "<span id=\"fontstyle\" style=\"FONT-SIZE: 12pt;letter-spacing:1pt; LINE-HEIGHT: 18pt;width:99%;word-break:break-all\">\n",
       "<b><h3>宋書卷三十九</h3></b><b><h3>　　志第二十九</h3></b><b><h3>　　　百官上</h3></b><div style=\"text-indent:2em;padding-left:0em;\">太宰，一人。周武王時，周公旦始居之，掌邦治，為六卿之首。秦、漢、魏不常置。晉初依周禮，備置三公。三公之職，太師居首，景帝名師，故置太宰以代之。太宰，蓋古之太師也。殷紂之時，箕子為太師。周武王時，太公為太師。周成王時，周公為太師。周公薨，畢公代之。漢西京初不置，平帝始復置太師官，而孔光居焉。漢東京又廢。獻帝初，董卓為太師，卓誅又廢。魏世不置。晉既因太師而置太宰，以安平王孚居焉。</div>\n",
       "<div style=\"text-indent:2em;padding-left:0em;\">太傅，一人。周成王時，畢公為太傅。漢高后元年，初用王陵。</div>\n",
       "<div style=\"text-indent:2em;padding-left:0em;\">太保，一人。殷太甲時，伊尹為太保。周武王時，召公為太保。漢平帝元始元年，始用王舜。後漢至魏不置，晉初復置焉。自太師至太保，是為三公。論道經邦，燮理陰陽，無其人則闕，所以訓護人主，導以德義者。</div>\n",
       "<div style=\"text-indent:2em;padding-left:0em;\">相國，一人。漢高帝十一年始置，以蕭何居之，罷丞相；何薨，曹參代之；參薨，罷。魏齊王以晉景帝為相國。晉惠帝時趙王倫，愍帝時南陽王保，安帝時宋高祖，順帝時齊王，並為相國。自魏、晉以來，非復人臣之位矣。</div>\n",
       "<div style=\"text-indent:2em;padding-left:0em;\">丞相，一人。殷湯以伊尹為右相，仲虺為左相。秦悼武王二年，始置丞相官。丞，奉。相，助也。悼武王子昭襄王始以樗里疾為丞相，後又置左右丞相。漢高帝初，置一丞相，十一年，更名相國。孝惠、高后置左右丞相，文帝二年，復置一丞相。哀帝元壽二年，更名大司徒。漢東京不復置。至獻帝建安十三年，復置丞相，魏世及晉初又廢。惠帝世，趙王倫篡位，以梁王肜為丞相。永興元年，以成都王穎為丞相。愍帝建興元年，以琅邪王睿為左丞相，南陽王保為右丞相；三年，以保為相國，睿為丞相。元帝永昌元年，以王敦為丞相，轉司徒荀組為太尉，以司徒官屬并丞相為留府，敦不受。成帝世，以王導為丞相，罷司徒府以為丞相府，導薨，罷丞相，復為司徒府。宋世祖初，以南郡王義宣為丞相，而司徒府如故。</div>\n",
       "<div style=\"text-indent:2em;padding-left:0em;\">太尉，一人。自上安下曰尉。掌兵事，郊祀掌亞獻，大喪則告諡南郊。堯時舜為太尉官，漢因之。武帝建元二年省。光武建武二十七年，罷大司馬，置太尉以代之。靈帝末，以劉虞為大司馬，而太尉如故。</div>\n",
       "<div style=\"text-indent:2em;padding-left:0em;\">司徒，一人。掌民事，郊祀掌省牲視濯，大喪安梓宮。少昊氏以鳥名官，而祝鳩氏為司徒。堯時舜為司徒。舜攝帝位，命契為司徒。契玄孫之孫曰微，亦為夏司徒。周時司徒為地官，掌邦教。漢西京初不置。哀帝元壽二年，罷丞相，罷大司徒。光武建武二十七年，去大。</div>\n",
       "<div style=\"text-indent:2em;padding-left:0em;\">司空，一人。掌水土事，郊祀掌掃除陳樂器，大喪掌將校復土。舜攝帝位，以禹為司空。契玄孫之子曰冥，亦為夏司空。殷湯以咎單為司空。周時司空為冬官，掌邦事。漢西京初不置。成帝綏和元年，更名御史大夫為大司空；哀帝建平二年，復為御史大夫；元壽二年，復為大司空；光武建武二十七年去大字。獻帝建安十三年，又罷司空，置御史大夫。御史大夫郗慮免，不復補。魏初又置司空。</div>\n",
       "<div style=\"text-indent:2em;padding-left:0em;\">大司馬，一人。掌武事。司，主也。馬，武也。堯時棄為后稷，兼掌司馬。周時司馬為夏官，掌邦政。項籍以曹無咎、周殷並為大司馬。漢初不置。武帝元狩四年，初置大司馬。始直云司馬，議者以漢有軍候千人司馬官，故加大。及置司空，又以縣道官有獄司空，又加大。王莽居攝，以漢無小司徒，而定司馬、司徒、司空之號並加大。光武建武二十七年，省大司馬，以太尉代之。魏文帝黃初二年，復置大司馬，以曹仁居之，而太尉如故。</div>\n",
       "<div style=\"text-indent:2em;padding-left:0em;\">大將軍，一人。凡將軍皆掌征伐。周制，王立六軍。晉獻公作二軍，公將上軍。將軍之名，起於此也。楚懷王遣三將入關，宋義為上將。漢高帝以韓信為大將軍。漢西京以大司馬冠之。漢東京大將軍自為官，位在三司上。魏明帝青龍三年，晉宣帝自大將軍為太尉，然則大將軍在三司下矣。其後又在三司上。晉景帝為大將軍，而景帝叔父孚為太尉，奏改大將軍在太尉下，後還復舊。</div>\n",
       "<div style=\"text-indent:2em;padding-left:0em;\">晉武帝踐阼，安平王孚為太宰，鄭沖為太傅，王祥為太保，義陽王望為太尉，何曾為司徒，荀顗為司空，石苞為大司馬，陳騫為大將軍，凡八公同時並置，唯無丞相焉。</div>\n",
       "<div style=\"text-indent:2em;padding-left:0em;\">有蒼頭字宜祿。至漢，丞相府每有所關白，到閤輒傳呼「宜祿」，以此為常。</div>\n",
       "<div style=\"text-indent:2em;padding-left:0em;\">丞相置三長史。丞相有疾，御史大夫率百僚三旦問起居，及瘳，詔遣尚書令若光祿大夫賜養牛，上尊酒。漢景帝三公病，遣中黃門問病。魏、晉則黃門郎，尤重者或侍中也。魏武為丞相以來，置左右二長史而已。漢東京太傅府置掾、屬十人，御屬一人，令史十二人，不知皆何曹也。自太尉至大將軍、驃騎、車騎、衞將軍，皆有長史一人，將軍又各置司馬一人，太傅不置長史也。</div>\n",
       "<div style=\"text-indent:2em;padding-left:0em;\">太尉府置掾、屬二十四人，西曹主府吏署用事，東曹主二千石長吏遷除事，戶曹主民戶祠祀農桑事，奏曹主奏議事，辭曹主辭訟事，法曹主郵驛科程事，尉曹主卒徒轉運事，賊曹主盜賊事，決曹主罪法事，兵曹主兵事，金曹主貨幣鹽鐵事，倉曹主倉穀事，黃閤主簿省錄眾事。御屬一人，令史二十二人。御屬主為公御，令史則有閤下、記室、門下令史，其餘史闕。案掾、屬二十四人，自東西曹凡十二曹，然則曹各置掾、屬一人，合二十四人也。</div>\n",
       "<div style=\"text-indent:2em;padding-left:0em;\">司徒置掾、屬三十一人，御屬一人，令史三十五人。司空置掾二十九人，御屬一人，令史三十一人。司空別有道橋掾。其餘張減之號，史闕不可得知也。</div>\n",
       "<div style=\"text-indent:2em;padding-left:0em;\">漢東京大將軍、驃騎將軍從事中郎二人，掾、屬二十九人，御屬一人，令史三十人。騎、衞將軍從事中郎二人，掾、屬二十人，御屬一人，令史二十四人。兵曹掾史主兵事，稟假掾史主稟假，又置外刺姦主罪法。其領兵外討，則營有五部，部有校尉一人，軍司馬一人；部下有曲，曲有軍候一人；曲下有屯，屯有屯長一人。若不置校尉，則部但有軍司馬一人。又有軍假司馬、軍假候，其別營者則為別部司馬。其餘將軍置以征伐者，府無員職，亦有部曲司馬、軍候以領兵焉。案大將軍以下掾屬與三府張減，史闕不可得知。置令史、御屬者，則是同三府也。其云掾史者，則是有掾而無屬，又無令史、御屬，不同三府也。</div>\n",
       "<div style=\"text-indent:2em;padding-left:0em;\">魏初公府職僚，史不備書。及晉景帝為大將軍，置掾十人，西曹、東曹、戶曹、倉曹、賊曹、金曹、水曹、兵曹、騎兵各一人，則無屬矣。魏元帝咸熙中，晉文帝為相國，相國府置中衞將軍、驍騎將軍、左右長史、司馬、從事中郎四人，主簿四人，舍人十九人，參軍二十二人，參戰十一人，掾、屬三十三人。東曹掾、屬各一人，西曹屬一人，戶曹掾一人，屬二人，賊曹掾一人，屬二人，金曹掾、屬各一人，兵曹掾、屬各一人，騎兵掾二人，屬一人，車曹掾、屬各一人，鎧曹掾、屬各一人，水曹掾、屬各一人，集曹掾、屬各一人，法曹掾、屬各一人，奏曹掾、屬各一人，倉曹屬二人，戎曹屬一人，馬曹屬一人，媒曹屬一人，合為三十三人。散屬九人，凡四十二人。</div>\n",
       "<div style=\"text-indent:2em;padding-left:0em;\">晉初凡位從公以上，置長史、西閤、東閤祭酒、西曹、東曹掾、戶曹、倉曹、賊曹屬各一人；加兵者又置司馬、從事中郎、主簿、記室督各一人，舍人四人；為持節都督者，置參軍六人。安平獻王孚為太宰，增掾、屬為十人，兵、鎧、士、營軍、刺姦五曹皆置屬，并前為十人也。楊駿為太傅，增祭酒為四人，掾、屬為二十人，兵曹分為左、右、法、金、田、集、水、戎、車、馬十曹，皆置屬，則為二十人。趙王倫為相國，置左右長史、司馬、從事中郎四人，參軍二十人，主簿、記室督、祭酒各四人，掾、屬四十人。東西曹又置屬，其餘十八曹皆置掾，則四十人矣。凡諸曹皆置御屬、令史、學幹，御屬職錄事也。</div>\n",
       "<div style=\"text-indent:2em;padding-left:0em;\">江左以來，諸公置長史、倉曹掾、戶曹屬、東西閤祭酒各一人，主簿、舍人二人，御屬二人，令史無定員。領兵者置司馬一人，從事中郎二人，參軍無定員；加崇者置左右長史、司馬、從事中郎四人，掾、屬四人，則倉曹增置屬，戶曹置掾，江左加崇，極於此也。</div>\n",
       "<div style=\"text-indent:2em;padding-left:0em;\">長史、司馬、舍人，秦官。從事中郎、掾、屬、主簿、令史，前漢官，陳湯為大將軍王鳳從事中郎是也。御屬、參軍，後漢官，孫堅為車騎參軍事是也。本於府主無敬，晉世太原孫楚為大司馬石苞參軍，輕慢苞，始制施敬。祭酒，晉官也，漢吳王濞為劉氏祭酒。夫祭祀以酒為本，長者主之，故以祭酒為稱。漢之侍中、魏之散騎常侍高功者，並為祭酒焉。公府祭酒，蓋因其名也。長史、從事中郎主吏，司馬主將，主簿、祭酒、舍人主閤內事，參軍、掾、屬、令史主諸曹事。司徒若無公，唯省舍人，其府常置，其職僚異於餘府。有左右長史、左西曹掾、屬各一人，餘則同矣。餘府有公則置，無則省。晉元帝為鎮東大將軍及丞相，置從事中郎，無定員，分掌諸曹，有錄事中郎、度支中郎、三兵中郎。其參軍則有諮議參軍二人，主諷議事，晉江左初置，因軍諮祭酒也，宋高祖為相，止置諮議參軍，無定員。今諸曹則有錄事、記室、戶曹、倉曹、中直兵、外兵、騎兵、長流賊曹、刑獄賊曹、城局賊曹、法曹、田曹、水曹、鎧曹、車曹、士曹、集、右戶、墨曹，凡十八曹參軍。參軍不署曹者，無定員。江左初，晉元帝鎮東丞相府有錄事、記室、東曹、西曹、度支、戶曹、法曹、金曹、倉曹、理曹、中兵、外兵、騎兵、典兵、兵曹、賊曹、運曹、禁防、典賓、鎧曹、田曹、士曹、騎士、車曹參軍。其東曹、西曹、度支、金曹、理曹、典兵、兵曹、賊曹、運曹、禁防、典賓、騎士、車曹凡十三曹，今闕所餘十二曹也。其後又有直兵、長流、刑獄、城局、水曹、右戶、墨曹七曹。高祖為相，合中兵、直兵置一參軍，曹則猶二也。今小府不置長流參軍者，置禁防參軍。蜀丞相諸葛亮府有行參軍，晉太傅司馬越府又有行參軍、兼行參軍，後漸加長兼字，除拜則為參軍事，府板則為行參軍。晉末以來，參軍事、行參軍又各有除板。板行參軍下則長兼行參軍。參軍督護，江左置，本皆領營，有部曲，今則無矣。公府長史、司馬，秩千石；從事中郎，六百石；東西曹掾，四百石；他掾三百石；屬二百石。</div>\n",
       "<div style=\"text-indent:2em;padding-left:0em;\">特進，前漢世所置，前後二漢及魏、晉以為加官，從本官車服，無吏卒。晉惠帝元康中定位令在諸公下，驃騎將軍上。</div>\n",
       "<div style=\"text-indent:2em;padding-left:0em;\">驃騎將軍，一人。漢武帝元狩二年，始用霍去病為驃騎將軍。漢西京制，大將軍、驃騎將軍位次丞相。</div>\n",
       "<div style=\"text-indent:2em;padding-left:0em;\">車騎將軍，一人。漢文帝元年，始用薄昭為車騎將軍。魚豢曰：「魏世車騎為都督，儀與四征同。若不為都督，雖持節屬四征者，與前後左右雜號將軍同。其或散還從文官之例，則位次三司。」晉、宋車騎、衞不復為四征所督也。</div>\n",
       "<div style=\"text-indent:2em;padding-left:0em;\">衞將軍，一人。漢文帝元年，始用宋昌為衞將軍。三號位亞三司。漢章帝建初三年，始使車騎將軍馬防班同三司。班同三司自此始也。漢末奮威將軍，晉江右伏波、輔國將軍，並加大而儀同三司。江左以來，將軍則中、鎮、撫、四鎮以上或加大，餘官則左右光祿大夫以上並得儀同三司，自此以下不得也。</div>\n",
       "<div style=\"text-indent:2em;padding-left:0em;\">持節都督，無定員。前漢遣使，始有持節。光武建武初，征伐四方，始權時置督軍御史，事竟罷。建安中，魏武帝為相，始遣大將軍督軍。二十一年，征孫權還，夏侯惇督二十六軍是也。魏文帝黃初二年，始置都督諸州軍事，或領刺史。三年，上軍大將軍曹真都督中外諸軍事，假黃鉞，則總統外內諸軍矣。明帝太和四年，晉宣帝征蜀，加號大都督。高貴公正元二年，晉文帝都督中外諸軍，尋加大都督。晉世則都督諸軍為上，監諸軍次之，督諸軍為下。使持節為上，持節次之，假節為下。使持節得殺二千石以下；持節殺無官位人，若軍事得與使持節同；假節唯軍事得殺犯軍令者。晉江左以來，都督中外尤重，唯王導居之。宋氏人臣則無也。江夏王義恭假黃鉞。假黃鉞，則專戮節將，非人臣常器矣。</div>\n",
       "<div style=\"text-indent:2em;padding-left:0em;\">征東將軍，一人。漢獻帝初平三年，馬騰居之。征南將軍，一人。漢光武建武中，岑彭居之。征西將軍，一人。漢光武建武中，馮異居之。征北將軍，一人。魚豢曰：「四征，魏武帝置，秩二千石。黃初中，位次三公。漢舊諸征與偏裨雜號同。」</div>\n",
       "<div style=\"text-indent:2em;padding-left:0em;\">鎮東將軍，一人。後漢末，魏武帝居之。鎮南將軍，一人。後漢末，劉表居之。鎮西將軍，一人。後漢初平三年，韓遂居之。鎮北將軍，一人。</div>\n",
       "<div style=\"text-indent:2em;padding-left:0em;\">中軍將軍，一人。漢武帝以公孫敖為之，時為雜號。鎮軍將軍，一人。魏以陳羣為之。撫軍將軍，一人。魏以司馬宣王為之。中、鎮、撫三號比四鎮。</div>\n",
       "<div style=\"text-indent:2em;padding-left:0em;\">安東將軍，一人。後漢末，陶謙為之。安南將軍，一人。安西將軍，一人。後漢末，段煨為之。安北將軍，一人。魚豢曰：「鎮北、四安，魏黃初、太和中置。」</div>\n",
       "<div style=\"text-indent:2em;padding-left:0em;\">平東將軍，一人。平南將軍，一人。平西將軍，一人。平北將軍，一人。四平，魏世置。</div>\n",
       "<div style=\"text-indent:2em;padding-left:0em;\">左將軍。右將軍。前將軍。後將軍。左將軍以下，周末官，秦、漢並因之，光武建武七年省，魏以來復置。</div>\n",
       "<div style=\"text-indent:2em;padding-left:0em;\">征虜將軍，漢光武建武中，始以祭遵居之。冠軍將軍，楚懷王以宋義為卿子冠軍。冠軍之名，自此始也。魏正始中，以文欽為冠軍將軍、揚州刺史。輔國將軍，漢獻帝以伏完居之。宋太宗泰始四年，改為輔師，後廢帝元徽二年復故。龍驤將軍，晉武帝始以王濬居之。</div>\n",
       "<div style=\"text-indent:2em;padding-left:0em;\">東中郎將，漢靈帝以董卓居之。南中郎將，漢獻帝建安中，以臨淄侯曹植居之。西中郎將。北中郎將，漢建安中，以焉陵侯曹彰居之。凡四中郎將，何承天云，並後漢置。</div>\n",
       "<div style=\"text-indent:2em;padding-left:0em;\">建威將軍，漢光武建武中，以耿弇為建威大將軍。振威將軍，後漢初，宋登為之。奮威將軍，前漢世，任千秋為之。揚威將軍，魏置。廣威將軍，魏置。建武將軍，魏置。振武將軍，前漢末，王況為之。奮武將軍，後漢末，呂布為之。揚武將軍，光武建武中，以馬成為之。廣武將軍，晉江左置。</div>\n",
       "<div style=\"text-indent:2em;padding-left:0em;\">鷹揚將軍，漢建安中，魏武以曹洪居之。折衝將軍，漢建安中，魏武以樂進居之。輕車將軍，漢武帝以公孫賀為之。揚烈將軍，建安中，以假公孫淵。寧遠將軍，晉江左置。材官將軍，漢武帝以李息為之。伏波將軍，漢武帝征南越，始置此號，以路博德為之。</div>\n",
       "<div style=\"text-indent:2em;padding-left:0em;\">凌江將軍，魏置。自凌江以下，則有宣威、明威、驤威、厲威、威厲、威寇、威虜、威戎、威武、武烈、武毅、武奮、綏遠、綏邊、綏戎、討寇、討虜、討難、討夷、蕩寇、蕩虜、蕩難、蕩逆、殄寇、殄虜、殄難、掃夷、掃寇、掃虜、掃難、掃逆、厲武、厲鋒、虎威、虎牙、廣野、橫野、偏將軍、裨將軍，凡四十號。其威虜，漢光武以馮俊居之。虎牙，以蓋延居之，為虎牙大將軍。橫野，以耿純居之。蕩寇，漢建安中，滿寵居之。虎威，于禁居之。其餘或是後漢及魏所置，今則或置或不。自左右前後將軍以下至此四十號，唯四中郎將各一人，餘皆無定員。自車騎以下為刺史又都督及儀同三司者，置官如領兵，但云都督不儀同三司者，不置從事中郎，置功曹一人，主吏，在主簿上，漢末官也。漢東京司隸有功曹從事史，如諸州治中，因其名也。功曹參軍一人，主佐□□記室下，戶曹上。監以下不置諮議、記室，餘則同矣。宋太宗已來，皇子、皇弟雖非都督，亦置記室參軍。小號將軍為大郡邊守置佐吏者，又置長史，餘則同也。</div>\n",
       "<div style=\"text-indent:2em;padding-left:0em;\">太常，一人。舜攝帝位，命伯夷作秩宗，掌三禮，即其任也。周時曰宗伯，是為春官，掌邦禮。秦改曰奉常，漢因之。景帝中六年，更名曰太常。應劭曰：「欲令國家盛大常存，故稱太常。」前漢常以列侯忠孝敬慎者居之，後漢不必列侯也。</div>\n",
       "<div style=\"text-indent:2em;padding-left:0em;\">博士，班固云，秦官。史臣案，六國時往往有博士，掌通古今。漢武建元五年，初置五經博士。宣、成之世，五經家法稍增，經置博士一人。至東京凡十四人。易，施、孟、梁丘、京氏；尚書，歐陽、大小夏侯；詩，齊、魯、韓；禮，大小戴；春秋，嚴、顏：各一博士。而聰明有威重者一人為祭酒。魏及晉西朝置十九人，江左初減為九人，皆不知掌何經。元帝末，增儀禮、春秋公羊博士各一人，合為十一人。後又增為十六人，不復分掌五經，而謂之太學博士也。秩六百石。</div>\n",
       "<div style=\"text-indent:2em;padding-left:0em;\">國子祭酒一人，國子博士二人，國子助教十人。周易、尚書、毛詩、禮記、周官、儀禮、春秋左氏傳、公羊、穀梁各為一經，論語、孝經為一經，合十經。助教分掌。國子，周舊名，周有師氏之職，即今國子祭酒也。晉初復置國子學，以教生徒，而隸屬太學焉。晉初助教十五人，江左以來，損其員。自宋世若不置學，則助教唯置一人，而祭酒、博士常置也。</div>\n",
       "<div style=\"text-indent:2em;padding-left:0em;\">太廟令，一人。丞一人。並前漢置。西京曰長，東京曰令。領齋郎二十四人。</div>\n",
       "<div style=\"text-indent:2em;padding-left:0em;\">明堂令，一人。丞一人。丞，漢東京初置，令，宋世祖大明中置。</div>\n",
       "<div style=\"text-indent:2em;padding-left:0em;\">太祝令，一人。丞一人。掌祭祀讀祝迎送神。太祝，周舊官也。漢西京置太祝令、丞，武帝太初元年，更名曰廟祀。漢東京改曰太祝。</div>\n",
       "<div style=\"text-indent:2em;padding-left:0em;\">太史令，一人。丞一人。掌三辰時日祥瑞妖災，歲終則奏新曆。太史，三代舊官，周世掌建邦之六典，正歲年，以序事頒朔于邦國。又有馮相氏，掌天文次序；保章氏，掌天文。今之太史，則并周之太史、馮相、保章三職也。漢西京曰太史令。漢東京有二丞，其一在靈臺。</div>\n",
       "<div style=\"text-indent:2em;padding-left:0em;\">太樂令，一人。丞一人。掌凡諸樂事。周時為大司樂。漢西京曰太樂令。漢東京曰大予樂令。魏復為太樂令。</div>\n",
       "<div style=\"text-indent:2em;padding-left:0em;\">陵令，每陵各一人。漢舊官也。</div>\n",
       "<div style=\"text-indent:2em;padding-left:0em;\">乘黃令，一人。掌乘輿車及安車諸馬。魏世置。自博士至乘黃令，並屬太常。</div>\n",
       "<div style=\"text-indent:2em;padding-left:0em;\">光祿勳，一人。丞一人。光，明也。祿，爵也。勳，功也。秦曰郎中令，漢因之。漢武太初元年，更名光祿勳。掌三署郎，郎執戟衞宮殿門戶。光祿勳居禁中如御史，有獄在殿門外，謂之光祿外部。光祿勳郊祀掌三獻。魏、晉以來，光祿勳不復居禁中，又無復三署郎，唯外宮朝會，則以名到焉。二臺奏劾，則符光祿加禁止，解禁止亦如之。禁止，身不得入殿省，光祿主殿門故也。宮殿門戶，至今猶屬。晉哀帝興寧二年，省光祿勳，并司徒。孝武寧康元年，復置。漢東京三署郎有行應四科者，歲舉茂才二人，四行二人，及三署郎罷省，光祿勳猶依舊舉四行，衣冠子弟充之。三署者，五官署、左署、右署也，各置中郎將以司之。郡舉孝廉以補三署郎，年五十以上，屬五官，其次分在左右署。凡有中郎、議郎、侍郎、郎中四等，無員，多至萬人。</div>\n",
       "<div style=\"text-indent:2em;padding-left:0em;\">左光祿大夫，右光祿大夫。二大夫，晉初置。光祿大夫，秦時為中大夫，漢武太初元年，更名光祿大夫。晉初又置左右光祿大夫，而光祿大夫如故。光祿大夫銀章青綬，其重者加金章紫綬，則謂之金紫光祿大夫。舊秩比二千石。</div>\n",
       "<div style=\"text-indent:2em;padding-left:0em;\">中散大夫，王莽所置，後漢因之，前漢大夫皆無員，掌論議。後漢光祿大夫三人，中大夫二十人，中散大夫三十人。魏以來復無員。自左光祿大夫以下，養老疾，無職事。中散，六百石。</div>\n",
       "<div style=\"text-indent:2em;padding-left:0em;\">衞尉，一人。丞二人。掌宮門屯兵，秦官也。漢景初，改為中大夫令。後元年，復為衞尉。晉江右掌冶鑄，領冶令三十九，戶五千三百五十，冶皆在江北，而江南唯有梅根及冶塘二冶，皆屬揚州，不屬衞尉。衞尉，江左不置，宋世祖孝建元年復置。舊一丞，世祖增置一丞。</div>\n",
       "<div style=\"text-indent:2em;padding-left:0em;\">廷尉，一人。丞一人。掌刑辟。凡獄必質之朝廷，與眾共之之義。兵獄同制，故曰廷尉。舜攝帝位，咎繇作士，即其任也。周時大司寇為秋官，掌邦刑。秦為廷尉。漢景帝中六年，更名大理。武帝建元四年，復為廷尉。哀帝元壽二年，復為大理。漢東京初，復為廷尉。</div>\n",
       "<div style=\"text-indent:2em;padding-left:0em;\">廷尉正，一人。廷尉監，一人。正、監並秦官。本有左右監，漢光武省右，猶云左監；魏、晉以來，直云監。廷尉評，一人。漢宣帝地節三年，初置左右評。漢光武省右，猶云左評。魏、晉以來，直云評。正、監、評並以下官禮敬廷尉卿。正、監秩千石，評六百石。廷尉律博士，一人。魏武初建魏國置。</div>\n",
       "<div style=\"text-indent:2em;padding-left:0em;\">大司農，一人。丞一人。掌九穀六畜之供膳羞者。舜攝帝位，命棄為后稷，即其任也。周則為太府，秦治粟內史，漢景帝後元年，更名大農令，武帝太初元年，更名曰大司農。晉哀帝末，省并都水，孝武世復置。漢世丞二人，魏以來一人。</div>\n",
       "<div style=\"text-indent:2em;padding-left:0em;\">太倉令，一人。丞一人。秦官也。晉江左以來，又有東倉、石頭倉丞各一人。</div>\n",
       "<div style=\"text-indent:2em;padding-left:0em;\">道禾官令，一人。丞一人。掌舂御米。漢東京置。道禾，擇也。擇米令精也。司馬相如封禪書云，道禾一莖六穗於庖。</div>\n",
       "<div style=\"text-indent:2em;padding-left:0em;\">籍田令，一人。丞一人。掌耕宗廟社稷之田，於周為甸師。漢文帝初立籍田，置令、丞各一人。漢東京及魏並不置。晉武泰始十年復置。江左省。宋太祖元嘉中又置。自太倉至籍田令，並屬司農。</div>\n",
       "<div style=\"text-indent:2em;padding-left:0em;\">少府，一人。丞一人。掌中服御之物。秦官也，漢因之。掌禁錢以給私養，故曰少府。晉哀帝末，省并丹陽尹。孝武世復置。</div>\n",
       "<div style=\"text-indent:2em;padding-left:0em;\">左尚方令、丞各一人。右尚方令、丞各一人。並掌造軍器。秦官也，漢因之。於周則為玉府。晉江右有中尚方、左尚方、右尚方，江左以來，唯一尚方。宋高祖踐阼，以相府作部配臺，謂之左尚方，而本署謂之右尚方焉。又以相府細作配臺，即其名置令一人，丞二人，隸門下。世祖大明中，改曰御府，置令一人，丞一人。御府，二漢世典官婢作褻衣服補浣之事，魏、晉猶置其職，江左乃省焉。後廢帝初，省御府，置中署，隸右尚方。漢東京太僕屬官有考工令，主兵器弓弩刀鎧之屬，成則傳執金吾入武庫，及主織綬諸雜工。尚方令唯主作御刀綬劍諸玩好器物而已。然則考工令如今尚方，尚方令如今中署矣。</div>\n",
       "<div style=\"text-indent:2em;padding-left:0em;\">東冶令，一人。丞一人。南冶令，一人。丞一人。漢有鐵官，晉置令，掌工徒鼓鑄，隸衞尉。江左以來，省衞尉，度隸少府。宋世雖置衞尉，冶隸少府如故。江南諸郡縣有鐵者或置冶令，或置丞，多是吳所置。</div>\n",
       "<div style=\"text-indent:2em;padding-left:0em;\">平准令，一人。丞一人。掌染。秦官也，漢因之。漢隸司農，不知何世隸少府。宋順帝即位，避帝諱，改曰染署。</div>\n",
       "<div style=\"text-indent:2em;padding-left:0em;\">將作大匠，一人。丞一人。掌土木之役。秦世置將作少府，漢因之。景帝中六年，更名將作大匠。光武建武中元二年省，以謁者領之。章帝建初元年復置。晉氏以來，有事則置，無則省。</div>\n",
       "<div style=\"text-indent:2em;padding-left:0em;\">大鴻臚，掌贊導拜授諸王。秦世為典客，漢景帝中六年，更名大行令，武帝太初元年，更名大鴻臚。鴻，大也。臚，陳也。晉江左初省。有事則權置，事畢即省。</div>\n",
       "<div style=\"text-indent:2em;padding-left:0em;\">太僕，掌輿馬。周穆王所置，秦因之。周官則校人掌馬，巾車掌車，及置太僕，兼其任也。晉江左或置或省，宋以來不置。郊祀則權置太僕執轡，事畢即省。</div>\n",
       "<div style=\"text-indent:2em;padding-left:0em;\">太后三卿，各一人。應氏漢官曰：「衞尉、少府，秦官；太僕，漢成帝置，皆隨太后宮為號，在正卿上，無太后乃闕。」魏改漢制，在九卿下。晉復舊，在同號卿上。</div>\n",
       "<div style=\"text-indent:2em;padding-left:0em;\">大長秋，皇后卿也。有后則置，無則省。秦時為將行，漢景帝中六年，更名大長秋。韋曜曰：「長秋者，以皇后陰官，秋者陰之始，取其終而長，欲其久也。」自太常至長秋，皆置功曹、主簿、五官。漢東京諸郡有五官掾，因其名也。漢制卿尹秩皆中二千石，丞一千石。</div>\n",
       "<div style=\"text-indent:2em;padding-left:0em;\">尚書，古官也。舜攝帝位，命龍作納言，即其任也。周官司會，鄭玄云，若今尚書矣。秦世少府遣吏四人在殿中主發書，故謂之尚書。尚猶主也。漢初有尚冠、尚衣、尚食、尚浴、尚席、尚書，謂之六尚。戰國時已有尚冠、尚衣之屬矣。秦時有尚書令、尚書僕射、尚書丞。至漢初並隸少府，漢東京猶文屬焉。古者重武官，以善射者掌事，故曰僕射。僕射者，僕役於射事也。秦世有左右曹諸吏，官無職事，將軍大夫以下皆得加此官。漢武帝世，使左右曹諸吏分平尚書奏事。昭帝即位，霍光領尚書事；成帝初，王鳳錄尚書事。漢東京每帝即位，輒置太傅，錄尚書事，薨輒省。晉康帝世，何充讓錄表曰：「咸康中，分置三錄，王導錄其一，荀崧、陸曄各錄六條事。」然則似有二十四條，若止有十二條，則荀、陸各錄六條，導又何所司乎？若導總錄，荀、陸分掌，則不得復云導錄其一也。其後每置二錄，輒云各掌六條事，又是止有十二條也。十二條者，不知悉何條。晉江右有四錄，則四人參錄也。江右張華、江左庾亮並經關尚書七條，則亦不知皆何事也。後何充解錄，又參關尚書。錄尚書職無不總，王肅注尚書「納于大麓」曰：「堯納舜於尊顯之官，使大錄萬機之政也。」凡重號將軍刺史，皆得命曹授用，唯不得施除及加節。宋世祖孝建中，不欲威權外假，省錄。大明末復置。此後或置或省。漢獻帝建安四年，以執金吾榮郃為尚書左僕射，衞臻為右僕射。二僕射分置，自此始也。漢成帝建始四年，初置尚書，員四人，增丞亦為四人。曹尚書其一曰常侍曹，主公卿事；其二曰二千石曹，主郡國二千石事；其三曰民曹，主吏民上書事；其四曰客曹，主外國夷狄事。光武分二千石曹為二，又分客曹為南主客曹、北主客曹，改常侍曹為吏曹，凡六尚書。減二丞，唯置左右二丞而已。應劭漢官云：「尚書令、左丞，總領綱紀，無所不統。僕射、右丞，掌稟假錢穀。三公尚書二人，掌天下歲盡集課；吏曹掌選舉、齋祠；二千石曹掌水、火、盜賊、詞訟、罪法；客曹掌羌、胡朝會，法駕出，護駕；民曹掌繕治、功作、鹽池、苑囿。吏曹任要，多得超遷。」則漢末曹名及職司又與光武時異也。魏世有吏部、左民、客曹、五兵、度支五曹尚書。晉初有吏部、三公、客曹、駕部、屯田、度支六曹尚書。武帝咸寧二年，省駕部尚書，四年又置。太康中，有吏部、殿中、五兵、田曹、度支、左民六尚書。惠帝世，又有右民尚書。尚書止於六曹，不知此時省何曹也。江左則有祠部、吏部、左民、度支、五兵，合為五曹尚書。宋高祖初，又增都官尚書。若有右僕射，則不置祠部尚書。世祖大明二年，置二吏部尚書，而省五兵尚書，後還置一吏部尚書。順帝昇明元年，又置五兵尚書。</div>\n",
       "<div style=\"text-indent:2em;padding-left:0em;\">尚書令，任總機衡；僕射、尚書，分領諸曹。左僕射領殿中、主客二曹；吏部尚書領吏部、刪定、三公、比部四曹；祠部尚書領祠部、儀曹二曹；度支尚書領度支、金部、倉部、起部四曹；左民尚書領左民、駕部二曹；都官尚書領都官、水部、庫部、功論四曹；五兵尚書領中兵、外兵二曹。昔有騎兵、別兵、都兵，故謂之五兵也。五尚書、二僕射、一令，謂之八坐。若營宗廟宮室，則置起部尚書，事畢省。</div>\n",
       "<div style=\"text-indent:2em;padding-left:0em;\">漢成帝之置四尚書也，無置郎之文。漢儀，尚書郎四人，一人主匈奴單于營部，一人主羌夷吏民，一人主戶口墾田，一人主財帛委輸。匈奴單于，宣帝之世，保塞內附，成帝世，單于還北庭矣。一郎主匈奴單于營部，則置郎疑是光武時，所主匈奴，是南單于也。漢官云，置郎三十六人，不知是何帝增員。然則一尚書則領六郎也。主作文書，起立事草。初為郎中，滿歲則為侍郎。尚書寺居建禮門內。尚書郎入直，官供青縑白綾被，或以綿緤為之。給帷帳、氈褥、通中枕，太官供食物，湯官供餅餌及五孰果實之屬，給尚書伯使一人，女侍二人，皆選端正妖麗，執香爐，護衣服，奏事明光殿。殿以胡粉塗壁，畫古賢烈士。以丹朱色地，謂之丹墀。尚書郎口含雞舌香，以其奏事答對，欲使氣息芬芳也。奏事則與黃門侍郎對揖。黃門侍郎稱已聞，乃出。天子所服五時衣以賜尚書令僕，而丞、郎月賜赤管大筆一雙，隃麋墨一丸。魏世有殿中、吏部、駕部、金部、虞曹、比部、南主客、祠部、度支、庫部、農部、水部、儀曹、三公、倉部、民曹、二千石、中兵、外兵、別兵、都兵、考功、定科，凡二十三郎。青龍二年有軍事，尚書令陳矯奏置都官、騎兵二曹郎，合為二十五曹。晉西朝則直事、殿中、祠部、儀曹、吏部、三公、比部、金部、倉部、度支、都官、二千石、左民、右民、虞曹、屯田、起部、水部、左主客、右主客、駕部、車部、庫部、左中兵、右中兵、左外兵、右外兵、別兵、都兵、騎兵、左士、右士、北主客、南主客為三十四曹郎；後又置運曹，凡三十五曹。晉江左初，無直事、右民、屯田、車部、別兵、都兵、騎兵、左士、右士、運曹十曹郎，而主客、中外兵各置一郎而已，所餘十七曹也。康、穆以來，又無虞曹、二千石二郎，猶有殿中、祠部、吏部、儀曹、三公、比部、金部、倉部、度支、都官、左民、起部、水部、主客、駕部、庫部、中兵、外兵十八曹郎。後又省主客、起部、水部，餘十五曹。宋高祖初，加置騎兵、主客、起部、水部四曹郎，合為十九曹。太祖元嘉十年，又省儀曹、主客、比部、騎部四曹郎。十一年，又並置。十八年，增刪定曹郎，次在左民曹上，蓋魏世之定科郎也。三十年，又置功論郎，次都官之下，在刪定之上。太宗世，省騎兵。今凡二十曹郎。以三公、比部主法制。度支主算。支，派也。度，景也。都官主軍事刑獄。其餘曹所掌，各如其名。</div>\n",
       "<div style=\"text-indent:2em;padding-left:0em;\">漢制，公卿御史中丞以下，遇尚書令、僕、丞、郎，皆辟車豫相回避，臺官過，乃得去。今尚書官上朝及下，禁斷行人，猶其制也。漢又制，丞、郎見尚書，呼曰明時。郎見二丞。呼曰左君、右君。</div>\n",
       "<div style=\"text-indent:2em;padding-left:0em;\">郎以下則有都令史、令史、書令史、書吏幹。漢東京尚書令史十八人，晉初正令史百二十人，書令史百三十人。自晉至今，或減或益，難以定言。漢儀有丞相令史。令史蓋前漢官也。晉西朝有尚書都令史朱誕，則都令史其來久矣。分曹所掌如尚書也。</div>\n",
       "<div style=\"text-indent:2em;padding-left:0em;\">晉西朝八坐丞郎，朝晡詣都坐朝，江左唯旦朝而已。八坐丞郎初拜，並集都坐，交禮。遷，又解交。漢舊制也。今唯八坐解交，丞郎不復解交也。尚書令千石，僕射尚書六百石，丞郎四百石。</div>\n",
       "<div style=\"text-indent:2em;padding-left:0em;\">武庫令，一人。掌軍器。秦官。至二漢，屬執金吾。晉初罷執金吾，至今隸尚書庫部。</div>\n",
       "<div style=\"text-indent:2em;padding-left:0em;\">車府令，一人。丞一人。秦官也。二漢、魏、晉並隸太僕。太僕既省，隸尚書駕部。</div>\n",
       "<div style=\"text-indent:2em;padding-left:0em;\">上林令，一人。丞一人。漢西京上林中有八丞、十二尉、十池監。丞、尉屬水衡都尉。池監隸少府。漢東京曰上林苑令及丞各一人，隸少府。晉江左闕。宋世祖大明三年復置，隸尚書殿中曹及少府。</div>\n",
       "<div style=\"text-indent:2em;padding-left:0em;\">材官將軍，一人。司馬一人。主工匠土木之事。漢左右校令，其任也。魏右校又置材官校尉，主天下材木事。晉江左改材官校尉曰材官將軍，又罷左校令。今材官隸尚書起部及領軍。</div>\n",
       "<div style=\"text-indent:2em;padding-left:0em;\">侍中，四人。掌奏事，直侍左右，應對獻替。法駕出，則正直一人負璽陪乘。殿內門下眾事皆掌之。周公戒成王立政之篇所云「常伯」，即其任也。侍中本秦丞相史也，使五人往來殿內東廂奏事，故謂之侍中。漢西京無員，多至數十人，入侍禁中，分掌乘輿服物，下至褻器虎子之屬。武帝世，孔安國為侍中，以其儒者，特聽掌御唾壺，朝廷榮之。久次者為僕射。漢東京又屬少府，猶無員。掌侍左右，贊導眾事，顧問應答。法駕出，則多識者一人負傳國璽，操斬白蛇劍，參乘；餘皆騎，在乘輿車後。光武世，改僕射為祭酒焉。漢世，與中官俱止禁中。武帝時，侍中莽何羅挾刃謀逆，由是侍中出禁外，有事乃入，事畢即出。王莽秉政，侍中復入，與中官共止。章帝元和中，侍中郭舉與後宮通，拔佩刀驚御，舉伏誅，侍中由是復出外。魏、晉以來，置四人，別加官不主數。秩比二千石。</div>\n",
       "</span>\n",
       "</body>\n",
       "</html>"
      ]
     },
     "execution_count": 16,
     "metadata": {},
     "output_type": "execute_result"
    }
   ],
   "source": [
    "songshu.flat_bodies[566]"
   ]
  },
  {
   "cell_type": "code",
   "execution_count": null,
   "metadata": {},
   "outputs": [],
   "source": []
  }
 ],
 "metadata": {
  "colab": {
   "name": "SongShu -- Geo Extraction.ipynb",
   "provenance": [],
   "version": "0.3.2"
  },
  "kernelspec": {
   "display_name": "Python 3",
   "language": "python",
   "name": "python3"
  },
  "language_info": {
   "codemirror_mode": {
    "name": "ipython",
    "version": 3
   },
   "file_extension": ".py",
   "mimetype": "text/x-python",
   "name": "python",
   "nbconvert_exporter": "python",
   "pygments_lexer": "ipython3",
   "version": "3.6.8"
  }
 },
 "nbformat": 4,
 "nbformat_minor": 2
}

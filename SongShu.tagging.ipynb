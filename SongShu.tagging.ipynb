{
 "cells": [
  {
   "cell_type": "markdown",
   "metadata": {},
   "source": [
    "### **Digital SongShu Project**\n",
    "#### Last updated 2018-03-05 by Ruben G. Tsui"
   ]
  },
  {
   "cell_type": "code",
   "execution_count": 2,
   "metadata": {
    "colab": {},
    "colab_type": "code",
    "id": "VZVgJhGL7i0n"
   },
   "outputs": [],
   "source": [
    "import json\n",
    "from SongShu import SongShu\n",
    "import re\n",
    "import pandas as pd\n",
    "from bs4 import BeautifulSoup\n",
    "import altair"
   ]
  },
  {
   "cell_type": "markdown",
   "metadata": {
    "colab_type": "text",
    "id": "Rb6_NbIb7i0q"
   },
   "source": [
    "## SongShu -- tagging names, offices, places\n",
    "##### <font color='red'>*Change your Songshu html data folder below*</font>"
   ]
  },
  {
   "cell_type": "code",
   "execution_count": 3,
   "metadata": {
    "colab": {},
    "colab_type": "code",
    "id": "TrRyrgdR7i0r",
    "outputId": "de1a17de-313d-468a-db2d-5c8d04fce614"
   },
   "outputs": [
    {
     "name": "stderr",
     "output_type": "stream",
     "text": [
      "INFO:root:Stop at loading C:\\NLP\\Raft\\Song shu-20181231T032348Z-001\\data - Song shu\\SongShu_0851.html.\n",
      "INFO:root:Total length of the data is 851.\n",
      "ERROR:root:[Error] SongShu_rare_char.json does not exist\n",
      "\n",
      "            try to run these lines: \n",
      "            \t>> self.extract_rare_chars()\n",
      "            \t>> self.write_rare_chars()\n",
      "\n",
      "INFO:root:Remove 標註, page number, and page dividers from the tree structure.\n",
      "INFO:root:Remove the new lines added by the page dividers, connect the paragraphs before and after the new lines.\n",
      "WARNING:root:Not the right indent.史／正史／宋書／志　凡三十卷／卷二十二　志第十二／樂四(P.625)..[底本：宋元明三朝遞修本]\n",
      "WARNING:root:Not the right indent.史／正史／宋書／志　凡三十卷／卷二十二　志第十二／樂四／魏鼓吹曲十二篇　繆襲／初之平曲(P.644)..[底本：宋元明三朝遞修本]\n",
      "WARNING:root:Not the right indent.史／正史／宋書／志　凡三十卷／卷二十二　志第十二／樂四／魏鼓吹曲十二篇　繆襲／戰滎陽曲(P.644)..[底本：宋元明三朝遞修本]\n",
      "WARNING:root:Not the right indent.史／正史／宋書／志　凡三十卷／卷二十二　志第十二／樂四／魏鼓吹曲十二篇　繆襲／獲呂布曲(P.644)..[底本：宋元明三朝遞修本]\n",
      "WARNING:root:Not the right indent.史／正史／宋書／志　凡三十卷／卷二十二　志第十二／樂四／魏鼓吹曲十二篇　繆襲／克官渡曲(P.645)..[底本：宋元明三朝遞修本]\n",
      "WARNING:root:Not the right indent.史／正史／宋書／志　凡三十卷／卷二十二　志第十二／樂四／魏鼓吹曲十二篇　繆襲／舊邦曲(P.645)..[底本：宋元明三朝遞修本]\n",
      "WARNING:root:Not the right indent.史／正史／宋書／志　凡三十卷／卷二十二　志第十二／樂四／魏鼓吹曲十二篇　繆襲／定武功曲(P.645)..[底本：宋元明三朝遞修本]\n",
      "WARNING:root:Not the right indent.史／正史／宋書／志　凡三十卷／卷二十二　志第十二／樂四／魏鼓吹曲十二篇　繆襲／屠柳城曲(P.646)..[底本：宋元明三朝遞修本]\n",
      "WARNING:root:Not the right indent.史／正史／宋書／志　凡三十卷／卷二十二　志第十二／樂四／魏鼓吹曲十二篇　繆襲／平南荊曲(P.646)..[底本：宋元明三朝遞修本]\n",
      "WARNING:root:Not the right indent.史／正史／宋書／志　凡三十卷／卷二十二　志第十二／樂四／魏鼓吹曲十二篇　繆襲／平關中曲(P.646)..[底本：宋元明三朝遞修本]\n",
      "WARNING:root:Not the right indent.史／正史／宋書／志　凡三十卷／卷二十二　志第十二／樂四／魏鼓吹曲十二篇　繆襲／應帝期曲(P.646)..[底本：宋元明三朝遞修本]\n",
      "WARNING:root:Not the right indent.史／正史／宋書／志　凡三十卷／卷二十二　志第十二／樂四／魏鼓吹曲十二篇　繆襲／邕熙曲(P.647)..[底本：宋元明三朝遞修本]\n",
      "WARNING:root:Not the right indent.史／正史／宋書／志　凡三十卷／卷二十二　志第十二／樂四／魏鼓吹曲十二篇　繆襲／太和曲(P.647)..[底本：宋元明三朝遞修本]\n",
      "WARNING:root:Not the right indent.史／正史／宋書／志　凡三十卷／卷二十二　志第十二／樂四／吳鼓吹曲十二篇　韋昭／炎精缺曲凡三十句，句三字(P.656)..[底本：宋元明三朝遞修本]\n",
      "WARNING:root:Not the right indent.史／正史／宋書／志　凡三十卷／卷二十二　志第十二／樂四／吳鼓吹曲十二篇　韋昭／漢之季曲凡二十句，其十八句句三字，二句句四字(P.656)..[底本：宋元明三朝遞修本]\n",
      "WARNING:root:Not the right indent.史／正史／宋書／志　凡三十卷／卷二十二　志第十二／樂四／吳鼓吹曲十二篇　韋昭／攄武師曲凡六句，其三句句三字，三句句四字(P.657)..[底本：宋元明三朝遞修本]\n",
      "WARNING:root:Not the right indent.史／正史／宋書／志　凡三十卷／卷二十二　志第十二／樂四／吳鼓吹曲十二篇　韋昭／伐烏林曲凡十八句，其十句句四字，八句句三字(P.657)..[底本：宋元明三朝遞修本]\n",
      "WARNING:root:Not the right indent.史／正史／宋書／志　凡三十卷／卷二十二　志第十二／樂四／吳鼓吹曲十二篇　韋昭／秋風曲凡十五句，其十四句句五字，一句四字(P.657)..[底本：宋元明三朝遞修本]\n",
      "WARNING:root:Not the right indent.史／正史／宋書／志　凡三十卷／卷二十二　志第十二／樂四／吳鼓吹曲十二篇　韋昭／克皖城曲凡十二句，其六句句三字，六句句四字(P.657)..[底本：宋元明三朝遞修本]\n",
      "WARNING:root:Not the right indent.史／正史／宋書／志　凡三十卷／卷二十二　志第十二／樂四／吳鼓吹曲十二篇　韋昭／關背德曲凡二十一句，其八句句四字，二句句六字，七句句五字，四句句三字(P.658)..[底本：宋元明三朝遞修本]\n",
      "WARNING:root:Not the right indent.史／正史／宋書／志　凡三十卷／卷二十二　志第十二／樂四／吳鼓吹曲十二篇　韋昭／通荊門曲凡二十四句，其十七句句五字，四句句三字，三句句四字(P.658)..[底本：宋元明三朝遞修本]\n",
      "WARNING:root:Not the right indent.史／正史／宋書／志　凡三十卷／卷二十二　志第十二／樂四／吳鼓吹曲十二篇　韋昭／章洪德曲凡十句，其八句句三字，二句句四字(P.659)..[底本：宋元明三朝遞修本]\n",
      "WARNING:root:Not the right indent.史／正史／宋書／志　凡三十卷／卷二十二　志第十二／樂四／吳鼓吹曲十二篇　韋昭／從曆數曲凡二十六句，其一句句三字，三句句四字，二十二句句五字，一句六字(P.659)..[底本：宋元明三朝遞修本]\n",
      "WARNING:root:Not the right indent.史／正史／宋書／志　凡三十卷／卷二十二　志第十二／樂四／吳鼓吹曲十二篇　韋昭／承天命曲凡三十四句，其十九句句三字，二句句五字，十三句句四字(P.659)..[底本：宋元明三朝遞修本]\n",
      "WARNING:root:Not the right indent.史／正史／宋書／志　凡三十卷／卷二十二　志第十二／樂四／吳鼓吹曲十二篇　韋昭／玄化曲凡十三句，其五句句五字，二句句三字，三句句四字，三句句七字(P.660)..[底本：宋元明三朝遞修本]\n",
      "WARNING:root:Not the right indent.史／正史／宋書／志　凡三十卷／卷四十　志第三十／百官下／第一品(P.1260)..[底本：宋元明三朝遞修本]\n",
      "WARNING:root:Not the right indent.史／正史／宋書／志　凡三十卷／卷四十　志第三十／百官下／第二品(P.1260)..[底本：宋元明三朝遞修本]\n",
      "WARNING:root:Not the right indent.史／正史／宋書／志　凡三十卷／卷四十　志第三十／百官下／第三品(P.1261)..[底本：宋元明三朝遞修本]\n",
      "WARNING:root:Not the right indent.史／正史／宋書／志　凡三十卷／卷四十　志第三十／百官下／第四品(P.1261)..[底本：宋元明三朝遞修本]\n",
      "WARNING:root:Not the right indent.史／正史／宋書／志　凡三十卷／卷四十　志第三十／百官下／第五品(P.1262)..[底本：宋元明三朝遞修本]\n",
      "WARNING:root:Not the right indent.史／正史／宋書／志　凡三十卷／卷四十　志第三十／百官下／第六品(P.1263)..[底本：宋元明三朝遞修本]\n",
      "WARNING:root:Not the right indent.史／正史／宋書／志　凡三十卷／卷四十　志第三十／百官下／第七品(P.1264)..[底本：宋元明三朝遞修本]\n",
      "WARNING:root:Not the right indent.史／正史／宋書／志　凡三十卷／卷四十　志第三十／百官下／第八品(P.1264)..[底本：宋元明三朝遞修本]\n",
      "WARNING:root:Not the right indent.史／正史／宋書／志　凡三十卷／卷四十　志第三十／百官下／第九品(P.1265)..[底本：宋元明三朝遞修本]\n"
     ]
    }
   ],
   "source": [
    "songshu = SongShu(\"2019-03-05\", \"RBT\")\n",
    "songshu.load_htmls(r'C:\\NLP\\Raft\\Song shu-20181231T032348Z-001\\data - Song shu')\n",
    "songshu.extract_all()"
   ]
  },
  {
   "cell_type": "code",
   "execution_count": 4,
   "metadata": {},
   "outputs": [
    {
     "data": {
      "text/plain": [
       "851"
      ]
     },
     "execution_count": 4,
     "metadata": {},
     "output_type": "execute_result"
    }
   ],
   "source": [
    "len(songshu.flat_bodies)"
   ]
  },
  {
   "cell_type": "markdown",
   "metadata": {},
   "source": [
    "### Let's just deal with Scroll 001 for now"
   ]
  },
  {
   "cell_type": "code",
   "execution_count": 33,
   "metadata": {},
   "outputs": [],
   "source": [
    "scroll001 = songshu.flat_bodies[0]  # 卷001"
   ]
  },
  {
   "cell_type": "code",
   "execution_count": 34,
   "metadata": {},
   "outputs": [
    {
     "data": {
      "text/plain": [
       "67"
      ]
     },
     "execution_count": 34,
     "metadata": {},
     "output_type": "execute_result"
    }
   ],
   "source": [
    "len(scroll001.html.body.span.find_all('div'))  # each <div> tag contains one paragraph "
   ]
  },
  {
   "cell_type": "code",
   "execution_count": 35,
   "metadata": {},
   "outputs": [
    {
     "name": "stdout",
     "output_type": "stream",
     "text": [
      "高祖武皇帝諱裕，字德輿，小名寄奴，彭城縣綏輿里人，漢高帝弟楚元王交之後也。交生紅懿侯富，富生宗正辟彊，辟彊生陽城繆侯德，德生陽城節侯安民，安民生陽城釐侯慶忌，慶忌生陽城肅侯岑，岑生宗正平，平生東武城令某，某生東萊太守景，景生明經洽，洽生博士弘，弘生瑯邪都尉悝，悝生魏定襄太守某，某生邪城令亮，亮生晉北平太守膺，膺生相國掾熙，熙生開封令旭孫。旭孫生混，始過江，居晉陵郡丹徒縣之京口里，官至武原令。混生東安太守靖，靖生郡功曹翹，是為皇考。高祖以晉哀帝興寧元年歲次癸亥三月壬寅夜生。及長，身長七尺六寸，風骨奇特。家貧，有大志，不治廉隅。事繼母以孝謹稱。\n",
      "------------------------------------------------------------\n",
      "初為冠軍孫無終司馬。安帝隆安三年十一月，妖賊孫恩作亂於會稽，晉朝衞將軍謝琰、前將軍劉牢之東討。牢之請高祖參府軍事。十二月，牢之至吳，而賊緣道屯結，牢之命高祖與數十人覘賊遠近。會遇賊至，眾數千人，高祖便進與戰。所將人多死，而戰意方厲，手奮長刀，所殺傷甚眾。牢之子敬宣疑高祖淹久，恐為賊所困，乃輕騎尋之。既而眾騎並至，賊乃奔退，斬獲千餘人，推鋒而進，平山陰，恩遁還入海。\n",
      "------------------------------------------------------------\n",
      "四年五月，恩復入會稽，殺衞將軍謝琰。十一月，劉牢之復率眾東征，恩退走。牢之屯上虞，使高祖戍句章城。句章城既卑小，戰士不盈數百人，高祖常被堅執銳，為士卒先，每戰輒摧鋒陷陣，賊乃退還浹口。于時東伐諸帥，御軍無律，士卒暴掠，甚為百姓所苦。唯高祖法令明整，所至莫不親賴焉。\n",
      "------------------------------------------------------------\n",
      "五年春，孫恩頻攻句章，高祖屢摧破之，恩復走入海。三月，恩北出海鹽，高祖追而翼之，築城于海鹽故治。賊日來攻城，城內兵力甚弱，高祖乃選敢死之士數百人，咸脫甲冑，執短兵，並鼓噪而出，賊震懼奪氣，因其懼而奔之，並棄甲散走，斬其大帥姚盛。雖連戰剋勝，然眾寡不敵，高祖獨深慮之。一夜，偃旗匿眾，若已遁者。明晨開門，使羸疾數人登城。賊遙問劉裕所在。曰：「夜已走矣。」賊信之，乃率眾大上。高祖乘其懈怠，奮擊，大破之。恩知城不可下，乃進向滬瀆。高祖復棄城追之。海鹽令鮑陋遣子嗣之以吳兵一千，請為前驅。高祖曰：「賊兵甚精，吳人不習戰，若前驅失利，必敗我軍。可在後為聲援。」不從。是夜，高祖多設伏兵，兼置旗鼓，然一處不過數人。明日，賊率眾萬餘迎戰。前驅既交，諸伏皆出，舉旗鳴鼓。賊謂四面有軍，乃退。嗣之追奔，為賊所沒。高祖且戰且退，賊盛，所領死傷且盡。高祖慮不免，至向伏兵處，乃止，令左右脫取死人衣。賊謂當走反停，疑猶有伏。高祖因呼更戰，氣色甚猛，賊眾以為然，乃引軍去。高祖徐歸，然後散兵稍集。五月，孫恩破滬瀆，殺吳國內史袁山松，死者四千人。是月，高祖復破賊於婁縣。\n",
      "------------------------------------------------------------\n",
      "六月，恩乘勝浮海，奄至丹徒，戰士十餘萬。劉牢之猶屯山陰，京邑震動。高祖倍道兼行，與賊俱至。于時眾力既寡，加以步遠疲勞，而丹徒守軍莫有鬭志。恩率眾數萬，鼓噪登蒜山，居民皆荷擔而立。高祖率所領奔擊，大破之，投巘赴水死者甚眾。恩以彭排音敗自載，僅得還船。雖被摧破，猶恃其眾力，徑向京師。樓船高大，值風不得進，旬日乃至白石。尋知劉牢之已還，朝廷有備，遂走向鬱洲。八月，以高祖為建武將軍、下邳太守，領水軍追討至鬱洲，復大破恩。恩南走。十一月，高祖追恩於滬瀆，及海鹽，又破之。三戰並大獲，俘馘以萬數。恩自是饑饉疾疫，死者太半，自浹口奔臨海。\n"
     ]
    }
   ],
   "source": [
    "paragraphs = [] # save each paragraph as an element in this list\n",
    "for c in scroll001.html.body.span.find_all('div'):\n",
    "    paragraphs.append(c.text)\n",
    "    \n",
    "sep = f\"\\n{'-'*60}\\n\"    ## paragraph separator (newline, -----, newline)\n",
    "print(sep.join(paragraphs[:5]))"
   ]
  },
  {
   "cell_type": "markdown",
   "metadata": {},
   "source": [
    "#### Define tagging functions"
   ]
  },
  {
   "cell_type": "code",
   "execution_count": 5,
   "metadata": {},
   "outputs": [],
   "source": [
    "def annotate_name(tagging_unit, df, col):\n",
    "    '''\n",
    "    This function annotates 'tagging_unit' (which is a paragraph for now) by matching the\n",
    "    values from column 'col' in the dataframe 'df'; it then creates the tag\n",
    "    <name id=''></name>, where the attribute id is from the \"id\" column of 'df'. \n",
    "    \n",
    "    Inputs:\n",
    "        tagging_unit = e.g. text of a paragraph\n",
    "        df           = Pandas dataframe containing strings to be matched (e.g. names)\n",
    "        col          = column name for the values to be matched\n",
    "    Output:\n",
    "        The function returns a string containing the tagged text\n",
    "    \n",
    "    Example usage:\n",
    "       annotate_name(paragraph[0], bio_df, '姓名')\n",
    "    '''\n",
    "    tagged = ''\n",
    "    tagged = tagging_unit\n",
    "    for idx, row in df.iterrows():\n",
    "        id_  = row['id'] # this is interpreted as the unique key to the dataframe \n",
    "        name = row[col]  # e.g. 姓名\n",
    "        if name in tagged:\n",
    "            tagged = tagged.replace(name, f\"<name id='{id_}'>{name}</name>\")\n",
    "    return tagged"
   ]
  },
  {
   "cell_type": "code",
   "execution_count": 6,
   "metadata": {},
   "outputs": [],
   "source": [
    "def annotate_office(tagging_unit, df, col):\n",
    "    '''\n",
    "    This function works similarly as annotate_name().\n",
    "    \n",
    "    Inputs:\n",
    "       tagging_unit = e.g. text of a paragraph\n",
    "       df           = Pandas dataframe containing strings to be matched (e.g. office)\n",
    "       col          = column name for the values to be matched\n",
    "       \n",
    "    Example usage:\n",
    "       annotate_name(paragraph[0], bio_df, 'Name') # 'Name' here corresponds to the column containing official tutles\n",
    "    '''\n",
    "    tagged = ''\n",
    "    tagged = tagging_unit\n",
    "    for idx, row in df.iterrows():\n",
    "        id_  = row['ID'] # this is interpreted as the unique key to the dataframe \n",
    "        office = row[col]\n",
    "        if office in tagged:\n",
    "            tagged = tagged.replace(office, f\"<office id='{id_}'>{office}</office>\")\n",
    "    return tagged"
   ]
  },
  {
   "cell_type": "markdown",
   "metadata": {},
   "source": [
    "#### Read names, offices and places data from Excel worksheets"
   ]
  },
  {
   "cell_type": "code",
   "execution_count": 7,
   "metadata": {},
   "outputs": [
    {
     "name": "stdout",
     "output_type": "stream",
     "text": [
      "Wall time: 3.57 s\n"
     ]
    }
   ],
   "source": [
    "%%time\n",
    "bio_df    = pd.read_excel(\"BioCombinedSortedTruncated.xlsx\")  # This file has been processed previously\n",
    "                                                              # requires no further actions\n",
    "office_df = pd.read_excel(\"劉宋地名與官名 2017-11-14.xlsx\", sheet_name=\"Offices\")  # this will be sorted later\n",
    "place_df  = pd.read_excel(\"劉宋地名與官名 2017-11-14.xlsx\", sheet_name=\"Places\")   # this will be sorted later"
   ]
  },
  {
   "cell_type": "markdown",
   "metadata": {},
   "source": [
    "#### Define function to sort a dataframe by the length of value in a column, in descending order, so that longer string will match first."
   ]
  },
  {
   "cell_type": "code",
   "execution_count": 8,
   "metadata": {},
   "outputs": [],
   "source": [
    "def sort_by_length_of_indicated_column(df, col, ascending=False):\n",
    "    s = df[col].str.len().sort_values(ascending=ascending).index\n",
    "    df_out = df.reindex(s)\n",
    "    return df_out"
   ]
  },
  {
   "cell_type": "code",
   "execution_count": 9,
   "metadata": {},
   "outputs": [],
   "source": [
    "office_df = sort_by_length_of_indicated_column(office_df, 'Name')\n",
    "place_df  = sort_by_length_of_indicated_column(place_df, 'Name')"
   ]
  },
  {
   "cell_type": "code",
   "execution_count": 10,
   "metadata": {},
   "outputs": [],
   "source": [
    "office_df = office_df[:-7]  # remove last 7 entries, which are single-character official titles"
   ]
  },
  {
   "cell_type": "code",
   "execution_count": 11,
   "metadata": {},
   "outputs": [
    {
     "data": {
      "text/html": [
       "<div>\n",
       "<style scoped>\n",
       "    .dataframe tbody tr th:only-of-type {\n",
       "        vertical-align: middle;\n",
       "    }\n",
       "\n",
       "    .dataframe tbody tr th {\n",
       "        vertical-align: top;\n",
       "    }\n",
       "\n",
       "    .dataframe thead th {\n",
       "        text-align: right;\n",
       "    }\n",
       "</style>\n",
       "<table border=\"1\" class=\"dataframe\">\n",
       "  <thead>\n",
       "    <tr style=\"text-align: right;\">\n",
       "      <th></th>\n",
       "      <th>ID</th>\n",
       "      <th>Name</th>\n",
       "    </tr>\n",
       "  </thead>\n",
       "  <tbody>\n",
       "    <tr>\n",
       "      <th>306</th>\n",
       "      <td>lso307</td>\n",
       "      <td>衛尉</td>\n",
       "    </tr>\n",
       "    <tr>\n",
       "      <th>309</th>\n",
       "      <td>lso310</td>\n",
       "      <td>廷尉</td>\n",
       "    </tr>\n",
       "    <tr>\n",
       "      <th>331</th>\n",
       "      <td>lso332</td>\n",
       "      <td>少府</td>\n",
       "    </tr>\n",
       "    <tr>\n",
       "      <th>330</th>\n",
       "      <td>lso331</td>\n",
       "      <td>甸師</td>\n",
       "    </tr>\n",
       "    <tr>\n",
       "      <th>319</th>\n",
       "      <td>lso320</td>\n",
       "      <td>太府</td>\n",
       "    </tr>\n",
       "  </tbody>\n",
       "</table>\n",
       "</div>"
      ],
      "text/plain": [
       "         ID Name\n",
       "306  lso307   衛尉\n",
       "309  lso310   廷尉\n",
       "331  lso332   少府\n",
       "330  lso331   甸師\n",
       "319  lso320   太府"
      ]
     },
     "execution_count": 11,
     "metadata": {},
     "output_type": "execute_result"
    }
   ],
   "source": [
    "office_df.tail()"
   ]
  },
  {
   "cell_type": "code",
   "execution_count": 58,
   "metadata": {},
   "outputs": [],
   "source": [
    "# collapse list into a single string for faster processing\n",
    "sep = '|#|#|#|#|'  # paragraph separator\n",
    "all_paragraphs = sep.join(paragraphs)"
   ]
  },
  {
   "cell_type": "markdown",
   "metadata": {},
   "source": [
    "### Deal with variant characters"
   ]
  },
  {
   "cell_type": "code",
   "execution_count": 60,
   "metadata": {},
   "outputs": [],
   "source": [
    "all_paragraphs = all_paragraphs.replace('衞','衛')"
   ]
  },
  {
   "cell_type": "code",
   "execution_count": 62,
   "metadata": {},
   "outputs": [
    {
     "name": "stdout",
     "output_type": "stream",
     "text": [
      "Wall time: 7.12 s\n"
     ]
    }
   ],
   "source": [
    "%%time\n",
    "# annotate names\n",
    "annotated = annotate_name(all_paragraphs, bio_df, '姓名')"
   ]
  },
  {
   "cell_type": "code",
   "execution_count": 113,
   "metadata": {},
   "outputs": [
    {
     "name": "stdout",
     "output_type": "stream",
     "text": [
      "Wall time: 19.9 ms\n"
     ]
    }
   ],
   "source": [
    "%%time\n",
    "# annotate offices\n",
    "annotated = annotate_office(annotated, offices)"
   ]
  },
  {
   "cell_type": "code",
   "execution_count": 114,
   "metadata": {},
   "outputs": [],
   "source": [
    "annoteted_paragraphs = annotated.split(sep)"
   ]
  },
  {
   "cell_type": "markdown",
   "metadata": {},
   "source": [
    "### Apply tagging on entire SongShu"
   ]
  },
  {
   "cell_type": "code",
   "execution_count": 12,
   "metadata": {},
   "outputs": [
    {
     "name": "stdout",
     "output_type": "stream",
     "text": [
      "processed 5 sections\n",
      "processed 10 sections\n",
      "processed 15 sections\n",
      "processed 20 sections\n"
     ]
    }
   ],
   "source": [
    "sep = '|#|#|#|#|'  # paragraph separator\n",
    "fo = open('songshu.all.names.offices.tagged.040-059.txt', 'w', encoding='utf-8', newline='\\n')\n",
    "\n",
    "i = 0\n",
    "for section in songshu.flat_bodies[40:60]:\n",
    "    #\n",
    "    paragraphs = [] # for each section, save each paragraph as an element in this list\n",
    "    for c in section.html.body.span.find_all('div'):\n",
    "        paragraphs.append(c.text)\n",
    "    all_paragraphs = sep.join(paragraphs)\n",
    "    all_paragraphs = all_paragraphs.replace('衞','衛')\n",
    "    annotated = annotate_name(all_paragraphs, bio_df, '姓名')\n",
    "    annotated = annotate_office(annotated, office_df, 'Name')\n",
    "    fo.write(f\"Flat_bodies section {i}\\n\")\n",
    "    for line in annotated.split(sep):\n",
    "        fo.write(line + '\\n')\n",
    "    fo.write(f\"{'-'*60}\\n\")\n",
    "    i += 1\n",
    "    if i % 5 == 0:\n",
    "        print(f\"processed {i} sections\")\n",
    "fo.close()"
   ]
  },
  {
   "cell_type": "code",
   "execution_count": 80,
   "metadata": {},
   "outputs": [],
   "source": [
    "fo.close()"
   ]
  },
  {
   "cell_type": "code",
   "execution_count": 40,
   "metadata": {},
   "outputs": [],
   "source": [
    "soup = BeautifulSoup('<tu>' + annoteted_paragraphs[1] + '</tu>', 'lxml')"
   ]
  },
  {
   "cell_type": "code",
   "execution_count": 43,
   "metadata": {},
   "outputs": [
    {
     "data": {
      "text/plain": [
       "10"
      ]
     },
     "execution_count": 43,
     "metadata": {},
     "output_type": "execute_result"
    }
   ],
   "source": [
    "myNames = soup.find_all('name')\n",
    "len(myNames)"
   ]
  },
  {
   "cell_type": "code",
   "execution_count": null,
   "metadata": {},
   "outputs": [],
   "source": [
    "soup = BeautifulSoup('<tu>' + annoteted_paragraphs[8] + '</tu>', 'lxml')\n",
    "myNames = soup.find_all('name')\n",
    "for person in myNames:\n",
    "    print(person['id'], person.text)"
   ]
  },
  {
   "cell_type": "markdown",
   "metadata": {
    "colab_type": "text",
    "id": "9OhYNrBa7i0v"
   },
   "source": [
    "## Extract Passages with Zhou, Jun"
   ]
  },
  {
   "cell_type": "code",
   "execution_count": 11,
   "metadata": {
    "colab": {},
    "colab_type": "code",
    "id": "Mx2fxaH57i0w"
   },
   "outputs": [],
   "source": [
    "flat_bodies = []\n",
    "\n",
    "for path,body in zip(songshu.paths, songshu.flat_bodies):\n",
    "    if re.search(r\"\\／(['州郡']+)\", path) != None:\n",
    "        flat_bodies.append(body)\n",
    "        \n",
    "songshuGeo = SongShu(date='2018-8-21', creator='MF')\n",
    "songshuGeo.filename = 'ShongShuGeo'\n",
    "songshuGeo.flat_bodies = flat_bodies\n",
    "songshuGeo.extract_paths()"
   ]
  },
  {
   "cell_type": "code",
   "execution_count": 25,
   "metadata": {},
   "outputs": [
    {
     "data": {
      "text/plain": [
       "<html>\n",
       "<body>\n",
       "<a class=\"gobookmark\" href=\"hanji?@96^1115717931^70^^^^@@682676597\" title=\"開啟書籤管理\">史／正史／宋書／志　凡三十卷／卷三十五　志第二十五／州郡一(P.1027)..[底本：宋元明三朝遞修本]</a>\n",
       "<span id=\"fontstyle\" style=\"FONT-SIZE: 12pt;letter-spacing:1pt; LINE-HEIGHT: 18pt;width:99%;word-break:break-all\">\n",
       "<b><h3>宋書卷三十五</h3></b><b><h3>　　志第二十五</h3></b><b><h3>　　　州郡一</h3></b><b><h3>　　　　揚州　南徐州　徐州　南兗州　兗州</h3></b><div style=\"text-indent:2em;padding-left:0em;\">唐堯之世，置十有二牧，及禹平水土，更制九州，冀州堯都，土界廣遠，濟、河為兗州，海、岱為青州，海、岱及淮為徐州，淮、海為揚州，荊及衡陽為荊州，荊、河為豫州，華陽、黑水為梁州，黑水、西河為雍州。自虞至殷無所改變。周氏既有天下，以徐并青，以梁并雍，分冀州之地以為幽、并。漢初又立徐、梁二州。武帝攘卻胡、越，開地斥境，南置交趾，北置朔方，改雍曰涼，改梁曰益，凡為十三州，而司隸部三輔、三河諸郡。東京無復朔方，改交趾曰交州，凡十二州；司隸所部如故。及三國鼎跱，吳得揚、荊、交三州，蜀得益州，魏氏猶得九焉。吳又分交為廣。魏末平蜀，又分益為梁。晉武帝太康元年，天下一統，凡十有六州。後又分涼、雍為秦，分荊、揚為江，分益為寧，分幽為平，而為二十矣。</div>\n",
       "<div style=\"text-indent:2em;padding-left:0em;\">自夷狄亂華，司、冀、雍、涼、青、并、兗、豫、幽、平諸州一時淪沒，遺民南渡，並僑置牧司，非舊土也。江左又分荊為湘，或離或合，凡有揚、荊、湘、江、梁、益、交、廣，其徐州則有過半，豫州唯得譙城而已。及至宋世，分揚州為南徐，徐州為南兗，揚州之江西悉屬豫州，分荊為雍，分荊、湘為郢，分荊為司，分廣為越，分青為冀，分梁為南北秦。太宗初，索虜南侵，青、冀、徐、兗及豫州淮西，並皆不守，自淮以北，化成虜庭。於是於鍾離置徐州，淮陰為北兗，而青、冀二州治贛榆之縣。今志大較以大明八年為正，其後分派，隨事記列。內史、侯、相，則以昇明末為定焉。</div>\n",
       "<div style=\"text-indent:2em;padding-left:0em;\">地理參差，其詳難舉，實由名號驟易，境土屢分，或一郡一縣，割成四五，四五之中，亟有離合，千回百改，巧曆不算，尋校推求，未易精悉。今以班固馬彪二志、太康元康定戶、王隱地道、晉世起居、永初郡國、何徐州郡及地理雜書，互相考覆。且三國無志，事出帝紀，雖立郡時見，而置縣不書。今唯以續漢郡國校太康地志，參伍異同，用相徵驗。自漢至宋，郡縣無移改者，則注云「漢舊」。其有回徙，隨源甄別。若唯云「某無」者，則此前皆有也。若不注置立，史闕也。</div>\n",
       "</span>\n",
       "</body>\n",
       "</html>"
      ]
     },
     "execution_count": 25,
     "metadata": {},
     "output_type": "execute_result"
    }
   ],
   "source": [
    "songshuGeo.flat_bodies[0]"
   ]
  },
  {
   "cell_type": "code",
   "execution_count": 12,
   "metadata": {},
   "outputs": [
    {
     "data": {
      "text/plain": [
       "23"
      ]
     },
     "execution_count": 12,
     "metadata": {},
     "output_type": "execute_result"
    }
   ],
   "source": [
    "len(songshuGeo.flat_bodies)"
   ]
  },
  {
   "cell_type": "markdown",
   "metadata": {
    "colab_type": "text",
    "id": "BLuKq5Dv7i0z"
   },
   "source": [
    "## Get Rid of `page`, `a`, `span` tags"
   ]
  },
  {
   "cell_type": "code",
   "execution_count": 19,
   "metadata": {
    "colab": {},
    "colab_type": "code",
    "id": "LMj9cz4m7i0z"
   },
   "outputs": [],
   "source": [
    "for j in songshuGeo.flat_bodies:\n",
    "    for i in j.find_all(\"table\", {\"class\":\"page\"}):\n",
    "        i.extract()\n",
    "    for i in j.find_all(\"a\", {\"href\":\"#\"}):\n",
    "        i.extract()\n",
    "    for i in j.find_all(\"span\", {\"style\":\"display:none;width:;height:;color:red;font-size:13px\"}):\n",
    "        i.extract() "
   ]
  },
  {
   "cell_type": "markdown",
   "metadata": {
    "colab_type": "text",
    "id": "5oLvr9557i02"
   },
   "source": [
    "## Get Rid of New Lines with No indentions"
   ]
  },
  {
   "cell_type": "code",
   "execution_count": 20,
   "metadata": {
    "colab": {},
    "colab_type": "code",
    "id": "vuGQM4fM7i02"
   },
   "outputs": [],
   "source": [
    "from bs4 import BeautifulSoup\n",
    "\n",
    "# loop over body in flat_bodies:\n",
    "for i,item in enumerate(songshuGeo.flat_bodies):\n",
    "    # the item here is a bs4 object, so we need to convert it to a string\n",
    "    string_item = str(item)\n",
    "    \n",
    "    # and then, substitute the regex pattern in the html source code in the item\n",
    "    updated_string_item = re.sub(\n",
    "        r'<\\/div>([^\\w]|\\n)*?<div style=\"text-indent:0em;padding-left:0em;\">', \n",
    "        r\"\", \n",
    "        string_item\n",
    "    )\n",
    "    \n",
    "    # and then, we need to update the variable, item (with regex substituted), back into the flat_bodies list.\n",
    "    # Note that the updated_string_item has to be converted to bs4 object\n",
    "    songshuGeo.flat_bodies[i] = BeautifulSoup(updated_string_item, \"lxml\")"
   ]
  },
  {
   "cell_type": "code",
   "execution_count": 26,
   "metadata": {},
   "outputs": [
    {
     "data": {
      "text/html": [
       "<html>\n",
       "            <body>\n",
       "                <a class=\"gobookmark\" href=\"hanji?@96^1115717931^70^^^^@@777985222\" title=\"開啟書籤管理\">史／正史／宋書／志　凡三十卷／卷三十八　志第二十八／州郡四／越州(P.1208)..[底本：宋元明三朝遞修本]</a>\n",
       "\t<span id=\"fontstyle\" style=\"FONT-SIZE: 12pt;letter-spacing:1pt; LINE-HEIGHT: 18pt;width:99%;word-break:break-all\">\n",
       "<div style=\"text-indent:2em;padding-left:0em;\">越州刺史，明帝泰始七年立。</div>\n",
       "<div style=\"text-indent:2em;padding-left:0em;\">百梁太守，新立。</div>\n",
       "<div style=\"text-indent:2em;padding-left:0em;\">龍蘇太守，新立。</div>\n",
       "<div style=\"text-indent:2em;padding-left:0em;\">永寧太守，新立。</div>\n",
       "<div style=\"text-indent:2em;padding-left:0em;\">安昌太守，新立。</div>\n",
       "<div style=\"text-indent:2em;padding-left:0em;\">富昌太守，新立。</div>\n",
       "<div style=\"text-indent:2em;padding-left:0em;\">南流太守，新立。</div>\n",
       "<div style=\"text-indent:2em;padding-left:0em;\">臨漳太守，先屬廣州。</div>\n",
       "<div style=\"text-indent:2em;padding-left:0em;\">合浦太守，漢武帝立，孫權黃武七年，更名珠官，孫亮復舊。先屬交州。領縣七。戶九百三十八。去京都水一萬八百。</div>\n",
       "<div style=\"text-indent:-1em;padding-left:5em;\">合浦令，漢舊縣。</div>\n",
       "<div style=\"text-indent:-1em;padding-left:5em;\">徐聞令，故屬朱崖。晉平吳，省朱崖，屬合浦。</div>\n",
       "<div style=\"text-indent:-1em;padding-left:5em;\">朱官長，吳立，「朱」作「珠」。</div>\n",
       "<div style=\"text-indent:-1em;padding-left:5em;\">蕩昌長，晉武分合浦立。</div>\n",
       "<div style=\"text-indent:-1em;padding-left:5em;\">朱盧長，吳立。</div>\n",
       "<div style=\"text-indent:-1em;padding-left:5em;\">晉始長，晉武帝立。</div>\n",
       "<div style=\"text-indent:-1em;padding-left:5em;\">新安長，江左立。</div>\n",
       "<div style=\"text-indent:2em;padding-left:0em;\">宋壽太守，先屬交州。</div>\n",
       "</span>\n",
       "            </body>\n",
       "        </html>\n",
       "        "
      ],
      "text/plain": [
       "<IPython.core.display.HTML object>"
      ]
     },
     "metadata": {},
     "output_type": "display_data"
    }
   ],
   "source": [
    "songshuGeo.pretty_print(22)"
   ]
  },
  {
   "cell_type": "markdown",
   "metadata": {
    "colab_type": "text",
    "id": "Lt_-qRsh7i04"
   },
   "source": [
    "## Extraction of Numbers"
   ]
  },
  {
   "cell_type": "code",
   "execution_count": 17,
   "metadata": {
    "colab": {},
    "colab_type": "code",
    "id": "tvJO2yLF7i05",
    "outputId": "c98bc599-3d7a-4019-b1cd-43973aa1e55f"
   },
   "outputs": [
    {
     "data": {
      "text/plain": [
       "       type       variable                 method current_length\n",
       "0      meta      flat_meta      self.extract_meta              0\n",
       "1      path          paths     self.extract_paths             23\n",
       "2  passages  flat_passages  self.extract_passages              0"
      ]
     },
     "execution_count": 17,
     "metadata": {},
     "output_type": "execute_result"
    }
   ],
   "source": [
    "songshuGeo"
   ]
  },
  {
   "cell_type": "code",
   "execution_count": 22,
   "metadata": {
    "colab": {},
    "colab_type": "code",
    "id": "4qLL9Nsb7i09",
    "outputId": "d545bdba-75e1-4da2-b51d-82ab7d08a101"
   },
   "outputs": [
    {
     "name": "stdout",
     "output_type": "stream",
     "text": [
      "1 ['揚州', '郡', '十', '縣', '八十', '戶', '一十四萬三千二百九十六', '口', '一百四十五萬五千六百八十五', None, None, None, None]\n",
      "2 ['南徐州', '郡', '十七', '縣', '六十三', '戶', '七萬二千四百七十二', '口', '四十二萬六百四十', '水', '二百四十', '陸', '二百']\n",
      "3 ['徐州', '郡', '三', '縣', '九', None, None, None, None, '水', '一千三百六十', '陸', '一千']\n",
      "4 ['南兗州', '郡', '十一', '縣', '四十四', None, None, None, None, '水', '二百五十', '陸', '一百八十']\n",
      "5 ['兗州', '郡', '六', '縣', '三十一', '戶', '二萬九千三百四十', '口', '一十四萬五千五百八十一', None, None, None, None]\n",
      "6 ['南豫州', '郡', '十九', '縣', '九十一', None, None, None, None, None, None, None, None]\n",
      "7 ['豫州', '郡', '十', '縣', '四十三', '戶', '二萬二千九百一十九', '口', '一十五萬八百三十九', None, None, None, None]\n",
      "8 ['江州', '郡', '九', '縣', '六十五', '戶', '五萬二千三十三', '口', '三十七萬七千一百四十七', None, None, None, None]\n",
      "9 ['青州', '郡', '九', '縣', '四十六', '戶', '四萬五百四', '口', '四十萬二千七百二十九', None, None, None, None]\n",
      "10 ['冀州', '郡', '九', '縣', '五十', '戶', '三萬八千七十六', '口', '一十八萬一千一', None, None, None, None]\n",
      "11 ['司州', '郡', '四', '縣', '二十', None, None, None, None, '水', '二千七百', '陸', '一千七百']\n",
      "12 ['荊州', '郡', '十二', '縣', '四十八', '戶', '六萬五千六百四', None, None, None, None, None, None]\n",
      "13 ['郢州', '郡', '六', '縣', '三十九', '戶', '二萬九千四百六十九', '口', '十五萬八千五百八十七', None, None, None, None]\n",
      "14 ['湘州', '郡', '十', '縣', '六十二', '戶', '四萬五千八十九', '口', '三十五萬七千五百七十二', None, None, None, None]\n",
      "15 ['雍州', '郡', '十七', '縣', '六十', '戶', '三萬八千九百七十五', '口', '十六萬七千四百六十七', '水', '四千四百', '陸', '二千一百']\n",
      "16 ['梁州', None, None, None, None, None, None, None, None, None, None, None, None]\n",
      "17 ['秦州', '郡', '十四', '縣', '四十二', '戶', '八千七百三十二', '口', '四萬八百八十八', None, None, None, None]\n",
      "18 ['益州', '郡', '二十九', '縣', '一百二十八', '戶', '五萬三千一百四十一', '口', '二十四萬八千二百九十三', None, None, None, None]\n",
      "19 ['寧州', '郡', '十五', '縣', '八十一', '戶', '一萬二百五十三', None, None, None, None, None, None]\n",
      "20 ['廣州', '郡', '十七', '縣', '一百三十六', '戶', '四萬九千七百二十六', '口', '二十萬六千六百九十四', None, None, None, None]\n",
      "21 ['交州', '郡', '八', '縣', '五十三', '戶', '一萬四百五十三', None, None, None, None, None, None]\n",
      "22 ['越州', None, None, None, None, None, None, None, None, None, None, None, None]\n"
     ]
    }
   ],
   "source": [
    "zhou_csv = []\n",
    "\n",
    "for i,item in enumerate(songshuGeo.flat_bodies):\n",
    "    for match in re.finditer(\n",
    "        r\"([^>]*?)刺史，(.*(郡)([一二三四五六七八九十百千萬]+))?(.*(縣)([一二三四五六七八九十百千萬]+))?(.*(戶)([一二三四五六七八九十百千萬]+))?(.*(口)([一二三四五六七八九十百千萬]+))?(.*(水)([一二三四五六七八九十百千萬]+).*(陸)([一二三四五六七八九十百千萬]+))?\", \n",
    "        str(item)\n",
    "        ):\n",
    "        print(i, [group for j,group in enumerate(match.groups()) if j != 1 and j != 4 and j != 7 and j != 10 and j != 13])\n",
    "        zhou_csv.append((i, [group for j,group in enumerate(match.groups()) if j != 1 and j != 4 and j != 7 and j != 10 and j != 13]))"
   ]
  },
  {
   "cell_type": "code",
   "execution_count": null,
   "metadata": {
    "colab": {},
    "colab_type": "code",
    "id": "gNu5ZsxV7i0_",
    "outputId": "fa71a4ae-ff47-4343-8142-94e1c8ccf85a"
   },
   "outputs": [
    {
     "name": "stdout",
     "output_type": "stream",
     "text": [
      "1 ['丹陽', '尹，', '縣', '八', '戶', '四萬一千一十', '口', '二十三萬七千三百四十一', None, None, None, None]\n",
      "1 ['會稽', '太守，', '縣', '十', '戶', '五萬二千二百二十八', '口', '三十四萬八千一十四', None, None, None, None]\n",
      "1 ['吳郡', '太守，', '縣', '十二', '戶', '五萬四百八十八', '口', '四十二萬四千八百一十二', '水', '六百七十', '陸', '五百二十']\n",
      "1 ['吳興', '太守，', '縣', '十', '戶', '四萬九千六百九', '口', '三十一萬六千一百七十三', '水', '九百五十', '陸', '五百七十']\n",
      "1 ['淮南', '太守，', '縣', '六', '戶', '五千三百六十二', '口', '二萬五千八百四十', '水', '一百七十', '陸', '一百四十']\n",
      "1 ['宣城', '太守，', '縣', '十', '戶', '一萬一百二十', '口', '四萬七千九百九十二', '水', '五百八十', '陸', '五百']\n",
      "1 ['東陽', '太守，', '縣', '九', '戶', '一萬六千二十二', '口', '一十萬七千九百六十五', None, None, None, None]\n",
      "1 ['臨海', '太守，', '縣', '五', '戶', '三千九百六十一', '口', '二萬四千二百二十六', None, None, None, None]\n",
      "1 ['永嘉', '太守，', '縣', '五', '戶', '六千二百五十', '口', '三萬六千六百八十', '水', '二千八百', '陸', '二千六百四十']\n",
      "1 ['新安', '太守，', '縣', '五', '戶', '一萬二千五十八', '口', '三萬六千六百五十一', '水', '一千八百六十', '陸', '一千八百']\n",
      "2 ['南東海', '太守，', '縣', '六', '戶', '五千三百四十二', '口', '三萬三千六百五十八', None, None, None, None]\n",
      "2 ['南琅邪', '太守，', '縣', '二', '戶', '二千七百八十九', '口', '一萬八千六百九十七', '水', '二百', '陸', '一百']\n",
      "2 ['晉陵', '太守，', '縣', '六', '戶', '一萬五千三百八十二', '口', '八萬一百一十三', None, None, None, None]\n",
      "2 ['義興', '太守，', '縣', '五', '戶', '一萬三千四百九十六', '口', '八萬九千五百二十五', None, None, None, None]\n",
      "2 ['南蘭陵', '太守，', '縣', '二', '戶', '一千五百九十三', '口', '一萬六百三十四', None, None, None, None]\n",
      "2 ['南東莞', '太守，', '縣', '三', '戶', '一千四百二十四', '口', '九千八百五十四', None, None, None, None]\n",
      "2 ['臨淮', '太守，', '縣', '七', '戶', '三千七百一十一', '口', '二萬二千八百八十六', None, None, None, None]\n",
      "2 ['淮陵', '太守，', '縣', '三', '戶', '一千九百五', '口', '一萬六百三十', None, None, None, None]\n",
      "2 ['南彭城', '太守，', '縣', '十二', '戶', '一萬一千七百五十八', '口', '六萬八千一百六十三', None, None, None, None]\n",
      "2 ['南清河', '太守，', '縣', '四', '戶', '一千八百四十九', '口', '七千四百四', None, None, None, None]\n",
      "2 ['南高平', '太守，', '縣', '三', '戶', '一千七百一十八', '口', '九千七百三十一', None, None, None, None]\n",
      "2 ['南平昌', '太守，', '縣', '四', '戶', '二千一百七十八', '口', '一萬一千七百四十一', None, None, None, None]\n",
      "2 ['南濟陰', '太守，', '縣', '四', '戶', '一千六百五十五', '口', '八千一百九十三', None, None, None, None]\n",
      "2 ['南濮陽', '太守，', '縣', '二', '戶', '二千二十六', '口', '八千二百三十九', None, None, None, None]\n",
      "2 ['南泰山', '太守，', '縣', '三', '戶', '二千四百九十九', '口', '一萬三千六百', None, None, None, None]\n",
      "2 ['濟陽', '太守，', '縣', '二', '戶', '一千二百三十二', '口', '八千一百九十二', None, None, None, None]\n",
      "2 ['南魯郡', '太守，', '縣', '二', '戶', '一千二百一十一', '口', '六千八百一十八', None, None, None, None]\n",
      "3 ['彭城', '太守，', '縣', '五', '戶', '八千六百二十七', '口', '四萬一千二百三十一', None, None, None, None]\n",
      "3 ['沛郡', '太守，', '縣', '三', '戶', '五千二百九', '口', '二萬五千一百七十', None, None, None, None]\n",
      "3 ['下邳', '太守，', '縣', '三', '戶', '三千九十九', '口', '一萬六千八十八', '水', '一千一百六十', '陸', '八百']\n",
      "3 ['蘭陵', '太守，', '縣', '三', '戶', '三千一百六十四', '口', '一萬四千五百九十七', '水', '一千六百', '陸', '一千三百']\n",
      "3 ['東海', '太守，', '縣', '二', '戶', '二千四百一十一', '口', '一萬三千九百四十一', '水', '一千', '陸', '六百七十']\n",
      "3 ['東莞', '太守，', '縣', '三', '戶', '八百八十七', '口', '七千三百二十', '水', '二千', '陸', '一千四百']\n",
      "3 ['東安', '太守，', '縣', '三', '戶', '一千二百八十五', '口', '一萬七百五十五', None, None, None, None]\n",
      "3 ['琅邪', '太守，', '縣', '二', '戶', '一千八百一十八', '口', '八千二百四十三', '水', '一千五百', '陸', '一千一百']\n",
      "3 ['淮陽', '太守，', '縣', '四', '戶', '二千八百五十五', '口', '一萬五千三百六十三', '水', '七百', '陸', '五百五十']\n",
      "3 ['陽平', '太守，', '縣', '三', '戶', '一千七百二十五', '口', '一萬三千三百三十', None, None, None, None]\n",
      "3 ['濟陰', '太守，', '縣', '三', '戶', '二千三百五', '口', '一萬一千九百二十八', None, None, None, None]\n",
      "3 ['北濟陰', '太守，', '縣', '三', '戶', '九百二十七', '口', '三千八百十', None, None, None, None]\n",
      "3 ['鍾離', '太守，', '縣', '三', '戶', '三千二百七十二', '口', '一萬七千八百三十二', None, None, None, None]\n",
      "3 ['馬頭', '太守，', '縣', '三', '戶', '一千三百三十二', '口', '一萬二千三百一十', '水', '一千七百五十', '陸', '六百七十']\n",
      "4 ['廣陵', '太守，', '縣', '四', '戶', '七千七百四十四', '口', '四萬五千六百一十三', None, None, None, None]\n",
      "4 ['海陵', '太守，', '縣', '六', '戶', '三千六百二十六', '口', '二萬一千六百六十', None, None, None, None]\n",
      "4 ['山陽', '太守，', '縣', '四', '戶', '二千八百一十四', '口', '二萬二千四百七十', None, None, None, None]\n",
      "4 ['盱眙', '太守，', '縣', '五', '戶', '一千五百一十八', '口', '六千八百二十五', '水', '七百', '陸', '五百']\n",
      "4 ['秦郡', '太守，', '縣', '四', '戶', '三千三百三十三', '口', '一萬五千二百九十六', '水', '一百五十', '陸', '一百四十']\n",
      "4 ['南沛', '太守，', '縣', '三', '戶', '一千一百九', '口', '一萬二千九百七十', None, None, None, None]\n",
      "5 ['泰山', '太守，', '縣', '八', '戶', '八千一百七十七', '口', '四萬五千五百八十一', None, None, None, None]\n",
      "5 ['高平', '太守，', '縣', '六', '戶', '六千三百五十八', '口', '二萬一千一百一十二', None, None, None, None]\n",
      "5 ['魯郡', '太守，', '縣', '六', '戶', '四千六百三十一', '口', '二萬八千三百七', None, None, None, None]\n",
      "5 ['東平', '太守，', '縣', '五', '戶', '四千一百五十九', '口', '一萬七千二百九十五', '水', '二千', '陸', '一千四百']\n",
      "5 ['陽平', '太守，', '縣', '五', '戶', '二千八百五十七', '口', '一萬一千二百七十一', None, None, None, None]\n",
      "5 ['濟北', '太守，', '縣', '三', '戶', '三千一百五十八', '口', '一萬七千三', '水', '二千', '陸', '一千五百']\n",
      "6 ['歷陽', '太守，', '縣', '五', '戶', '三千一百五十六', '口', '一萬九千四百七十', None, None, None, None]\n",
      "6 ['南譙', '太守，', '縣', '六', '戶', '四千四百三十二', '口', '二萬二千三百五十八', '水', '七百', '陸', '五百']\n",
      "6 ['廬江', '太守，', '縣', '三', '戶', '一千九百九', '口', '一萬一千九百九十七', '水', '一千一百', '陸', '六百三十一']\n",
      "6 ['南汝陰', '太守，', '縣', '五', '戶', '二千七百一', '口', '一萬九千五百八十五', '水', '一千', '陸', '五百三十']\n",
      "6 ['南梁', '太守，', '縣', '九', '戶', '六千二百一十二', '口', '四萬二千七百五十四', '水', '一千七百', '陸', '七百']\n",
      "6 ['晉熙', '太守，', '縣', '五', '戶', '一千五百二十一', '口', '七千四百九十七', None, None, None, None]\n",
      "6 ['弋陽', '太守，', '縣', '六', '戶', '三千二百七十五', '口', '二萬四千二百六十二', None, None, None, None]\n",
      "6 ['邊城左郡', '太守，', '縣', '四', '戶', '四百一十七', '口', '二千四百七十九', None, None, None, None]\n",
      "7 ['汝南', '太守，', '縣', '十一', '戶', '一萬一千二百九十一', '口', '八萬九千三百四十九', '水', '三千', '陸', '一千五百']\n",
      "7 ['新蔡', '太守，', '縣', '四', '戶', '二千七百七十四', '口', '一萬九千八百八十', '水', '二千五百', '陸', '一千四百']\n",
      "7 ['譙郡', '太守，', '縣', '六', '戶', '一千四百二十四', '口', '七千四百四', '水', '二千', '陸', '一千二百']\n",
      "7 ['梁郡', '太守，', '縣', '二', '戶', '九百六十八', '口', '五千五百', None, None, None, None]\n",
      "7 ['陳郡', '太守，', '縣', '四', '戶', '六百九十三', '口', '四千一百一十三', None, None, None, None]\n",
      "7 ['南頓', '太守，', '縣', '二', '戶', '五百二十六', '口', '二千三百六十五', None, None, None, None]\n",
      "7 ['潁川', '太守，', '縣', '三', '戶', '六百四十九', '口', '二千五百七十九', None, None, None, None]\n",
      "7 ['汝陽', '太守，', '縣', '二', '戶', '九百四十一', '口', '四千四百九十五', None, None, None, None]\n",
      "7 ['汝陰', '太守，', '縣', '四', '戶', '二千七百四十九', '口', '一萬四千三百三十五', None, None, None, None]\n",
      "7 ['陳留', '太守，', '縣', '四', '戶', '百九十六', '口', '二千四百一十三', None, None, None, None]\n",
      "8 ['尋陽', '太守，', '縣', '三', '戶', '二千七百二十', '口', '一萬六千八', None, None, None, None]\n",
      "8 ['豫章', '太守，', '縣', '十二', '戶', '一萬六千一百三十九', '口', '一十二萬二千五百七十三', '水', '一千九百', '陸', '二千一百']\n",
      "8 ['鄱陽', '太守，', '縣', '六', '戶', '三千二百四十二', '口', '一萬九百五十', '水', '一千八百四十', '陸', '二千六十']\n",
      "8 ['廬陵', '太守，', '縣', '九', '戶', '四千四百五十五', '口', '三萬一千二百七十一', '水', '二千', '陸', '一千六百']\n",
      "8 ['安成', '太守，', '縣', '七', '戶', '六千一百一十六', '口', '五萬三百二十三', '水', '三千三百', '陸', '三千六百']\n",
      "8 ['南康公', '相，', '縣', '七', '戶', '四千四百九十三', '口', '三萬四千六百八十四', None, None, None, None]\n",
      "8 ['南新蔡', '太守，', '縣', '四', '戶', '一千七百三十', '口', '八千八百四十八', '水', '一千三百七十', '陸', '一千八百八十']\n",
      "8 ['建安', '太守，', '縣', '七', '戶', '三千四十二', '口', '一萬七千六百八十六', None, None, None, None]\n",
      "8 ['晉安', '太守，', '縣', '五', '戶', '二千八百四十三', '口', '一萬九千八百三十八', None, None, None, None]\n",
      "9 ['齊郡', '太守，', '縣', '七', '戶', '七千三百四十六', '口', '萬四千八百八十九', None, None, None, None]\n",
      "9 ['濟南', '太守，', '縣', '六', '戶', '五千五十六', '口', '三萬八千一百七十五', None, None, None, None]\n",
      "9 ['樂安', '太守，', '縣', '三', '戶', '二千二百五十九', '口', '一萬四千九百九十一', None, None, None, None]\n",
      "9 ['高密', '太守，', '縣', '六', '戶', '二千三百四', '口', '一萬三千八百二', None, None, None, None]\n",
      "9 ['平昌', '太守，', '縣', '五', '戶', '二千二百七十', '口', '一萬五千五十', None, None, None, None]\n",
      "9 ['北海', '太守，', '縣', '六', '戶', '三千九百六十八', '口', '三萬五千九百九十五', None, None, None, None]\n",
      "9 ['東萊', '太守，', '縣', '七', '戶', '一萬一百三十一', '口', '七萬五千一百四十九', None, None, None, None]\n",
      "9 ['太原', '太守，', '縣', '三', '戶', '二千七百五十七', '口', '二萬四千六百九十四', None, None, None, None]\n",
      "9 ['長廣', '太守，', '縣', '四', '戶', '二千九百六十六', '口', '二萬二十三', None, None, None, None]\n",
      "10 ['廣川', '太守，', '縣', '四', '戶', '三千二百五十', '口', '二萬三千六百一十四', None, None, None, None]\n",
      "10 ['平原', '太守，', '縣', '八', '戶', '五千九百一十三', '口', '二萬九千二百六十七', None, None, None, None]\n",
      "10 ['清河', '太守，', '縣', '七', '戶', '三千七百九十四', '口', '二萬九千二百七十四', None, None, None, None]\n",
      "10 ['樂陵', '太守，', '縣', '五', '戶', '三千一百三', '口', '一萬六千六百六十一', None, None, None, None]\n",
      "10 ['魏郡', '太守，', '縣', '八', '戶', '六千四百五', '口', '三萬三千六百八十二', None, None, None, None]\n",
      "10 ['河間', '太守，', '縣', '六', '戶', '二千七百八十一', '口', '一萬七千七百七', None, None, None, None]\n",
      "10 ['頓丘', '太守，', '縣', '四', '戶', '一千二百三十八', '口', '三千八百五十一', None, None, None, None]\n",
      "10 ['高陽', '太守，', '縣', '五', '戶', '二千二百九十七', '口', '一萬四千七百二十五', None, None, None, None]\n",
      "10 ['勃海', '太守，', '縣', '三', '戶', '一千九百五', '口', '萬二千一百六十六', None, None, None, None]\n",
      "11 ['義陽', '太守，', '縣', '七', '戶', '八千三十一', '口', '四萬一千五百九十七', None, None, None, None]\n",
      "11 ['隨陽', '太守，', '縣', '四', '戶', '四千六百', None, None, None, None, None, None]\n",
      "11 ['安陸', '太守，', '縣', '二', '戶', '六千四十三', '口', '二萬五千八十四', None, None, None, None]\n",
      "12 ['南郡', '太守，', '縣', '九', '戶', '一萬四千五百四十四', '口', '七萬五千八十七', None, None, None, None]\n",
      "12 ['天門', '太守，', '縣', '四', '戶', '三千一百九十五', None, None, '水', '一千二百', '陸', '六百']\n",
      "12 ['宜都', '太守，', '縣', '四', '戶', '一千八百四十三', '口', '三萬四千二百二十', None, None, None, None]\n",
      "12 ['巴東公', '相，', '縣', '七', '戶', '一萬三千七百九十五', '口', '四萬五千二百三十七', None, None, None, None]\n",
      "12 ['南義陽', '太守，', '縣', '二', '戶', '一千六百七', '口', '九千七百四十一', None, None, None, None]\n",
      "12 ['新興', '太守，', '縣', '三', '戶', '二千三百一', '口', '九千五百八十四', None, None, None, None]\n",
      "12 ['南河東', '太守，', '縣', '四', '戶', '二千四百二十三', '口', '一萬四百八十七', None, None, None, None]\n",
      "12 ['建平', '太守，', '縣', '七', '戶', '一千三百二十九', '口', '二萬八百一十四', None, None, None, None]\n",
      "12 ['永寧', '太守，', '縣', '二', '戶', '一千一百五十七', '口', '四千二百七十四', None, None, None, None]\n",
      "12 ['武寧', '太守，', '縣', '二', '戶', '九百五十八', '口', '四千九百一十四', None, None, None, None]\n",
      "13 ['江夏', '太守，', '縣', '七', '戶', '五千七十二', '口', '二萬三千八百一十', None, None, None, None]\n",
      "13 ['竟陵', '太守，', '縣', '六', '戶', '八千五百九十一', '口', '四萬四千三百七十五', None, None, None, None]\n",
      "13 ['武陵', '太守，', '縣', '十', '戶', '五千九十', '口', '三萬七千五百五十五', None, None, None, None]\n",
      "13 ['巴陵', '太守，', '縣', '四', '戶', '五千一百八十七', '口', '二萬五千三百一十六', None, None, None, None]\n",
      "13 ['武昌', '太守，', '縣', '三', '戶', '二千五百四十六', '口', '一萬一千四百一十一', None, None, None, None]\n",
      "13 ['西陽', '太守，', '縣', '十', '戶', '二千九百八十三', '口', '一萬六千一百二十', None, None, None, None]\n",
      "14 ['桂陽', '太守，', '縣', '六', '戶', '二千二百一十九', '口', '二萬二千一百九十二', None, None, None, None]\n",
      "14 ['營陽', '太守，', '縣', '四', '戶', '一千六百八', '口', '二萬九百二十七', None, None, None, None]\n",
      "14 ['湘東', '太守，', '縣', '五', '戶', '一千三百九十六', '口', '一萬七千四百五十', None, None, None, None]\n",
      "14 ['邵陵', '太守，', '縣', '七', '戶', '一千九百一十六', '口', '二萬五千五百六十五', '水', '七百', '陸', '一千三百']\n",
      "14 ['廣興公', '相，', '縣', '七', '戶', '一萬一千七百五十六', '口', '七萬六千三百二十八', None, None, None, None]\n",
      "15 ['襄陽公', '相，', '縣', '三', '戶', '四千二十四', '口', '一萬六千四百九十六', None, None, None, None]\n",
      "15 ['南陽', '太守，', '縣', '七', '戶', '四千七百二十七', '口', '三萬八千一百三十二', None, None, None, None]\n",
      "15 ['新野', '太守，', '縣', '五', '戶', '四千二百三十五', '口', '一萬四千七百九十三', None, None, None, None]\n",
      "15 ['順陽', '太守，', '縣', '七', '戶', '四千一百六十三', '口', '二萬三千一百六十三', None, None, None, None]\n",
      "15 ['京兆', '太守，', '縣', '三', '戶', '二千三百七', '口', '九千二百二十三', None, None, None, None]\n",
      "15 ['始平', '太守，', '縣', '四', '戶', '二千七百九十七', '口', '五千五百十二', None, None, None, None]\n",
      "15 ['扶風', '太守，', '縣', '三', '戶', '二千一百五十七', '口', '七千二百九十', None, None, None, None]\n",
      "15 ['南上洛', '太守，', '縣', '二', '戶', '一百四十四', '口', '四百七十七', None, None, None, None]\n",
      "15 ['河南', '太守，', '縣', '五', '戶', '三千五百四十一', '口', '一萬三千四百七十', None, None, None, None]\n",
      "15 ['廣平', '太守，', '縣', '四', '戶', '二千六百二十七', '口', '六千二百九十三', None, None, None, None]\n",
      "15 ['義成', '太守，', '縣', '二', '戶', '一千五百二十一', '口', '五千一百一', None, None, None, None]\n",
      "15 ['馮翊', '太守，', '縣', '三', '戶', '二千七十八', '口', '五千三百二十一', None, None, None, None]\n",
      "15 ['南天水', '太守，', '縣', '四', '戶', '六百八十七', '口', '三千一百二十二', None, None, None, None]\n",
      "15 ['建昌', '太守，', '縣', '二', '戶', '七百三十二', '口', '四千二百六十四', None, None, None, None]\n",
      "15 ['華山', '太守，', '縣', '三', '戶', '一千三百九十九', '口', '五千三百四十二', None, None, None, None]\n",
      "16 ['漢中', '太守，', '縣', '四', '戶', '一千七百八十六', '口', '一萬三百三十四', None, None, None, None]\n",
      "16 ['新城', '太守，', '縣', '六', '戶', '一千六百六十八', '口', '七千五百九十四', None, None, None, None]\n",
      "16 ['上庸', '太守，', '縣', '七', '戶', '四千五百五十四', '口', '二萬六百五十三', None, None, None, None]\n",
      "16 ['華陽', '太守，', '縣', '四', '戶', '二千五百六十一', '口', '萬五千四百九十四', None, None, None, None]\n",
      "16 ['新巴', '太守，', '縣', '三', '戶', '三百九十三', '口', '二千七百四十九', None, None, None, None]\n",
      "16 ['南陰平', '太守，', '縣', '二', '戶', '四百七', None, None, None, None, None, None]\n",
      "16 ['巴渠', '太守，', '縣', '七', '戶', '五百', '口', '二千一百八十三', None, None, None, None]\n",
      "16 ['懷安', '太守，', '縣', '二', '戶', '四百七', '口', '二千三百六十六', None, None, None, None]\n",
      "16 ['宋熙', '太守，', '縣', '五', '戶', '一千三百八十五', '口', '三千一百二十八', None, None, None, None]\n",
      "16 ['白水', '太守，', '縣', '六', '戶', '六百五', None, None, None, None, None, None]\n",
      "16 ['北上洛', '太守，', '縣', '七', '戶', '二百五十四', None, None, None, None, None, None]\n",
      "16 ['懷漢', '太守，', '縣', '三', '戶', '四百十九', None, None, None, None, None, None]\n",
      "17 ['武都', '太守，', '縣', '三', '戶', '一千二百七十四', '口', '六千一百四十', None, None, None, None]\n",
      "17 ['略陽', '太守，', '縣', '三', '戶', '一千三百五十九', '口', '五千六百五十七', None, None, None, None]\n",
      "17 ['安固', '太守，', '縣', '二', '戶', '一千五百五', '口', '二千四十四', None, None, None, None]\n",
      "17 ['西京兆', '太守，', '縣', '三', '戶', '六百九十三', '口', '四千五百五十二', None, None, None, None]\n",
      "17 ['南太原', '太守，', '縣', '一', '戶', '二百三十三', '口', '一千一百五十六', None, None, None, None]\n",
      "17 ['南安', '太守，', '縣', '二', '戶', '六百二十', '口', '三千八十九', None, None, None, None]\n",
      "17 ['馮翊', '太守，', '縣', '五', '戶', '一千四百九十', '口', '六千八百五十四', None, None, None, None]\n",
      "17 ['隴西', '太守，', '縣', '六', '戶', '一千五百六十一', '口', '七千五百三十', None, None, None, None]\n",
      "17 ['始平', '太守，', '縣', '三', '戶', '八百五十九', '口', '五千四百四十一', None, None, None, None]\n",
      "17 ['金城', '太守，', '縣', '二', '戶', '三百七十五', '口', '一千', None, None, None, None]\n",
      "17 ['安定', '太守，', '縣', '二', '戶', '六百四十', '口', '二千五百一十八', None, None, None, None]\n",
      "17 ['天水', '太守，', '縣', '二', '戶', '八百九十三', '口', '五千二百二十八', None, None, None, None]\n",
      "17 ['西扶風', '太守，', '縣', '二', '戶', '百四十四', None, None, None, None, None, None]\n",
      "18 ['蜀郡', '太守，', '縣', '五', '戶', '一萬一千九百二', '口', '六萬八百七十六', None, None, None, None]\n",
      "18 ['廣漢', '太守，', '縣', '六', '戶', '四千五百八十六', '口', '二萬七千一百四十九', None, None, None, None]\n",
      "18 ['巴西', '太守，', '縣', '九', '戶', '四千九百五十四', '口', '三萬三千三百四十六', None, None, None, None]\n",
      "18 ['梓潼', '太守，', '縣', '四', '戶', '三千三十四', '口', '二萬一千九百七十六', None, None, None, None]\n",
      "18 ['巴郡', '太守，', '縣', '四', '戶', '三千七百三十四', '口', '一萬三千一百八十三', '水', '一千八百', '陸', '五百']\n",
      "18 ['遂寧', '太守，', '縣', '四', '戶', '三千三百二十', None, None, None, None, None, None]\n",
      "18 ['江陽', '太守，', '縣', '四', '戶', '一千五百二十五', '口', '八千二十七', None, None, None, None]\n",
      "18 ['懷寧', '太守，', '縣', '三', '戶', '一千三百一十五', '口', '五千九百五十', None, None, None, None]\n",
      "18 ['寧蜀', '太守，', '縣', '四', '戶', '一千六百四十三', None, None, None, None, None, None]\n",
      "18 ['越嶲', '太守，', '縣', '八', '戶', '一千三百四十九', None, None, None, None, None, None]\n",
      "18 ['汶山', '太守，', '縣', '二', '戶', '一千一百七', '口', '六千一百五', None, None, None, None]\n",
      "18 ['犍為', '太守，', '縣', '五', '戶', '一千三百九十', '口', '四千五十七', None, None, None, None]\n",
      "18 ['始康', '太守，', '縣', '四', '戶', '一千六十三', '口', '四千二百二十六', None, None, None, None]\n",
      "18 ['晉熙', '太守，', '縣', '二', '戶', '七百八十五', '口', '三千九百二十五', None, None, None, None]\n",
      "18 ['晉原', '太守，', '縣', '五', '戶', '一千二百七十二', '口', '四千九百六十', None, None, None, None]\n",
      "18 ['宋寧', '太守，', '縣', '三', '戶', '一千三十六', '口', '八千三百四十二', None, None, None, None]\n",
      "18 ['安固', '太守，', '縣', '六', '戶', '一千一百二十', '口', '六千五百五十七', None, None, None, None]\n",
      "18 ['南漢中', '太守，', '縣', '五', '戶', '一千八十四', '口', '五千二百四十六', None, None, None, None]\n",
      "18 ['北陰平', '太守，', '縣', '四', '戶', '一千五十三', '口', '六千七百六十四', None, None, None, None]\n",
      "18 ['武都', '太守，', '縣', '五', '戶', '九百八十二', '口', '四千四百一', None, None, None, None]\n",
      "18 ['新城', '太守，', '縣', '二', '戶', '七百五十三', '口', '五千九百七十一', None, None, None, None]\n",
      "18 ['南新巴', '太守，', '縣', '六', '戶', '一千七十', '口', '二千六百八十三', None, None, None, None]\n",
      "18 ['南晉壽', '太守，', '縣', '五', '戶', '一千五十七', '口', '一千九百四十三', None, None, None, None]\n",
      "18 ['宋興', '太守，', '縣', '三', '戶', '四百九十六', '口', '一千九百四十三', None, None, None, None]\n",
      "18 ['南宕渠', '太守，', '縣', '三', '戶', '五百四', '口', '三千一百二十七', None, None, None, None]\n",
      "18 ['天水', '太守，', '縣', '三', '戶', '四百六十一', None, None, None, None, None, None]\n",
      "18 ['東江陽', '太守，', '縣', '二', '戶', '一百四十二', '口', '七百四十', None, None, None, None]\n",
      "18 ['沈黎', '太守，', '縣', '四', '戶', '六十五', None, None, None, None, None, None]\n",
      "19 ['建寧', '太守，', '縣', '十三', '戶', '二千五百六十二', None, None, None, None, None, None]\n",
      "19 ['晉寧', '太守，', '縣', '七', '戶', '六百三十七', None, None, None, None, None, None]\n",
      "19 ['\\uf521\\uf6a4羊牱', '太守，', '縣', '六', '戶', '一千九百七十', None, None, None, None, None, None]\n",
      "19 ['平蠻', '太守，', '縣', '二', '戶', '二百四十五', None, None, None, None, None, None]\n",
      "19 ['夜郎', '太守，', '縣', '四', '戶', '二百八十八', None, None, None, None, None, None]\n",
      "19 ['朱提', '太守，', '縣', '五', '戶', '一千一十', None, None, None, None, None, None]\n",
      "19 ['南廣', '太守，', '縣', '四', '戶', '四百四十', None, None, None, None, None, None]\n",
      "19 ['建都', '太守，', '縣', '六', '戶', '一百七', None, None, None, None, None, None]\n",
      "19 ['西平', '太守，', '縣', '五', '戶', '一百七十六', None, None, None, None, None, None]\n",
      "19 ['西河陽', '太守，', '縣', '三', '戶', '三百六十九', None, None, None, None, None, None]\n",
      "19 ['東河陽', '太守，', '縣', '二', '戶', '一百五十二', None, None, None, None, None, None]\n",
      "19 ['雲南', '太守，', '縣', '五', '戶', '三百八十一', None, None, None, None, None, None]\n",
      "19 ['興寧', '太守，', '縣', '二', '戶', '七百五十三', None, None, None, None, None, None]\n",
      "19 ['興古', '太守，', '縣', '六', '戶', '三百八十六', None, None, None, None, None, None]\n",
      "19 ['梁水', '太守，', '縣', '七', '戶', '四百三十一', None, None, None, None, None, None]\n",
      "20 ['南海', '太守，', '縣', '十', '戶', '八千五百七十四', '口', '四萬九千一百五十七', None, None, None, None]\n",
      "20 ['蒼梧', '太守，', '縣', '十一', '戶', '六千五百九十三', '口', '萬一千七百五十三', None, None, None, None]\n",
      "20 ['晉康', '太守，', '縣', '十四', '戶', '四千五百四十七', '口', '一萬七千七百一十', None, None, None, None]\n",
      "20 ['新寧', '太守，', '縣', '十四', '戶', '二千六百五十三', '口', '一萬五百一十四', None, None, None, None]\n",
      "20 ['永平', '太守，', '縣', '七', '戶', '一千六百九', '口', '一萬七千二百二', None, None, None, None]\n",
      "20 ['鬱林', '太守，', '縣', '十七', '戶', '一千一百二十一', '口', '五千七百二十七', None, None, None, None]\n",
      "20 ['桂林', '太守，', '縣', '七', '戶', '五百五十八', '口', '二千二百五', None, None, None, None]\n",
      "20 ['高涼', '太守，', '縣', '七', '戶', '一千四百二十九', '口', '八千一百二十三', None, None, None, None]\n",
      "20 ['新會', '太守，', '縣', '十二', '戶', '一千七百三十九', '口', '萬五百九', None, None, None, None]\n",
      "20 ['東官', '太守，', '縣', '六', '戶', '一千三百三十二', '口', '一萬五千六百九十六', None, None, None, None]\n",
      "20 ['義安', '太守，', '縣', '五', '戶', '一千一百一十九', '口', '五千五百二十二', None, None, None, None]\n",
      "20 ['宋康', '太守，', '縣', '九', '戶', '一千五百一十三', '口', '九千一百三十一', None, None, None, None]\n",
      "20 ['綏建', '太守，', '縣', '七', '戶', '三千七百六十四', '口', '一萬四千四百九十一', None, None, None, None]\n",
      "20 ['海昌', '太守，', '縣', '五', '戶', '一千七百二十四', '口', '四千七十四', None, None, None, None]\n",
      "20 ['宋熙', '太守，', '縣', '七', '戶', '二千八十四', '口', '六千四百五十', None, None, None, None]\n",
      "21 ['交趾', '太守，', '縣', '十二', '戶', '四千二百三十三', None, None, None, None, None, None]\n",
      "21 ['武平', '太守，', '縣', '六', '戶', '一千四百九十', None, None, None, None, None, None]\n",
      "21 ['九真', '太守，', '縣', '十二', '戶', '二千三百二十八', None, None, None, None, None, None]\n",
      "21 ['九德', '太守，', '縣', '十一', '戶', '八百九', None, None, None, None, None, None]\n",
      "21 ['日南', '太守，', '縣', '七', '戶', '四百二', None, None, None, None, None, None]\n",
      "22 ['合浦', '太守，', '縣', '七', '戶', '九百三十八', None, None, None, None, None, None]\n"
     ]
    }
   ],
   "source": [
    "jun_csv = []\n",
    "\n",
    "for i,item in enumerate(songshuGeo.flat_bodies):\n",
    "    for match in re.finditer(\n",
    "        r\"([^>]+?)(太守，|尹，|相，).*(縣)([一二三四五六七八九十百千萬]+).*(戶)([一二三四五六七八九十百千萬]+)(.*(口)([一二三四五六七八九十百千萬]+))?(.*(水)([一二三四五六七八九十百千萬]+).*(陸)([一二三四五六七八九十百千萬]+))?\", \n",
    "        str(item)\n",
    "        ):\n",
    "        print(i, [group for j,group in enumerate(match.groups()) if j != 6 and j != 9])\n",
    "        jun_csv.append((i, [group for j,group in enumerate(match.groups()) if j != 6 and j != 9]))"
   ]
  },
  {
   "cell_type": "markdown",
   "metadata": {
    "colab_type": "text",
    "id": "SmgSwjH77i1E"
   },
   "source": [
    "## NameTuple"
   ]
  },
  {
   "cell_type": "code",
   "execution_count": null,
   "metadata": {
    "colab": {},
    "colab_type": "code",
    "id": "NQZMY3DT7i1F",
    "outputId": "7149bcc9-7749-4fdf-e22c-2c9a19db02da"
   },
   "outputs": [
    {
     "data": {
      "text/plain": [
       "州(Name='廣州', 郡='十七', 縣='一百三十六', 戶='四萬九千七百二十六', 口='二十萬六千六百九十四', 水=None, 陸=None, data=[郡(Name='合浦', 縣='七', 戶='九百三十八', 口=None, 水=None, 陸=None, 州='廣州'), 郡(Name='日南', 縣='七', 戶='四百二', 口=None, 水=None, 陸=None, 州='廣州')])"
      ]
     },
     "execution_count": 251,
     "metadata": {
      "tags": []
     },
     "output_type": "execute_result"
    }
   ],
   "source": [
    "from collections import namedtuple\n",
    "\n",
    "Jun = namedtuple(\"郡\", [\"Name\", \"縣\", \"戶\", \"口\", \"水\", \"陸\", \"州\"])\n",
    "Jun(Name=\"合浦\", 縣='七', 戶='九百三十八', 口=None, 水=None, 陸=None, 州=\"廣州\")\n",
    "\n",
    "Zhou = namedtuple(\"州\", [\"Name\", \"郡\", \"縣\", \"戶\", \"口\", \"水\", \"陸\", \"data\"])\n",
    "Zhou(\n",
    "    Name=\"廣州\", \n",
    "    郡='十七', \n",
    "    縣='一百三十六', \n",
    "    戶='四萬九千七百二十六', \n",
    "    口='二十萬六千六百九十四', \n",
    "    水=None, \n",
    "    陸=None,  \n",
    "    data=[Jun(Name=\"合浦\", 縣='七', 戶='九百三十八', 口=None, 水=None, 陸=None,  州=\"廣州\"), \n",
    "          Jun(Name=\"日南\", 縣='七', 戶='四百二', 口=None, 水=None, 陸=None,  州=\"廣州\")]\n",
    ")"
   ]
  },
  {
   "cell_type": "markdown",
   "metadata": {
    "colab_type": "text",
    "id": "Sl1tw1HI7i1H"
   },
   "source": [
    "## CNum to Num"
   ]
  },
  {
   "cell_type": "code",
   "execution_count": 23,
   "metadata": {
    "colab": {},
    "colab_type": "code",
    "id": "qKAFjVa_7i1I"
   },
   "outputs": [],
   "source": [
    "import pycnnum"
   ]
  },
  {
   "cell_type": "code",
   "execution_count": 24,
   "metadata": {
    "colab": {},
    "colab_type": "code",
    "id": "r3j4OcOt7i1L",
    "outputId": "3d1b7dff-5a38-4cdc-f7f3-705916565aa4"
   },
   "outputs": [
    {
     "data": {
      "text/plain": [
       "136"
      ]
     },
     "execution_count": 24,
     "metadata": {},
     "output_type": "execute_result"
    }
   ],
   "source": [
    "pycnnum.cn2num(\"一百三十六\", numbering_type=\"mid\")"
   ]
  },
  {
   "cell_type": "code",
   "execution_count": null,
   "metadata": {
    "colab": {},
    "colab_type": "code",
    "id": "ysAejIwX7i1Q",
    "outputId": "b0c412ec-d6fc-4b60-8929-bc6451b20061"
   },
   "outputs": [
    {
     "data": {
      "text/plain": [
       "49726"
      ]
     },
     "execution_count": 74,
     "metadata": {
      "tags": []
     },
     "output_type": "execute_result"
    }
   ],
   "source": [
    "pycnnum.cn2num(\"四萬九千七百二十六\", numbering_type=\"mid\")"
   ]
  },
  {
   "cell_type": "code",
   "execution_count": null,
   "metadata": {
    "colab": {},
    "colab_type": "code",
    "id": "AAonUF9r7i1T",
    "outputId": "7e58ca56-8adc-4cf8-80dc-62c3f6a5d661"
   },
   "outputs": [
    {
     "data": {
      "text/plain": [
       "206694"
      ]
     },
     "execution_count": 75,
     "metadata": {
      "tags": []
     },
     "output_type": "execute_result"
    }
   ],
   "source": [
    "pycnnum.cn2num(\"二十萬六千六百九十四\", numbering_type=\"mid\")"
   ]
  },
  {
   "cell_type": "markdown",
   "metadata": {
    "colab_type": "text",
    "id": "Q7XMrVZV7i1W"
   },
   "source": [
    "## Organize the Zhou, Jun Data"
   ]
  },
  {
   "cell_type": "code",
   "execution_count": null,
   "metadata": {
    "colab": {},
    "colab_type": "code",
    "id": "Yee3my8M7i1X"
   },
   "outputs": [],
   "source": [
    "def cn2num(string):\n",
    "    if string != None:\n",
    "        return pycnnum.cn2num(string)  \n",
    "    else: return None\n",
    "\n",
    "Zhou_list = []\n",
    "\n",
    "for zhou_row in zhou_csv:\n",
    "    index, (name, _, jun_num, _, shan_num, _, hu_num, _, ko_num, _, water_num, _, groud_num) = zhou_row\n",
    "    Zhou_list.append(Zhou(\n",
    "        Name=name, \n",
    "        郡=cn2num(jun_num), \n",
    "        縣=cn2num(shan_num), \n",
    "        戶=cn2num(hu_num), \n",
    "        口=cn2num(ko_num), \n",
    "        水=cn2num(water_num), \n",
    "        陸=cn2num(groud_num), \n",
    "        data=[]\n",
    "    ))\n",
    "    \n",
    "    \n",
    "Jun_list = []\n",
    "\n",
    "for jun_row in jun_csv:\n",
    "    index, (name, _,_, shan_num, _, hu_num, _, ko_num, _, water_num, _, groud_num) = jun_row\n",
    "    jun = Jun(\n",
    "        Name=name, \n",
    "        縣=cn2num(shan_num), \n",
    "        戶=cn2num(hu_num), \n",
    "        口=cn2num(ko_num), \n",
    "        水=cn2num(water_num), \n",
    "        陸=cn2num(groud_num),         \n",
    "        州=Zhou_list[index - 1].Name\n",
    "    )\n",
    "    Zhou_list[index - 1].data.append(jun)\n",
    "    Jun_list.append(jun)"
   ]
  },
  {
   "cell_type": "markdown",
   "metadata": {
    "colab_type": "text",
    "id": "D9G1sT2I7i1Y"
   },
   "source": [
    "## Zhou Viz"
   ]
  },
  {
   "cell_type": "code",
   "execution_count": null,
   "metadata": {
    "colab": {},
    "colab_type": "code",
    "id": "hqLUaEbG7i1Z",
    "outputId": "68ecd375-18d7-4ece-ae82-3c4a5e3d3c58"
   },
   "outputs": [
    {
     "data": {
      "text/html": [
       "<div>\n",
       "<style scoped>\n",
       "    .dataframe tbody tr th:only-of-type {\n",
       "        vertical-align: middle;\n",
       "    }\n",
       "\n",
       "    .dataframe tbody tr th {\n",
       "        vertical-align: top;\n",
       "    }\n",
       "\n",
       "    .dataframe thead th {\n",
       "        text-align: right;\n",
       "    }\n",
       "</style>\n",
       "<table border=\"1\" class=\"dataframe\">\n",
       "  <thead>\n",
       "    <tr style=\"text-align: right;\">\n",
       "      <th></th>\n",
       "      <th>Name</th>\n",
       "      <th>郡</th>\n",
       "      <th>縣</th>\n",
       "      <th>戶</th>\n",
       "      <th>口</th>\n",
       "      <th>水</th>\n",
       "      <th>陸</th>\n",
       "      <th>data</th>\n",
       "    </tr>\n",
       "  </thead>\n",
       "  <tbody>\n",
       "    <tr>\n",
       "      <th>0</th>\n",
       "      <td>揚州</td>\n",
       "      <td>10.0</td>\n",
       "      <td>80.0</td>\n",
       "      <td>143296.0</td>\n",
       "      <td>1455685.0</td>\n",
       "      <td>NaN</td>\n",
       "      <td>NaN</td>\n",
       "      <td>[(丹陽, 8, 41010, 237341, None, None, 揚州), (會稽, ...</td>\n",
       "    </tr>\n",
       "    <tr>\n",
       "      <th>1</th>\n",
       "      <td>南徐州</td>\n",
       "      <td>17.0</td>\n",
       "      <td>63.0</td>\n",
       "      <td>72472.0</td>\n",
       "      <td>420640.0</td>\n",
       "      <td>240.0</td>\n",
       "      <td>200.0</td>\n",
       "      <td>[(南東海, 6, 5342, 33658, None, None, 南徐州), (南琅邪,...</td>\n",
       "    </tr>\n",
       "    <tr>\n",
       "      <th>2</th>\n",
       "      <td>徐州</td>\n",
       "      <td>3.0</td>\n",
       "      <td>9.0</td>\n",
       "      <td>NaN</td>\n",
       "      <td>NaN</td>\n",
       "      <td>1360.0</td>\n",
       "      <td>1000.0</td>\n",
       "      <td>[(彭城, 5, 8627, 41231, None, None, 徐州), (沛郡, 3,...</td>\n",
       "    </tr>\n",
       "    <tr>\n",
       "      <th>3</th>\n",
       "      <td>南兗州</td>\n",
       "      <td>11.0</td>\n",
       "      <td>44.0</td>\n",
       "      <td>NaN</td>\n",
       "      <td>NaN</td>\n",
       "      <td>250.0</td>\n",
       "      <td>180.0</td>\n",
       "      <td>[(廣陵, 4, 7744, 45613, None, None, 南兗州), (海陵, 6...</td>\n",
       "    </tr>\n",
       "    <tr>\n",
       "      <th>4</th>\n",
       "      <td>兗州</td>\n",
       "      <td>6.0</td>\n",
       "      <td>31.0</td>\n",
       "      <td>29340.0</td>\n",
       "      <td>145581.0</td>\n",
       "      <td>NaN</td>\n",
       "      <td>NaN</td>\n",
       "      <td>[(泰山, 8, 8177, 45581, None, None, 兗州), (高平, 6,...</td>\n",
       "    </tr>\n",
       "    <tr>\n",
       "      <th>5</th>\n",
       "      <td>南豫州</td>\n",
       "      <td>19.0</td>\n",
       "      <td>91.0</td>\n",
       "      <td>NaN</td>\n",
       "      <td>NaN</td>\n",
       "      <td>NaN</td>\n",
       "      <td>NaN</td>\n",
       "      <td>[(歷陽, 5, 3156, 19470, None, None, 南豫州), (南譙, 6...</td>\n",
       "    </tr>\n",
       "    <tr>\n",
       "      <th>6</th>\n",
       "      <td>豫州</td>\n",
       "      <td>10.0</td>\n",
       "      <td>43.0</td>\n",
       "      <td>22919.0</td>\n",
       "      <td>150839.0</td>\n",
       "      <td>NaN</td>\n",
       "      <td>NaN</td>\n",
       "      <td>[(汝南, 11, 11291, 89349, 3000, 1500, 豫州), (新蔡, ...</td>\n",
       "    </tr>\n",
       "    <tr>\n",
       "      <th>7</th>\n",
       "      <td>江州</td>\n",
       "      <td>9.0</td>\n",
       "      <td>65.0</td>\n",
       "      <td>52033.0</td>\n",
       "      <td>377147.0</td>\n",
       "      <td>NaN</td>\n",
       "      <td>NaN</td>\n",
       "      <td>[(尋陽, 3, 2720, 16800, None, None, 江州), (豫章, 12...</td>\n",
       "    </tr>\n",
       "    <tr>\n",
       "      <th>8</th>\n",
       "      <td>青州</td>\n",
       "      <td>9.0</td>\n",
       "      <td>46.0</td>\n",
       "      <td>40540.0</td>\n",
       "      <td>402729.0</td>\n",
       "      <td>NaN</td>\n",
       "      <td>NaN</td>\n",
       "      <td>[(齊郡, 7, 7346, 4889, None, None, 青州), (濟南, 6, ...</td>\n",
       "    </tr>\n",
       "    <tr>\n",
       "      <th>9</th>\n",
       "      <td>冀州</td>\n",
       "      <td>9.0</td>\n",
       "      <td>50.0</td>\n",
       "      <td>38076.0</td>\n",
       "      <td>181100.0</td>\n",
       "      <td>NaN</td>\n",
       "      <td>NaN</td>\n",
       "      <td>[(廣川, 4, 3250, 23614, None, None, 冀州), (平原, 8,...</td>\n",
       "    </tr>\n",
       "    <tr>\n",
       "      <th>10</th>\n",
       "      <td>司州</td>\n",
       "      <td>4.0</td>\n",
       "      <td>20.0</td>\n",
       "      <td>NaN</td>\n",
       "      <td>NaN</td>\n",
       "      <td>2700.0</td>\n",
       "      <td>1700.0</td>\n",
       "      <td>[(義陽, 7, 8031, 41597, None, None, 司州), (隨陽, 4,...</td>\n",
       "    </tr>\n",
       "    <tr>\n",
       "      <th>11</th>\n",
       "      <td>荊州</td>\n",
       "      <td>12.0</td>\n",
       "      <td>48.0</td>\n",
       "      <td>65640.0</td>\n",
       "      <td>NaN</td>\n",
       "      <td>NaN</td>\n",
       "      <td>NaN</td>\n",
       "      <td>[(南郡, 9, 14544, 75087, None, None, 荊州), (天門, 4...</td>\n",
       "    </tr>\n",
       "    <tr>\n",
       "      <th>12</th>\n",
       "      <td>郢州</td>\n",
       "      <td>6.0</td>\n",
       "      <td>39.0</td>\n",
       "      <td>29469.0</td>\n",
       "      <td>158587.0</td>\n",
       "      <td>NaN</td>\n",
       "      <td>NaN</td>\n",
       "      <td>[(江夏, 7, 5072, 23810, None, None, 郢州), (竟陵, 6,...</td>\n",
       "    </tr>\n",
       "    <tr>\n",
       "      <th>13</th>\n",
       "      <td>湘州</td>\n",
       "      <td>10.0</td>\n",
       "      <td>62.0</td>\n",
       "      <td>45089.0</td>\n",
       "      <td>357572.0</td>\n",
       "      <td>NaN</td>\n",
       "      <td>NaN</td>\n",
       "      <td>[(桂陽, 6, 2219, 22192, None, None, 湘州), (營陽, 4,...</td>\n",
       "    </tr>\n",
       "    <tr>\n",
       "      <th>14</th>\n",
       "      <td>雍州</td>\n",
       "      <td>17.0</td>\n",
       "      <td>60.0</td>\n",
       "      <td>38975.0</td>\n",
       "      <td>167467.0</td>\n",
       "      <td>4400.0</td>\n",
       "      <td>2100.0</td>\n",
       "      <td>[(襄陽公, 3, 4024, 16496, None, None, 雍州), (南陽, 7...</td>\n",
       "    </tr>\n",
       "    <tr>\n",
       "      <th>15</th>\n",
       "      <td>梁州</td>\n",
       "      <td>NaN</td>\n",
       "      <td>NaN</td>\n",
       "      <td>NaN</td>\n",
       "      <td>NaN</td>\n",
       "      <td>NaN</td>\n",
       "      <td>NaN</td>\n",
       "      <td>[(漢中, 4, 1786, 10334, None, None, 梁州), (新城, 6,...</td>\n",
       "    </tr>\n",
       "    <tr>\n",
       "      <th>16</th>\n",
       "      <td>秦州</td>\n",
       "      <td>14.0</td>\n",
       "      <td>42.0</td>\n",
       "      <td>8732.0</td>\n",
       "      <td>40888.0</td>\n",
       "      <td>NaN</td>\n",
       "      <td>NaN</td>\n",
       "      <td>[(武都, 3, 1274, 6140, None, None, 秦州), (略陽, 3, ...</td>\n",
       "    </tr>\n",
       "    <tr>\n",
       "      <th>17</th>\n",
       "      <td>益州</td>\n",
       "      <td>29.0</td>\n",
       "      <td>128.0</td>\n",
       "      <td>53141.0</td>\n",
       "      <td>248293.0</td>\n",
       "      <td>NaN</td>\n",
       "      <td>NaN</td>\n",
       "      <td>[(蜀郡, 5, 11920, 60876, None, None, 益州), (廣漢, 6...</td>\n",
       "    </tr>\n",
       "    <tr>\n",
       "      <th>18</th>\n",
       "      <td>寧州</td>\n",
       "      <td>15.0</td>\n",
       "      <td>81.0</td>\n",
       "      <td>10253.0</td>\n",
       "      <td>NaN</td>\n",
       "      <td>NaN</td>\n",
       "      <td>NaN</td>\n",
       "      <td>[(建寧, 13, 2562, None, None, None, 寧州), (晉寧, 7,...</td>\n",
       "    </tr>\n",
       "    <tr>\n",
       "      <th>19</th>\n",
       "      <td>廣州</td>\n",
       "      <td>17.0</td>\n",
       "      <td>136.0</td>\n",
       "      <td>49726.0</td>\n",
       "      <td>206694.0</td>\n",
       "      <td>NaN</td>\n",
       "      <td>NaN</td>\n",
       "      <td>[(南海, 10, 8574, 49157, None, None, 廣州), (蒼梧, 1...</td>\n",
       "    </tr>\n",
       "    <tr>\n",
       "      <th>20</th>\n",
       "      <td>交州</td>\n",
       "      <td>8.0</td>\n",
       "      <td>53.0</td>\n",
       "      <td>10453.0</td>\n",
       "      <td>NaN</td>\n",
       "      <td>NaN</td>\n",
       "      <td>NaN</td>\n",
       "      <td>[(交趾, 12, 4233, None, None, None, 交州), (武平, 6,...</td>\n",
       "    </tr>\n",
       "    <tr>\n",
       "      <th>21</th>\n",
       "      <td>越州</td>\n",
       "      <td>NaN</td>\n",
       "      <td>NaN</td>\n",
       "      <td>NaN</td>\n",
       "      <td>NaN</td>\n",
       "      <td>NaN</td>\n",
       "      <td>NaN</td>\n",
       "      <td>[(合浦, 7, 938, None, None, None, 越州)]</td>\n",
       "    </tr>\n",
       "  </tbody>\n",
       "</table>\n",
       "</div>"
      ],
      "text/plain": [
       "   Name     郡      縣         戶          口       水       陸  \\\n",
       "0    揚州  10.0   80.0  143296.0  1455685.0     NaN     NaN   \n",
       "1   南徐州  17.0   63.0   72472.0   420640.0   240.0   200.0   \n",
       "2    徐州   3.0    9.0       NaN        NaN  1360.0  1000.0   \n",
       "3   南兗州  11.0   44.0       NaN        NaN   250.0   180.0   \n",
       "4    兗州   6.0   31.0   29340.0   145581.0     NaN     NaN   \n",
       "5   南豫州  19.0   91.0       NaN        NaN     NaN     NaN   \n",
       "6    豫州  10.0   43.0   22919.0   150839.0     NaN     NaN   \n",
       "7    江州   9.0   65.0   52033.0   377147.0     NaN     NaN   \n",
       "8    青州   9.0   46.0   40540.0   402729.0     NaN     NaN   \n",
       "9    冀州   9.0   50.0   38076.0   181100.0     NaN     NaN   \n",
       "10   司州   4.0   20.0       NaN        NaN  2700.0  1700.0   \n",
       "11   荊州  12.0   48.0   65640.0        NaN     NaN     NaN   \n",
       "12   郢州   6.0   39.0   29469.0   158587.0     NaN     NaN   \n",
       "13   湘州  10.0   62.0   45089.0   357572.0     NaN     NaN   \n",
       "14   雍州  17.0   60.0   38975.0   167467.0  4400.0  2100.0   \n",
       "15   梁州   NaN    NaN       NaN        NaN     NaN     NaN   \n",
       "16   秦州  14.0   42.0    8732.0    40888.0     NaN     NaN   \n",
       "17   益州  29.0  128.0   53141.0   248293.0     NaN     NaN   \n",
       "18   寧州  15.0   81.0   10253.0        NaN     NaN     NaN   \n",
       "19   廣州  17.0  136.0   49726.0   206694.0     NaN     NaN   \n",
       "20   交州   8.0   53.0   10453.0        NaN     NaN     NaN   \n",
       "21   越州   NaN    NaN       NaN        NaN     NaN     NaN   \n",
       "\n",
       "                                                 data  \n",
       "0   [(丹陽, 8, 41010, 237341, None, None, 揚州), (會稽, ...  \n",
       "1   [(南東海, 6, 5342, 33658, None, None, 南徐州), (南琅邪,...  \n",
       "2   [(彭城, 5, 8627, 41231, None, None, 徐州), (沛郡, 3,...  \n",
       "3   [(廣陵, 4, 7744, 45613, None, None, 南兗州), (海陵, 6...  \n",
       "4   [(泰山, 8, 8177, 45581, None, None, 兗州), (高平, 6,...  \n",
       "5   [(歷陽, 5, 3156, 19470, None, None, 南豫州), (南譙, 6...  \n",
       "6   [(汝南, 11, 11291, 89349, 3000, 1500, 豫州), (新蔡, ...  \n",
       "7   [(尋陽, 3, 2720, 16800, None, None, 江州), (豫章, 12...  \n",
       "8   [(齊郡, 7, 7346, 4889, None, None, 青州), (濟南, 6, ...  \n",
       "9   [(廣川, 4, 3250, 23614, None, None, 冀州), (平原, 8,...  \n",
       "10  [(義陽, 7, 8031, 41597, None, None, 司州), (隨陽, 4,...  \n",
       "11  [(南郡, 9, 14544, 75087, None, None, 荊州), (天門, 4...  \n",
       "12  [(江夏, 7, 5072, 23810, None, None, 郢州), (竟陵, 6,...  \n",
       "13  [(桂陽, 6, 2219, 22192, None, None, 湘州), (營陽, 4,...  \n",
       "14  [(襄陽公, 3, 4024, 16496, None, None, 雍州), (南陽, 7...  \n",
       "15  [(漢中, 4, 1786, 10334, None, None, 梁州), (新城, 6,...  \n",
       "16  [(武都, 3, 1274, 6140, None, None, 秦州), (略陽, 3, ...  \n",
       "17  [(蜀郡, 5, 11920, 60876, None, None, 益州), (廣漢, 6...  \n",
       "18  [(建寧, 13, 2562, None, None, None, 寧州), (晉寧, 7,...  \n",
       "19  [(南海, 10, 8574, 49157, None, None, 廣州), (蒼梧, 1...  \n",
       "20  [(交趾, 12, 4233, None, None, None, 交州), (武平, 6,...  \n",
       "21               [(合浦, 7, 938, None, None, None, 越州)]  "
      ]
     },
     "execution_count": 315,
     "metadata": {
      "tags": []
     },
     "output_type": "execute_result"
    }
   ],
   "source": [
    "df = pd.DataFrame(Zhou_list)\n",
    "df"
   ]
  },
  {
   "cell_type": "code",
   "execution_count": null,
   "metadata": {
    "colab": {},
    "colab_type": "code",
    "id": "JKrld7_r7i1b"
   },
   "outputs": [],
   "source": [
    "df = pd.DataFrame(Zhou_list)\n",
    "df.columns = ['Name', 'jun', 'xian', 'hu', 'kou', 'shui', 'lu', 'data']\n",
    "#df = df.dropna(subset=['hu'])\n",
    "df['average_house'] = df['kou'] / df['hu']\n",
    "df['kou_in_jun'] = [\n",
    "    sum([t.口 for t in data if t.口 != None]) for data in df['data']\n",
    "]\n",
    "df['hu_in_jun'] = [\n",
    "    sum([t.戶 for t in data if t.戶 != None]) for data in df['data']\n",
    "]\n",
    "\n",
    "df['zhou_kou_minus_jun_total_kou'] = df['kou'] - df['kou_in_jun']\n",
    "df['zhou_hu_minus_jun_total_hu']   = df['hu'] - df['hu_in_jun']\n",
    "df['average_house_jun_total'] = df['kou_in_jun'] / df['hu_in_jun']"
   ]
  },
  {
   "cell_type": "code",
   "execution_count": null,
   "metadata": {
    "colab": {},
    "colab_type": "code",
    "id": "VYt2VCDu7i1c",
    "outputId": "e2f5142e-b19f-4968-969c-6cd618c3543c"
   },
   "outputs": [
    {
     "data": {
      "text/html": [
       "<div class=\"vega-embed\" id=\"1e4f9b73-fd21-4a6b-bff1-fed34b5bdc6e\"></div>\n",
       "\n",
       "<style>\n",
       ".vega-embed .error p {\n",
       "    color: firebrick;\n",
       "    font-size: 14px;\n",
       "}\n",
       "</style>\n"
      ]
     },
     "metadata": {
      "jupyter-vega": "#1e4f9b73-fd21-4a6b-bff1-fed34b5bdc6e",
      "tags": []
     },
     "output_type": "display_data"
    },
    {
     "data": {
      "application/javascript": [
       "var spec = {\"config\": {\"view\": {\"width\": 400, \"height\": 300}}, \"vconcat\": [{\"data\": {\"url\": \"altair-data-e73c41c328f1a432fc5bf75855aba685.json\", \"format\": {\"type\": \"json\"}}, \"mark\": \"bar\", \"encoding\": {\"tooltip\": [{\"type\": \"nominal\", \"field\": \"Name\"}], \"x\": {\"type\": \"quantitative\", \"field\": \"zhou_kou_minus_jun_total_kou\"}, \"y\": {\"type\": \"nominal\", \"field\": \"Name\"}}}, {\"data\": {\"url\": \"altair-data-e73c41c328f1a432fc5bf75855aba685.json\", \"format\": {\"type\": \"json\"}}, \"mark\": \"bar\", \"encoding\": {\"tooltip\": [{\"type\": \"nominal\", \"field\": \"Name\"}], \"x\": {\"type\": \"quantitative\", \"field\": \"zhou_hu_minus_jun_total_hu\"}, \"y\": {\"type\": \"nominal\", \"field\": \"Name\"}}}, {\"data\": {\"url\": \"altair-data-e73c41c328f1a432fc5bf75855aba685.json\", \"format\": {\"type\": \"json\"}}, \"mark\": \"bar\", \"encoding\": {\"tooltip\": [{\"type\": \"nominal\", \"field\": \"Name\"}], \"x\": {\"type\": \"quantitative\", \"field\": \"average_house_jun_total\"}, \"y\": {\"type\": \"nominal\", \"field\": \"Name\"}}}], \"$schema\": \"https://vega.github.io/schema/vega-lite/v2.4.3.json\"};\n",
       "var opt = {};\n",
       "var selector = \"#1e4f9b73-fd21-4a6b-bff1-fed34b5bdc6e\";\n",
       "var type = \"vega-lite\";\n",
       "\n",
       "var output_area = this;\n",
       "\n",
       "require(['nbextensions/jupyter-vega/index'], function(vega) {\n",
       "  vega.render(selector, spec, type, opt, output_area);\n",
       "}, function (err) {\n",
       "  if (err.requireType !== 'scripterror') {\n",
       "    throw(err);\n",
       "  }\n",
       "});\n"
      ]
     },
     "metadata": {
      "jupyter-vega": "#1e4f9b73-fd21-4a6b-bff1-fed34b5bdc6e",
      "tags": []
     },
     "output_type": "display_data"
    },
    {
     "data": {
      "text/plain": []
     },
     "execution_count": 213,
     "metadata": {
      "tags": []
     },
     "output_type": "execute_result"
    },
    {
     "data": {
      "image/png": "[encoded data removed]"
     },
     "metadata": {
      "jupyter-vega": "#1e4f9b73-fd21-4a6b-bff1-fed34b5bdc6e",
      "tags": []
     },
     "output_type": "display_data"
    }
   ],
   "source": [
    "bar1 = altair.Chart(df).mark_bar().encode(\n",
    "    y=\"Name\",\n",
    "    x=\"zhou_kou_minus_jun_total_kou\",\n",
    "    tooltip=[\"Name\"]\n",
    ")\n",
    "\n",
    "bar2 = altair.Chart(df).mark_bar().encode(\n",
    "    y=\"Name\",\n",
    "    x=\"zhou_hu_minus_jun_total_hu\",\n",
    "    tooltip=[\"Name\"]\n",
    ")\n",
    "\n",
    "bar3 = altair.Chart(df).mark_bar().encode(\n",
    "    y=\"Name\",\n",
    "    x=\"average_house_jun_total\",\n",
    "    tooltip=[\"Name\"]\n",
    ")\n",
    "\n",
    "\n",
    "bar1 & bar2 & bar3"
   ]
  },
  {
   "cell_type": "code",
   "execution_count": null,
   "metadata": {
    "colab": {},
    "colab_type": "code",
    "id": "QFsYH81p7i1g",
    "outputId": "ec0bae3c-a14a-4f37-ab39-6334d69da067"
   },
   "outputs": [
    {
     "data": {
      "text/html": [
       "<div class=\"vega-embed\" id=\"fdf58bd2-9f2f-43c0-b197-78f490a68cd5\"></div>\n",
       "\n",
       "<style>\n",
       ".vega-embed .error p {\n",
       "    color: firebrick;\n",
       "    font-size: 14px;\n",
       "}\n",
       "</style>\n"
      ]
     },
     "metadata": {
      "jupyter-vega": "#fdf58bd2-9f2f-43c0-b197-78f490a68cd5",
      "tags": []
     },
     "output_type": "display_data"
    },
    {
     "data": {
      "application/javascript": [
       "var spec = {\"config\": {\"view\": {\"width\": 400, \"height\": 300}}, \"data\": {\"url\": \"altair-data-e73c41c328f1a432fc5bf75855aba685.json\", \"format\": {\"type\": \"json\"}}, \"mark\": \"point\", \"encoding\": {\"tooltip\": [{\"type\": \"nominal\", \"field\": \"Name\"}], \"x\": {\"type\": \"quantitative\", \"field\": \"zhou_kou_minus_jun_total_kou\"}, \"y\": {\"type\": \"quantitative\", \"field\": \"zhou_hu_minus_jun_total_hu\"}}, \"$schema\": \"https://vega.github.io/schema/vega-lite/v2.4.3.json\"};\n",
       "var opt = {};\n",
       "var selector = \"#fdf58bd2-9f2f-43c0-b197-78f490a68cd5\";\n",
       "var type = \"vega-lite\";\n",
       "\n",
       "var output_area = this;\n",
       "\n",
       "require(['nbextensions/jupyter-vega/index'], function(vega) {\n",
       "  vega.render(selector, spec, type, opt, output_area);\n",
       "}, function (err) {\n",
       "  if (err.requireType !== 'scripterror') {\n",
       "    throw(err);\n",
       "  }\n",
       "});\n"
      ]
     },
     "metadata": {
      "jupyter-vega": "#fdf58bd2-9f2f-43c0-b197-78f490a68cd5",
      "tags": []
     },
     "output_type": "display_data"
    },
    {
     "data": {
      "text/plain": []
     },
     "execution_count": 215,
     "metadata": {
      "tags": []
     },
     "output_type": "execute_result"
    },
    {
     "data": {
      "image/png": "[encoded data removed]"
     },
     "metadata": {
      "jupyter-vega": "#fdf58bd2-9f2f-43c0-b197-78f490a68cd5",
      "tags": []
     },
     "output_type": "display_data"
    }
   ],
   "source": [
    "point = altair.Chart(df).mark_point().encode(\n",
    "    x=\"zhou_kou_minus_jun_total_kou\",\n",
    "    y=\"zhou_hu_minus_jun_total_hu\",\n",
    "    tooltip=[\"Name\"]\n",
    ")\n",
    "\n",
    "point"
   ]
  },
  {
   "cell_type": "code",
   "execution_count": null,
   "metadata": {
    "colab": {},
    "colab_type": "code",
    "id": "kAbvcFWc7i1i"
   },
   "outputs": [],
   "source": [
    "df_zhou = pd.DataFrame(Zhou_list)\n",
    "df_zhou.columns = ['Name', 'jun', 'xian', 'hu', 'kou', 'shui', 'lu', 'data']"
   ]
  },
  {
   "cell_type": "code",
   "execution_count": null,
   "metadata": {
    "colab": {},
    "colab_type": "code",
    "id": "0puZpziX7i1l"
   },
   "outputs": [],
   "source": [
    "bar_list = []\n",
    "\n",
    "for i in range(len(df_zhou)):\n",
    "    test = pd.DataFrame(df_zhou.loc[i, ['jun', 'xian', 'hu', 'kou', 'shui', 'lu']])\n",
    "    test.columns = ['data']\n",
    "    test['names'] =  test.index\n",
    "    test\n",
    "\n",
    "    bar_list.append(\n",
    "        altair.Chart(test, title=df_zhou.loc[i,'Name']).mark_bar().encode(\n",
    "            x='names',\n",
    "            y='data'\n",
    "        )\n",
    "    )"
   ]
  },
  {
   "cell_type": "code",
   "execution_count": null,
   "metadata": {
    "colab": {},
    "colab_type": "code",
    "id": "F9DN6p-77i1o",
    "outputId": "86fc8474-fd27-4601-b06d-107ae7e832e3"
   },
   "outputs": [
    {
     "data": {
      "text/plain": [
       "'bar_list[0]|bar_list[1]|bar_list[2]|bar_list[3]|bar_list[4]|bar_list[5]|bar_list[6]|bar_list[7]|bar_list[8]|bar_list[9]|bar_list[10]|bar_list[11]|bar_list[12]|bar_list[13]|bar_list[14]|bar_list[15]|bar_list[16]|bar_list[17]|bar_list[18]|bar_list[19]|bar_list[20]|bar_list[21]'"
      ]
     },
     "execution_count": 304,
     "metadata": {
      "tags": []
     },
     "output_type": "execute_result"
    }
   ],
   "source": [
    "\"|\".join([\"bar_list[{}]\".format(i) for i in range(len(bar_list))])"
   ]
  },
  {
   "cell_type": "code",
   "execution_count": null,
   "metadata": {
    "colab": {},
    "colab_type": "code",
    "id": "ppFImjo67i1q",
    "outputId": "8c849dce-1653-4e6c-9fe0-da1b3fa7f4a2"
   },
   "outputs": [
    {
     "data": {
      "text/html": [
       "<div class=\"vega-embed\" id=\"7e31ade1-7224-4eb3-86c4-e00dbfea91d0\"></div>\n",
       "\n",
       "<style>\n",
       ".vega-embed .error p {\n",
       "    color: firebrick;\n",
       "    font-size: 14px;\n",
       "}\n",
       "</style>\n"
      ]
     },
     "metadata": {
      "jupyter-vega": "#7e31ade1-7224-4eb3-86c4-e00dbfea91d0",
      "tags": []
     },
     "output_type": "display_data"
    },
    {
     "data": {
      "application/javascript": [
       "var spec = {\"config\": {\"view\": {\"width\": 400, \"height\": 300}}, \"hconcat\": [{\"data\": {\"url\": \"altair-data-04fafc39fa13ed04703ded46214ab6c6.json\", \"format\": {\"type\": \"json\"}}, \"mark\": \"bar\", \"encoding\": {\"x\": {\"type\": \"nominal\", \"field\": \"names\"}, \"y\": {\"type\": \"quantitative\", \"field\": \"data\"}}, \"title\": \"\\u63da\\u5dde\"}, {\"data\": {\"url\": \"altair-data-c1b56cf80b58bd45974f704852da900b.json\", \"format\": {\"type\": \"json\"}}, \"mark\": \"bar\", \"encoding\": {\"x\": {\"type\": \"nominal\", \"field\": \"names\"}, \"y\": {\"type\": \"quantitative\", \"field\": \"data\"}}, \"title\": \"\\u5357\\u5f90\\u5dde\"}, {\"data\": {\"url\": \"altair-data-997f54ea06018e3ff0991d3aab288392.json\", \"format\": {\"type\": \"json\"}}, \"mark\": \"bar\", \"encoding\": {\"x\": {\"type\": \"nominal\", \"field\": \"names\"}, \"y\": {\"type\": \"quantitative\", \"field\": \"data\"}}, \"title\": \"\\u5f90\\u5dde\"}, {\"data\": {\"url\": \"altair-data-b3472e817d518fa0be722983955684c5.json\", \"format\": {\"type\": \"json\"}}, \"mark\": \"bar\", \"encoding\": {\"x\": {\"type\": \"nominal\", \"field\": \"names\"}, \"y\": {\"type\": \"quantitative\", \"field\": \"data\"}}, \"title\": \"\\u5357\\u5157\\u5dde\"}, {\"data\": {\"url\": \"altair-data-1d0d1a739ef9edfb86eca87c9106c2b0.json\", \"format\": {\"type\": \"json\"}}, \"mark\": \"bar\", \"encoding\": {\"x\": {\"type\": \"nominal\", \"field\": \"names\"}, \"y\": {\"type\": \"quantitative\", \"field\": \"data\"}}, \"title\": \"\\u5157\\u5dde\"}, {\"data\": {\"url\": \"altair-data-6c423fbdbcaa8e5807e17ee98f720de3.json\", \"format\": {\"type\": \"json\"}}, \"mark\": \"bar\", \"encoding\": {\"x\": {\"type\": \"nominal\", \"field\": \"names\"}, \"y\": {\"type\": \"quantitative\", \"field\": \"data\"}}, \"title\": \"\\u5357\\u8c6b\\u5dde\"}, {\"data\": {\"url\": \"altair-data-12dc013fd34e6898ab62815781bf7847.json\", \"format\": {\"type\": \"json\"}}, \"mark\": \"bar\", \"encoding\": {\"x\": {\"type\": \"nominal\", \"field\": \"names\"}, \"y\": {\"type\": \"quantitative\", \"field\": \"data\"}}, \"title\": \"\\u8c6b\\u5dde\"}, {\"data\": {\"url\": \"altair-data-46530a53a6ec4e4e2516dd83bbbf5ae8.json\", \"format\": {\"type\": \"json\"}}, \"mark\": \"bar\", \"encoding\": {\"x\": {\"type\": \"nominal\", \"field\": \"names\"}, \"y\": {\"type\": \"quantitative\", \"field\": \"data\"}}, \"title\": \"\\u6c5f\\u5dde\"}, {\"data\": {\"url\": \"altair-data-dc8cbd92ab4b96eba7ced38d504f9c77.json\", \"format\": {\"type\": \"json\"}}, \"mark\": \"bar\", \"encoding\": {\"x\": {\"type\": \"nominal\", \"field\": \"names\"}, \"y\": {\"type\": \"quantitative\", \"field\": \"data\"}}, \"title\": \"\\u9752\\u5dde\"}, {\"data\": {\"url\": \"altair-data-25020a239f9d3eefe82c7cb4a1744fdc.json\", \"format\": {\"type\": \"json\"}}, \"mark\": \"bar\", \"encoding\": {\"x\": {\"type\": \"nominal\", \"field\": \"names\"}, \"y\": {\"type\": \"quantitative\", \"field\": \"data\"}}, \"title\": \"\\u5180\\u5dde\"}, {\"data\": {\"url\": \"altair-data-997c8076f05b1025db03d74f9cab000d.json\", \"format\": {\"type\": \"json\"}}, \"mark\": \"bar\", \"encoding\": {\"x\": {\"type\": \"nominal\", \"field\": \"names\"}, \"y\": {\"type\": \"quantitative\", \"field\": \"data\"}}, \"title\": \"\\u53f8\\u5dde\"}, {\"data\": {\"url\": \"altair-data-5f5bbc00d0f0d0291707aaf2879a1982.json\", \"format\": {\"type\": \"json\"}}, \"mark\": \"bar\", \"encoding\": {\"x\": {\"type\": \"nominal\", \"field\": \"names\"}, \"y\": {\"type\": \"quantitative\", \"field\": \"data\"}}, \"title\": \"\\u834a\\u5dde\"}, {\"data\": {\"url\": \"altair-data-a9b9a5b9c97cfc509d0425b7d5b8a7b2.json\", \"format\": {\"type\": \"json\"}}, \"mark\": \"bar\", \"encoding\": {\"x\": {\"type\": \"nominal\", \"field\": \"names\"}, \"y\": {\"type\": \"quantitative\", \"field\": \"data\"}}, \"title\": \"\\u90e2\\u5dde\"}, {\"data\": {\"url\": \"altair-data-2477c162ba86fa8ba7e16efb56492eff.json\", \"format\": {\"type\": \"json\"}}, \"mark\": \"bar\", \"encoding\": {\"x\": {\"type\": \"nominal\", \"field\": \"names\"}, \"y\": {\"type\": \"quantitative\", \"field\": \"data\"}}, \"title\": \"\\u6e58\\u5dde\"}, {\"data\": {\"url\": \"altair-data-9b318c402048114bab9fb4d1307c9b19.json\", \"format\": {\"type\": \"json\"}}, \"mark\": \"bar\", \"encoding\": {\"x\": {\"type\": \"nominal\", \"field\": \"names\"}, \"y\": {\"type\": \"quantitative\", \"field\": \"data\"}}, \"title\": \"\\u96cd\\u5dde\"}, {\"data\": {\"url\": \"altair-data-2057000d90e3c86f5d96984012b2a203.json\", \"format\": {\"type\": \"json\"}}, \"mark\": \"bar\", \"encoding\": {\"x\": {\"type\": \"nominal\", \"field\": \"names\"}, \"y\": {\"type\": \"quantitative\", \"field\": \"data\"}}, \"title\": \"\\u6881\\u5dde\"}, {\"data\": {\"url\": \"altair-data-178853cc7b7620d919344004ee30b8a0.json\", \"format\": {\"type\": \"json\"}}, \"mark\": \"bar\", \"encoding\": {\"x\": {\"type\": \"nominal\", \"field\": \"names\"}, \"y\": {\"type\": \"quantitative\", \"field\": \"data\"}}, \"title\": \"\\u79e6\\u5dde\"}, {\"data\": {\"url\": \"altair-data-e2c7e1cd568115c77904687df4ea265f.json\", \"format\": {\"type\": \"json\"}}, \"mark\": \"bar\", \"encoding\": {\"x\": {\"type\": \"nominal\", \"field\": \"names\"}, \"y\": {\"type\": \"quantitative\", \"field\": \"data\"}}, \"title\": \"\\u76ca\\u5dde\"}, {\"data\": {\"url\": \"altair-data-cce41e21284e0f57bd7fdb2a3a48dde6.json\", \"format\": {\"type\": \"json\"}}, \"mark\": \"bar\", \"encoding\": {\"x\": {\"type\": \"nominal\", \"field\": \"names\"}, \"y\": {\"type\": \"quantitative\", \"field\": \"data\"}}, \"title\": \"\\u5be7\\u5dde\"}, {\"data\": {\"url\": \"altair-data-7141a9416ce9cdddb6c122a37d45d283.json\", \"format\": {\"type\": \"json\"}}, \"mark\": \"bar\", \"encoding\": {\"x\": {\"type\": \"nominal\", \"field\": \"names\"}, \"y\": {\"type\": \"quantitative\", \"field\": \"data\"}}, \"title\": \"\\u5ee3\\u5dde\"}, {\"data\": {\"url\": \"altair-data-80dfea4ac181c2871a4777a8ad64e4f8.json\", \"format\": {\"type\": \"json\"}}, \"mark\": \"bar\", \"encoding\": {\"x\": {\"type\": \"nominal\", \"field\": \"names\"}, \"y\": {\"type\": \"quantitative\", \"field\": \"data\"}}, \"title\": \"\\u4ea4\\u5dde\"}, {\"data\": {\"url\": \"altair-data-2057000d90e3c86f5d96984012b2a203.json\", \"format\": {\"type\": \"json\"}}, \"mark\": \"bar\", \"encoding\": {\"x\": {\"type\": \"nominal\", \"field\": \"names\"}, \"y\": {\"type\": \"quantitative\", \"field\": \"data\"}}, \"title\": \"\\u8d8a\\u5dde\"}], \"$schema\": \"https://vega.github.io/schema/vega-lite/v2.4.3.json\"};\n",
       "var opt = {};\n",
       "var selector = \"#7e31ade1-7224-4eb3-86c4-e00dbfea91d0\";\n",
       "var type = \"vega-lite\";\n",
       "\n",
       "var output_area = this;\n",
       "\n",
       "require(['nbextensions/jupyter-vega/index'], function(vega) {\n",
       "  vega.render(selector, spec, type, opt, output_area);\n",
       "}, function (err) {\n",
       "  if (err.requireType !== 'scripterror') {\n",
       "    throw(err);\n",
       "  }\n",
       "});\n"
      ]
     },
     "metadata": {
      "jupyter-vega": "#7e31ade1-7224-4eb3-86c4-e00dbfea91d0",
      "tags": []
     },
     "output_type": "display_data"
    },
    {
     "data": {
      "text/plain": []
     },
     "execution_count": 305,
     "metadata": {
      "tags": []
     },
     "output_type": "execute_result"
    },
    {
     "data": {
      "image/png": "[encoded data removed]"
     },
     "metadata": {
      "jupyter-vega": "#7e31ade1-7224-4eb3-86c4-e00dbfea91d0",
      "tags": []
     },
     "output_type": "display_data"
    }
   ],
   "source": [
    "bar_list[0]|bar_list[1]|bar_list[2]|bar_list[3]|bar_list[4]|bar_list[5]|bar_list[6]|bar_list[7]|bar_list[8]|bar_list[9]|bar_list[10]|bar_list[11]|bar_list[12]|bar_list[13]|bar_list[14]|bar_list[15]|bar_list[16]|bar_list[17]|bar_list[18]|bar_list[19]|bar_list[20]|bar_list[21]"
   ]
  },
  {
   "cell_type": "markdown",
   "metadata": {
    "colab_type": "text",
    "id": "YxzVUkyI7i1t"
   },
   "source": [
    "## Jun Viz"
   ]
  },
  {
   "cell_type": "code",
   "execution_count": null,
   "metadata": {
    "colab": {},
    "colab_type": "code",
    "id": "o93EbZ6h7i1t",
    "outputId": "7844fc61-e162-4817-e2ab-8f53c2edf081"
   },
   "outputs": [
    {
     "data": {
      "text/html": [
       "<div>\n",
       "<style scoped>\n",
       "    .dataframe tbody tr th:only-of-type {\n",
       "        vertical-align: middle;\n",
       "    }\n",
       "\n",
       "    .dataframe tbody tr th {\n",
       "        vertical-align: top;\n",
       "    }\n",
       "\n",
       "    .dataframe thead th {\n",
       "        text-align: right;\n",
       "    }\n",
       "</style>\n",
       "<table border=\"1\" class=\"dataframe\">\n",
       "  <thead>\n",
       "    <tr style=\"text-align: right;\">\n",
       "      <th></th>\n",
       "      <th>Name</th>\n",
       "      <th>xian</th>\n",
       "      <th>hu</th>\n",
       "      <th>kou</th>\n",
       "      <th>shui</th>\n",
       "      <th>lu</th>\n",
       "      <th>zhou</th>\n",
       "    </tr>\n",
       "  </thead>\n",
       "  <tbody>\n",
       "    <tr>\n",
       "      <th>0</th>\n",
       "      <td>丹陽</td>\n",
       "      <td>8</td>\n",
       "      <td>41010</td>\n",
       "      <td>237341.0</td>\n",
       "      <td>NaN</td>\n",
       "      <td>NaN</td>\n",
       "      <td>揚州</td>\n",
       "    </tr>\n",
       "    <tr>\n",
       "      <th>1</th>\n",
       "      <td>會稽</td>\n",
       "      <td>10</td>\n",
       "      <td>52228</td>\n",
       "      <td>348014.0</td>\n",
       "      <td>NaN</td>\n",
       "      <td>NaN</td>\n",
       "      <td>揚州</td>\n",
       "    </tr>\n",
       "    <tr>\n",
       "      <th>2</th>\n",
       "      <td>吳郡</td>\n",
       "      <td>12</td>\n",
       "      <td>50488</td>\n",
       "      <td>424812.0</td>\n",
       "      <td>670.0</td>\n",
       "      <td>520.0</td>\n",
       "      <td>揚州</td>\n",
       "    </tr>\n",
       "    <tr>\n",
       "      <th>3</th>\n",
       "      <td>吳興</td>\n",
       "      <td>10</td>\n",
       "      <td>49690</td>\n",
       "      <td>316173.0</td>\n",
       "      <td>950.0</td>\n",
       "      <td>570.0</td>\n",
       "      <td>揚州</td>\n",
       "    </tr>\n",
       "    <tr>\n",
       "      <th>4</th>\n",
       "      <td>淮南</td>\n",
       "      <td>6</td>\n",
       "      <td>5362</td>\n",
       "      <td>25840.0</td>\n",
       "      <td>170.0</td>\n",
       "      <td>140.0</td>\n",
       "      <td>揚州</td>\n",
       "    </tr>\n",
       "    <tr>\n",
       "      <th>5</th>\n",
       "      <td>宣城</td>\n",
       "      <td>10</td>\n",
       "      <td>10120</td>\n",
       "      <td>47992.0</td>\n",
       "      <td>580.0</td>\n",
       "      <td>500.0</td>\n",
       "      <td>揚州</td>\n",
       "    </tr>\n",
       "    <tr>\n",
       "      <th>6</th>\n",
       "      <td>東陽</td>\n",
       "      <td>9</td>\n",
       "      <td>16022</td>\n",
       "      <td>107965.0</td>\n",
       "      <td>NaN</td>\n",
       "      <td>NaN</td>\n",
       "      <td>揚州</td>\n",
       "    </tr>\n",
       "    <tr>\n",
       "      <th>7</th>\n",
       "      <td>臨海</td>\n",
       "      <td>5</td>\n",
       "      <td>3961</td>\n",
       "      <td>24226.0</td>\n",
       "      <td>NaN</td>\n",
       "      <td>NaN</td>\n",
       "      <td>揚州</td>\n",
       "    </tr>\n",
       "    <tr>\n",
       "      <th>8</th>\n",
       "      <td>永嘉</td>\n",
       "      <td>5</td>\n",
       "      <td>6250</td>\n",
       "      <td>36680.0</td>\n",
       "      <td>2800.0</td>\n",
       "      <td>2640.0</td>\n",
       "      <td>揚州</td>\n",
       "    </tr>\n",
       "    <tr>\n",
       "      <th>9</th>\n",
       "      <td>新安</td>\n",
       "      <td>5</td>\n",
       "      <td>12058</td>\n",
       "      <td>36651.0</td>\n",
       "      <td>1860.0</td>\n",
       "      <td>1800.0</td>\n",
       "      <td>揚州</td>\n",
       "    </tr>\n",
       "    <tr>\n",
       "      <th>10</th>\n",
       "      <td>南東海</td>\n",
       "      <td>6</td>\n",
       "      <td>5342</td>\n",
       "      <td>33658.0</td>\n",
       "      <td>NaN</td>\n",
       "      <td>NaN</td>\n",
       "      <td>南徐州</td>\n",
       "    </tr>\n",
       "    <tr>\n",
       "      <th>11</th>\n",
       "      <td>南琅邪</td>\n",
       "      <td>2</td>\n",
       "      <td>2789</td>\n",
       "      <td>18697.0</td>\n",
       "      <td>200.0</td>\n",
       "      <td>100.0</td>\n",
       "      <td>南徐州</td>\n",
       "    </tr>\n",
       "    <tr>\n",
       "      <th>12</th>\n",
       "      <td>晉陵</td>\n",
       "      <td>6</td>\n",
       "      <td>15382</td>\n",
       "      <td>80113.0</td>\n",
       "      <td>NaN</td>\n",
       "      <td>NaN</td>\n",
       "      <td>南徐州</td>\n",
       "    </tr>\n",
       "    <tr>\n",
       "      <th>13</th>\n",
       "      <td>義興</td>\n",
       "      <td>5</td>\n",
       "      <td>13496</td>\n",
       "      <td>89525.0</td>\n",
       "      <td>NaN</td>\n",
       "      <td>NaN</td>\n",
       "      <td>南徐州</td>\n",
       "    </tr>\n",
       "    <tr>\n",
       "      <th>14</th>\n",
       "      <td>南蘭陵</td>\n",
       "      <td>2</td>\n",
       "      <td>1593</td>\n",
       "      <td>10634.0</td>\n",
       "      <td>NaN</td>\n",
       "      <td>NaN</td>\n",
       "      <td>南徐州</td>\n",
       "    </tr>\n",
       "    <tr>\n",
       "      <th>15</th>\n",
       "      <td>南東莞</td>\n",
       "      <td>3</td>\n",
       "      <td>1424</td>\n",
       "      <td>9854.0</td>\n",
       "      <td>NaN</td>\n",
       "      <td>NaN</td>\n",
       "      <td>南徐州</td>\n",
       "    </tr>\n",
       "    <tr>\n",
       "      <th>16</th>\n",
       "      <td>臨淮</td>\n",
       "      <td>7</td>\n",
       "      <td>3711</td>\n",
       "      <td>22886.0</td>\n",
       "      <td>NaN</td>\n",
       "      <td>NaN</td>\n",
       "      <td>南徐州</td>\n",
       "    </tr>\n",
       "    <tr>\n",
       "      <th>17</th>\n",
       "      <td>淮陵</td>\n",
       "      <td>3</td>\n",
       "      <td>1950</td>\n",
       "      <td>10630.0</td>\n",
       "      <td>NaN</td>\n",
       "      <td>NaN</td>\n",
       "      <td>南徐州</td>\n",
       "    </tr>\n",
       "    <tr>\n",
       "      <th>18</th>\n",
       "      <td>南彭城</td>\n",
       "      <td>12</td>\n",
       "      <td>11758</td>\n",
       "      <td>68163.0</td>\n",
       "      <td>NaN</td>\n",
       "      <td>NaN</td>\n",
       "      <td>南徐州</td>\n",
       "    </tr>\n",
       "    <tr>\n",
       "      <th>19</th>\n",
       "      <td>南清河</td>\n",
       "      <td>4</td>\n",
       "      <td>1849</td>\n",
       "      <td>7440.0</td>\n",
       "      <td>NaN</td>\n",
       "      <td>NaN</td>\n",
       "      <td>南徐州</td>\n",
       "    </tr>\n",
       "    <tr>\n",
       "      <th>20</th>\n",
       "      <td>南高平</td>\n",
       "      <td>3</td>\n",
       "      <td>1718</td>\n",
       "      <td>9731.0</td>\n",
       "      <td>NaN</td>\n",
       "      <td>NaN</td>\n",
       "      <td>南徐州</td>\n",
       "    </tr>\n",
       "    <tr>\n",
       "      <th>21</th>\n",
       "      <td>南平昌</td>\n",
       "      <td>4</td>\n",
       "      <td>2178</td>\n",
       "      <td>11741.0</td>\n",
       "      <td>NaN</td>\n",
       "      <td>NaN</td>\n",
       "      <td>南徐州</td>\n",
       "    </tr>\n",
       "    <tr>\n",
       "      <th>22</th>\n",
       "      <td>南濟陰</td>\n",
       "      <td>4</td>\n",
       "      <td>1655</td>\n",
       "      <td>8193.0</td>\n",
       "      <td>NaN</td>\n",
       "      <td>NaN</td>\n",
       "      <td>南徐州</td>\n",
       "    </tr>\n",
       "    <tr>\n",
       "      <th>23</th>\n",
       "      <td>南濮陽</td>\n",
       "      <td>2</td>\n",
       "      <td>2026</td>\n",
       "      <td>8239.0</td>\n",
       "      <td>NaN</td>\n",
       "      <td>NaN</td>\n",
       "      <td>南徐州</td>\n",
       "    </tr>\n",
       "    <tr>\n",
       "      <th>24</th>\n",
       "      <td>南泰山</td>\n",
       "      <td>3</td>\n",
       "      <td>2499</td>\n",
       "      <td>13600.0</td>\n",
       "      <td>NaN</td>\n",
       "      <td>NaN</td>\n",
       "      <td>南徐州</td>\n",
       "    </tr>\n",
       "    <tr>\n",
       "      <th>25</th>\n",
       "      <td>濟陽</td>\n",
       "      <td>2</td>\n",
       "      <td>1232</td>\n",
       "      <td>8192.0</td>\n",
       "      <td>NaN</td>\n",
       "      <td>NaN</td>\n",
       "      <td>南徐州</td>\n",
       "    </tr>\n",
       "    <tr>\n",
       "      <th>26</th>\n",
       "      <td>南魯郡</td>\n",
       "      <td>2</td>\n",
       "      <td>1211</td>\n",
       "      <td>6818.0</td>\n",
       "      <td>NaN</td>\n",
       "      <td>NaN</td>\n",
       "      <td>南徐州</td>\n",
       "    </tr>\n",
       "    <tr>\n",
       "      <th>27</th>\n",
       "      <td>彭城</td>\n",
       "      <td>5</td>\n",
       "      <td>8627</td>\n",
       "      <td>41231.0</td>\n",
       "      <td>NaN</td>\n",
       "      <td>NaN</td>\n",
       "      <td>徐州</td>\n",
       "    </tr>\n",
       "    <tr>\n",
       "      <th>28</th>\n",
       "      <td>沛郡</td>\n",
       "      <td>3</td>\n",
       "      <td>5290</td>\n",
       "      <td>25170.0</td>\n",
       "      <td>NaN</td>\n",
       "      <td>NaN</td>\n",
       "      <td>徐州</td>\n",
       "    </tr>\n",
       "    <tr>\n",
       "      <th>29</th>\n",
       "      <td>下邳</td>\n",
       "      <td>3</td>\n",
       "      <td>3099</td>\n",
       "      <td>16088.0</td>\n",
       "      <td>1160.0</td>\n",
       "      <td>800.0</td>\n",
       "      <td>徐州</td>\n",
       "    </tr>\n",
       "    <tr>\n",
       "      <th>...</th>\n",
       "      <td>...</td>\n",
       "      <td>...</td>\n",
       "      <td>...</td>\n",
       "      <td>...</td>\n",
       "      <td>...</td>\n",
       "      <td>...</td>\n",
       "      <td>...</td>\n",
       "    </tr>\n",
       "    <tr>\n",
       "      <th>196</th>\n",
       "      <td>南廣</td>\n",
       "      <td>4</td>\n",
       "      <td>440</td>\n",
       "      <td>NaN</td>\n",
       "      <td>NaN</td>\n",
       "      <td>NaN</td>\n",
       "      <td>寧州</td>\n",
       "    </tr>\n",
       "    <tr>\n",
       "      <th>197</th>\n",
       "      <td>建都</td>\n",
       "      <td>6</td>\n",
       "      <td>170</td>\n",
       "      <td>NaN</td>\n",
       "      <td>NaN</td>\n",
       "      <td>NaN</td>\n",
       "      <td>寧州</td>\n",
       "    </tr>\n",
       "    <tr>\n",
       "      <th>198</th>\n",
       "      <td>西平</td>\n",
       "      <td>5</td>\n",
       "      <td>176</td>\n",
       "      <td>NaN</td>\n",
       "      <td>NaN</td>\n",
       "      <td>NaN</td>\n",
       "      <td>寧州</td>\n",
       "    </tr>\n",
       "    <tr>\n",
       "      <th>199</th>\n",
       "      <td>西河陽</td>\n",
       "      <td>3</td>\n",
       "      <td>369</td>\n",
       "      <td>NaN</td>\n",
       "      <td>NaN</td>\n",
       "      <td>NaN</td>\n",
       "      <td>寧州</td>\n",
       "    </tr>\n",
       "    <tr>\n",
       "      <th>200</th>\n",
       "      <td>東河陽</td>\n",
       "      <td>2</td>\n",
       "      <td>152</td>\n",
       "      <td>NaN</td>\n",
       "      <td>NaN</td>\n",
       "      <td>NaN</td>\n",
       "      <td>寧州</td>\n",
       "    </tr>\n",
       "    <tr>\n",
       "      <th>201</th>\n",
       "      <td>雲南</td>\n",
       "      <td>5</td>\n",
       "      <td>381</td>\n",
       "      <td>NaN</td>\n",
       "      <td>NaN</td>\n",
       "      <td>NaN</td>\n",
       "      <td>寧州</td>\n",
       "    </tr>\n",
       "    <tr>\n",
       "      <th>202</th>\n",
       "      <td>興寧</td>\n",
       "      <td>2</td>\n",
       "      <td>753</td>\n",
       "      <td>NaN</td>\n",
       "      <td>NaN</td>\n",
       "      <td>NaN</td>\n",
       "      <td>寧州</td>\n",
       "    </tr>\n",
       "    <tr>\n",
       "      <th>203</th>\n",
       "      <td>興古</td>\n",
       "      <td>6</td>\n",
       "      <td>386</td>\n",
       "      <td>NaN</td>\n",
       "      <td>NaN</td>\n",
       "      <td>NaN</td>\n",
       "      <td>寧州</td>\n",
       "    </tr>\n",
       "    <tr>\n",
       "      <th>204</th>\n",
       "      <td>梁水</td>\n",
       "      <td>7</td>\n",
       "      <td>431</td>\n",
       "      <td>NaN</td>\n",
       "      <td>NaN</td>\n",
       "      <td>NaN</td>\n",
       "      <td>寧州</td>\n",
       "    </tr>\n",
       "    <tr>\n",
       "      <th>205</th>\n",
       "      <td>南海</td>\n",
       "      <td>10</td>\n",
       "      <td>8574</td>\n",
       "      <td>49157.0</td>\n",
       "      <td>NaN</td>\n",
       "      <td>NaN</td>\n",
       "      <td>廣州</td>\n",
       "    </tr>\n",
       "    <tr>\n",
       "      <th>206</th>\n",
       "      <td>蒼梧</td>\n",
       "      <td>11</td>\n",
       "      <td>6593</td>\n",
       "      <td>1753.0</td>\n",
       "      <td>NaN</td>\n",
       "      <td>NaN</td>\n",
       "      <td>廣州</td>\n",
       "    </tr>\n",
       "    <tr>\n",
       "      <th>207</th>\n",
       "      <td>晉康</td>\n",
       "      <td>14</td>\n",
       "      <td>4547</td>\n",
       "      <td>17710.0</td>\n",
       "      <td>NaN</td>\n",
       "      <td>NaN</td>\n",
       "      <td>廣州</td>\n",
       "    </tr>\n",
       "    <tr>\n",
       "      <th>208</th>\n",
       "      <td>新寧</td>\n",
       "      <td>14</td>\n",
       "      <td>2653</td>\n",
       "      <td>10514.0</td>\n",
       "      <td>NaN</td>\n",
       "      <td>NaN</td>\n",
       "      <td>廣州</td>\n",
       "    </tr>\n",
       "    <tr>\n",
       "      <th>209</th>\n",
       "      <td>永平</td>\n",
       "      <td>7</td>\n",
       "      <td>1690</td>\n",
       "      <td>17220.0</td>\n",
       "      <td>NaN</td>\n",
       "      <td>NaN</td>\n",
       "      <td>廣州</td>\n",
       "    </tr>\n",
       "    <tr>\n",
       "      <th>210</th>\n",
       "      <td>鬱林</td>\n",
       "      <td>17</td>\n",
       "      <td>1121</td>\n",
       "      <td>5727.0</td>\n",
       "      <td>NaN</td>\n",
       "      <td>NaN</td>\n",
       "      <td>廣州</td>\n",
       "    </tr>\n",
       "    <tr>\n",
       "      <th>211</th>\n",
       "      <td>桂林</td>\n",
       "      <td>7</td>\n",
       "      <td>558</td>\n",
       "      <td>2250.0</td>\n",
       "      <td>NaN</td>\n",
       "      <td>NaN</td>\n",
       "      <td>廣州</td>\n",
       "    </tr>\n",
       "    <tr>\n",
       "      <th>212</th>\n",
       "      <td>高涼</td>\n",
       "      <td>7</td>\n",
       "      <td>1429</td>\n",
       "      <td>8123.0</td>\n",
       "      <td>NaN</td>\n",
       "      <td>NaN</td>\n",
       "      <td>廣州</td>\n",
       "    </tr>\n",
       "    <tr>\n",
       "      <th>213</th>\n",
       "      <td>新會</td>\n",
       "      <td>12</td>\n",
       "      <td>1739</td>\n",
       "      <td>590.0</td>\n",
       "      <td>NaN</td>\n",
       "      <td>NaN</td>\n",
       "      <td>廣州</td>\n",
       "    </tr>\n",
       "    <tr>\n",
       "      <th>214</th>\n",
       "      <td>東官</td>\n",
       "      <td>6</td>\n",
       "      <td>1332</td>\n",
       "      <td>15696.0</td>\n",
       "      <td>NaN</td>\n",
       "      <td>NaN</td>\n",
       "      <td>廣州</td>\n",
       "    </tr>\n",
       "    <tr>\n",
       "      <th>215</th>\n",
       "      <td>義安</td>\n",
       "      <td>5</td>\n",
       "      <td>1119</td>\n",
       "      <td>5522.0</td>\n",
       "      <td>NaN</td>\n",
       "      <td>NaN</td>\n",
       "      <td>廣州</td>\n",
       "    </tr>\n",
       "    <tr>\n",
       "      <th>216</th>\n",
       "      <td>宋康</td>\n",
       "      <td>9</td>\n",
       "      <td>1513</td>\n",
       "      <td>9131.0</td>\n",
       "      <td>NaN</td>\n",
       "      <td>NaN</td>\n",
       "      <td>廣州</td>\n",
       "    </tr>\n",
       "    <tr>\n",
       "      <th>217</th>\n",
       "      <td>綏建</td>\n",
       "      <td>7</td>\n",
       "      <td>3764</td>\n",
       "      <td>14491.0</td>\n",
       "      <td>NaN</td>\n",
       "      <td>NaN</td>\n",
       "      <td>廣州</td>\n",
       "    </tr>\n",
       "    <tr>\n",
       "      <th>218</th>\n",
       "      <td>海昌</td>\n",
       "      <td>5</td>\n",
       "      <td>1724</td>\n",
       "      <td>4074.0</td>\n",
       "      <td>NaN</td>\n",
       "      <td>NaN</td>\n",
       "      <td>廣州</td>\n",
       "    </tr>\n",
       "    <tr>\n",
       "      <th>219</th>\n",
       "      <td>宋熙</td>\n",
       "      <td>7</td>\n",
       "      <td>2084</td>\n",
       "      <td>6450.0</td>\n",
       "      <td>NaN</td>\n",
       "      <td>NaN</td>\n",
       "      <td>廣州</td>\n",
       "    </tr>\n",
       "    <tr>\n",
       "      <th>220</th>\n",
       "      <td>交趾</td>\n",
       "      <td>12</td>\n",
       "      <td>4233</td>\n",
       "      <td>NaN</td>\n",
       "      <td>NaN</td>\n",
       "      <td>NaN</td>\n",
       "      <td>交州</td>\n",
       "    </tr>\n",
       "    <tr>\n",
       "      <th>221</th>\n",
       "      <td>武平</td>\n",
       "      <td>6</td>\n",
       "      <td>1490</td>\n",
       "      <td>NaN</td>\n",
       "      <td>NaN</td>\n",
       "      <td>NaN</td>\n",
       "      <td>交州</td>\n",
       "    </tr>\n",
       "    <tr>\n",
       "      <th>222</th>\n",
       "      <td>九真</td>\n",
       "      <td>12</td>\n",
       "      <td>2328</td>\n",
       "      <td>NaN</td>\n",
       "      <td>NaN</td>\n",
       "      <td>NaN</td>\n",
       "      <td>交州</td>\n",
       "    </tr>\n",
       "    <tr>\n",
       "      <th>223</th>\n",
       "      <td>九德</td>\n",
       "      <td>11</td>\n",
       "      <td>890</td>\n",
       "      <td>NaN</td>\n",
       "      <td>NaN</td>\n",
       "      <td>NaN</td>\n",
       "      <td>交州</td>\n",
       "    </tr>\n",
       "    <tr>\n",
       "      <th>224</th>\n",
       "      <td>日南</td>\n",
       "      <td>7</td>\n",
       "      <td>420</td>\n",
       "      <td>NaN</td>\n",
       "      <td>NaN</td>\n",
       "      <td>NaN</td>\n",
       "      <td>交州</td>\n",
       "    </tr>\n",
       "    <tr>\n",
       "      <th>225</th>\n",
       "      <td>合浦</td>\n",
       "      <td>7</td>\n",
       "      <td>938</td>\n",
       "      <td>NaN</td>\n",
       "      <td>NaN</td>\n",
       "      <td>NaN</td>\n",
       "      <td>越州</td>\n",
       "    </tr>\n",
       "  </tbody>\n",
       "</table>\n",
       "<p>226 rows × 7 columns</p>\n",
       "</div>"
      ],
      "text/plain": [
       "    Name  xian     hu       kou    shui      lu zhou\n",
       "0     丹陽     8  41010  237341.0     NaN     NaN   揚州\n",
       "1     會稽    10  52228  348014.0     NaN     NaN   揚州\n",
       "2     吳郡    12  50488  424812.0   670.0   520.0   揚州\n",
       "3     吳興    10  49690  316173.0   950.0   570.0   揚州\n",
       "4     淮南     6   5362   25840.0   170.0   140.0   揚州\n",
       "5     宣城    10  10120   47992.0   580.0   500.0   揚州\n",
       "6     東陽     9  16022  107965.0     NaN     NaN   揚州\n",
       "7     臨海     5   3961   24226.0     NaN     NaN   揚州\n",
       "8     永嘉     5   6250   36680.0  2800.0  2640.0   揚州\n",
       "9     新安     5  12058   36651.0  1860.0  1800.0   揚州\n",
       "10   南東海     6   5342   33658.0     NaN     NaN  南徐州\n",
       "11   南琅邪     2   2789   18697.0   200.0   100.0  南徐州\n",
       "12    晉陵     6  15382   80113.0     NaN     NaN  南徐州\n",
       "13    義興     5  13496   89525.0     NaN     NaN  南徐州\n",
       "14   南蘭陵     2   1593   10634.0     NaN     NaN  南徐州\n",
       "15   南東莞     3   1424    9854.0     NaN     NaN  南徐州\n",
       "16    臨淮     7   3711   22886.0     NaN     NaN  南徐州\n",
       "17    淮陵     3   1950   10630.0     NaN     NaN  南徐州\n",
       "18   南彭城    12  11758   68163.0     NaN     NaN  南徐州\n",
       "19   南清河     4   1849    7440.0     NaN     NaN  南徐州\n",
       "20   南高平     3   1718    9731.0     NaN     NaN  南徐州\n",
       "21   南平昌     4   2178   11741.0     NaN     NaN  南徐州\n",
       "22   南濟陰     4   1655    8193.0     NaN     NaN  南徐州\n",
       "23   南濮陽     2   2026    8239.0     NaN     NaN  南徐州\n",
       "24   南泰山     3   2499   13600.0     NaN     NaN  南徐州\n",
       "25    濟陽     2   1232    8192.0     NaN     NaN  南徐州\n",
       "26   南魯郡     2   1211    6818.0     NaN     NaN  南徐州\n",
       "27    彭城     5   8627   41231.0     NaN     NaN   徐州\n",
       "28    沛郡     3   5290   25170.0     NaN     NaN   徐州\n",
       "29    下邳     3   3099   16088.0  1160.0   800.0   徐州\n",
       "..   ...   ...    ...       ...     ...     ...  ...\n",
       "196   南廣     4    440       NaN     NaN     NaN   寧州\n",
       "197   建都     6    170       NaN     NaN     NaN   寧州\n",
       "198   西平     5    176       NaN     NaN     NaN   寧州\n",
       "199  西河陽     3    369       NaN     NaN     NaN   寧州\n",
       "200  東河陽     2    152       NaN     NaN     NaN   寧州\n",
       "201   雲南     5    381       NaN     NaN     NaN   寧州\n",
       "202   興寧     2    753       NaN     NaN     NaN   寧州\n",
       "203   興古     6    386       NaN     NaN     NaN   寧州\n",
       "204   梁水     7    431       NaN     NaN     NaN   寧州\n",
       "205   南海    10   8574   49157.0     NaN     NaN   廣州\n",
       "206   蒼梧    11   6593    1753.0     NaN     NaN   廣州\n",
       "207   晉康    14   4547   17710.0     NaN     NaN   廣州\n",
       "208   新寧    14   2653   10514.0     NaN     NaN   廣州\n",
       "209   永平     7   1690   17220.0     NaN     NaN   廣州\n",
       "210   鬱林    17   1121    5727.0     NaN     NaN   廣州\n",
       "211   桂林     7    558    2250.0     NaN     NaN   廣州\n",
       "212   高涼     7   1429    8123.0     NaN     NaN   廣州\n",
       "213   新會    12   1739     590.0     NaN     NaN   廣州\n",
       "214   東官     6   1332   15696.0     NaN     NaN   廣州\n",
       "215   義安     5   1119    5522.0     NaN     NaN   廣州\n",
       "216   宋康     9   1513    9131.0     NaN     NaN   廣州\n",
       "217   綏建     7   3764   14491.0     NaN     NaN   廣州\n",
       "218   海昌     5   1724    4074.0     NaN     NaN   廣州\n",
       "219   宋熙     7   2084    6450.0     NaN     NaN   廣州\n",
       "220   交趾    12   4233       NaN     NaN     NaN   交州\n",
       "221   武平     6   1490       NaN     NaN     NaN   交州\n",
       "222   九真    12   2328       NaN     NaN     NaN   交州\n",
       "223   九德    11    890       NaN     NaN     NaN   交州\n",
       "224   日南     7    420       NaN     NaN     NaN   交州\n",
       "225   合浦     7    938       NaN     NaN     NaN   越州\n",
       "\n",
       "[226 rows x 7 columns]"
      ]
     },
     "execution_count": 320,
     "metadata": {
      "tags": []
     },
     "output_type": "execute_result"
    }
   ],
   "source": [
    "df_jun = pd.DataFrame(Jun_list)\n",
    "df_jun.columns = ['Name', 'xian', 'hu', 'kou', 'shui', 'lu', 'zhou']\n",
    "df_jun"
   ]
  },
  {
   "cell_type": "code",
   "execution_count": null,
   "metadata": {
    "colab": {},
    "colab_type": "code",
    "id": "fnbOzkfw7i1w",
    "outputId": "cb3b29c4-6651-46c5-d51f-015fbfd14cd1"
   },
   "outputs": [
    {
     "data": {
      "text/html": [
       "<div class=\"vega-embed\" id=\"4cec3288-e879-49d2-b737-4281a757652b\"></div>\n",
       "\n",
       "<style>\n",
       ".vega-embed .error p {\n",
       "    color: firebrick;\n",
       "    font-size: 14px;\n",
       "}\n",
       "</style>\n"
      ]
     },
     "metadata": {
      "jupyter-vega": "#4cec3288-e879-49d2-b737-4281a757652b",
      "tags": []
     },
     "output_type": "display_data"
    },
    {
     "data": {
      "application/javascript": [
       "var spec = {\"config\": {\"view\": {\"width\": 400, \"height\": 300}}, \"data\": {\"url\": \"altair-data-ee484fdd5db1c8a84ccf7d68af85ef3e.json\", \"format\": {\"type\": \"json\"}}, \"mark\": \"bar\", \"encoding\": {\"color\": {\"type\": \"nominal\", \"field\": \"zhou\", \"scale\": {\"scheme\": \"tableau20\"}}, \"tooltip\": [{\"type\": \"nominal\", \"field\": \"Name\"}, {\"type\": \"quantitative\", \"field\": \"xian\"}, {\"type\": \"quantitative\", \"field\": \"hu\"}, {\"type\": \"quantitative\", \"field\": \"kou\"}, {\"type\": \"quantitative\", \"field\": \"shui\"}, {\"type\": \"quantitative\", \"field\": \"lu\"}, {\"type\": \"nominal\", \"field\": \"zhou\"}], \"x\": {\"type\": \"nominal\", \"field\": \"Name\", \"sort\": {\"op\": \"sum\", \"field\": \"hu\", \"order\": \"descending\"}}, \"y\": {\"type\": \"quantitative\", \"field\": \"hu\"}}, \"$schema\": \"https://vega.github.io/schema/vega-lite/v2.4.3.json\"};\n",
       "var opt = {};\n",
       "var selector = \"#4cec3288-e879-49d2-b737-4281a757652b\";\n",
       "var type = \"vega-lite\";\n",
       "\n",
       "var output_area = this;\n",
       "\n",
       "require(['nbextensions/jupyter-vega/index'], function(vega) {\n",
       "  vega.render(selector, spec, type, opt, output_area);\n",
       "}, function (err) {\n",
       "  if (err.requireType !== 'scripterror') {\n",
       "    throw(err);\n",
       "  }\n",
       "});\n"
      ]
     },
     "metadata": {
      "jupyter-vega": "#4cec3288-e879-49d2-b737-4281a757652b",
      "tags": []
     },
     "output_type": "display_data"
    },
    {
     "data": {
      "text/plain": []
     },
     "execution_count": 259,
     "metadata": {
      "tags": []
     },
     "output_type": "execute_result"
    },
    {
     "data": {
      "image/png": "[encoded data removed]"
     },
     "metadata": {
      "jupyter-vega": "#4cec3288-e879-49d2-b737-4281a757652b",
      "tags": []
     },
     "output_type": "display_data"
    }
   ],
   "source": [
    "altair.Chart(df_jun).mark_bar().encode(\n",
    "    x=altair.X(\"Name\", sort=altair.SortField(field=\"hu\", op=\"sum\", order=\"descending\")),\n",
    "    y=\"hu\",\n",
    "    color=altair.Color(\"zhou\", scale=altair.Scale(scheme=\"tableau20\")),\n",
    "    tooltip=['Name', 'xian', 'hu', 'kou', 'shui', 'lu', 'zhou']\n",
    ")"
   ]
  },
  {
   "cell_type": "code",
   "execution_count": null,
   "metadata": {
    "colab": {},
    "colab_type": "code",
    "id": "AtG_vx3h7i1x",
    "outputId": "6280d285-0fae-427c-d94f-e46098aa55c8"
   },
   "outputs": [
    {
     "data": {
      "text/html": [
       "<style>\n",
       "        .source .hll { background-color: #ffffcc }\n",
       ".source  { background: #f8f8f8; }\n",
       ".source .c { color: #408080; font-style: italic } /* Comment */\n",
       ".source .err { border: 1px solid #FF0000 } /* Error */\n",
       ".source .k { color: #008000; font-weight: bold } /* Keyword */\n",
       ".source .o { color: #666666 } /* Operator */\n",
       ".source .ch { color: #408080; font-style: italic } /* Comment.Hashbang */\n",
       ".source .cm { color: #408080; font-style: italic } /* Comment.Multiline */\n",
       ".source .cp { color: #BC7A00 } /* Comment.Preproc */\n",
       ".source .cpf { color: #408080; font-style: italic } /* Comment.PreprocFile */\n",
       ".source .c1 { color: #408080; font-style: italic } /* Comment.Single */\n",
       ".source .cs { color: #408080; font-style: italic } /* Comment.Special */\n",
       ".source .gd { color: #A00000 } /* Generic.Deleted */\n",
       ".source .ge { font-style: italic } /* Generic.Emph */\n",
       ".source .gr { color: #FF0000 } /* Generic.Error */\n",
       ".source .gh { color: #000080; font-weight: bold } /* Generic.Heading */\n",
       ".source .gi { color: #00A000 } /* Generic.Inserted */\n",
       ".source .go { color: #888888 } /* Generic.Output */\n",
       ".source .gp { color: #000080; font-weight: bold } /* Generic.Prompt */\n",
       ".source .gs { font-weight: bold } /* Generic.Strong */\n",
       ".source .gu { color: #800080; font-weight: bold } /* Generic.Subheading */\n",
       ".source .gt { color: #0044DD } /* Generic.Traceback */\n",
       ".source .kc { color: #008000; font-weight: bold } /* Keyword.Constant */\n",
       ".source .kd { color: #008000; font-weight: bold } /* Keyword.Declaration */\n",
       ".source .kn { color: #008000; font-weight: bold } /* Keyword.Namespace */\n",
       ".source .kp { color: #008000 } /* Keyword.Pseudo */\n",
       ".source .kr { color: #008000; font-weight: bold } /* Keyword.Reserved */\n",
       ".source .kt { color: #B00040 } /* Keyword.Type */\n",
       ".source .m { color: #666666 } /* Literal.Number */\n",
       ".source .s { color: #BA2121 } /* Literal.String */\n",
       ".source .na { color: #7D9029 } /* Name.Attribute */\n",
       ".source .nb { color: #008000 } /* Name.Builtin */\n",
       ".source .nc { color: #0000FF; font-weight: bold } /* Name.Class */\n",
       ".source .no { color: #880000 } /* Name.Constant */\n",
       ".source .nd { color: #AA22FF } /* Name.Decorator */\n",
       ".source .ni { color: #999999; font-weight: bold } /* Name.Entity */\n",
       ".source .ne { color: #D2413A; font-weight: bold } /* Name.Exception */\n",
       ".source .nf { color: #0000FF } /* Name.Function */\n",
       ".source .nl { color: #A0A000 } /* Name.Label */\n",
       ".source .nn { color: #0000FF; font-weight: bold } /* Name.Namespace */\n",
       ".source .nt { color: #008000; font-weight: bold } /* Name.Tag */\n",
       ".source .nv { color: #19177C } /* Name.Variable */\n",
       ".source .ow { color: #AA22FF; font-weight: bold } /* Operator.Word */\n",
       ".source .w { color: #bbbbbb } /* Text.Whitespace */\n",
       ".source .mb { color: #666666 } /* Literal.Number.Bin */\n",
       ".source .mf { color: #666666 } /* Literal.Number.Float */\n",
       ".source .mh { color: #666666 } /* Literal.Number.Hex */\n",
       ".source .mi { color: #666666 } /* Literal.Number.Integer */\n",
       ".source .mo { color: #666666 } /* Literal.Number.Oct */\n",
       ".source .sa { color: #BA2121 } /* Literal.String.Affix */\n",
       ".source .sb { color: #BA2121 } /* Literal.String.Backtick */\n",
       ".source .sc { color: #BA2121 } /* Literal.String.Char */\n",
       ".source .dl { color: #BA2121 } /* Literal.String.Delimiter */\n",
       ".source .sd { color: #BA2121; font-style: italic } /* Literal.String.Doc */\n",
       ".source .s2 { color: #BA2121 } /* Literal.String.Double */\n",
       ".source .se { color: #BB6622; font-weight: bold } /* Literal.String.Escape */\n",
       ".source .sh { color: #BA2121 } /* Literal.String.Heredoc */\n",
       ".source .si { color: #BB6688; font-weight: bold } /* Literal.String.Interpol */\n",
       ".source .sx { color: #008000 } /* Literal.String.Other */\n",
       ".source .sr { color: #BB6688 } /* Literal.String.Regex */\n",
       ".source .s1 { color: #BA2121 } /* Literal.String.Single */\n",
       ".source .ss { color: #19177C } /* Literal.String.Symbol */\n",
       ".source .bp { color: #008000 } /* Name.Builtin.Pseudo */\n",
       ".source .fm { color: #0000FF } /* Name.Function.Magic */\n",
       ".source .vc { color: #19177C } /* Name.Variable.Class */\n",
       ".source .vg { color: #19177C } /* Name.Variable.Global */\n",
       ".source .vi { color: #19177C } /* Name.Variable.Instance */\n",
       ".source .vm { color: #19177C } /* Name.Variable.Magic */\n",
       ".source .il { color: #666666 } /* Literal.Number.Integer.Long */\n",
       "        </style>\n",
       "        <div class=\"source\"><pre><span></span><span class=\"p\">&lt;</span><span class=\"nt\">html</span><span class=\"p\">&gt;</span>\n",
       "            <span class=\"p\">&lt;</span><span class=\"nt\">body</span><span class=\"p\">&gt;</span>\n",
       "                <span class=\"p\">&lt;</span><span class=\"nt\">a</span> <span class=\"na\">class</span><span class=\"o\">=</span><span class=\"s\">&quot;gobookmark&quot;</span> <span class=\"na\">href</span><span class=\"o\">=</span><span class=\"s\">&quot;hanji?@96^1115717931^70^^^^@@231656950&quot;</span> <span class=\"na\">title</span><span class=\"o\">=</span><span class=\"s\">&quot;開啟書籤管理&quot;</span><span class=\"p\">&gt;</span>史／正史／宋書／志　凡三十卷／卷三十五　志第二十五／州郡一／揚州(P.1029)..[底本：宋元明三朝遞修本]<span class=\"p\">&lt;/</span><span class=\"nt\">a</span><span class=\"p\">&gt;</span>\n",
       "\t<span class=\"p\">&lt;</span><span class=\"nt\">span</span> <span class=\"na\">id</span><span class=\"o\">=</span><span class=\"s\">&quot;fontstyle&quot;</span> <span class=\"na\">style</span><span class=\"o\">=</span><span class=\"s\">&quot;FONT-SIZE: 12pt;letter-spacing:1pt; LINE-HEIGHT: 18pt;width:99%;word-break:break-all&quot;</span><span class=\"p\">&gt;</span>\n",
       "<span class=\"p\">&lt;</span><span class=\"nt\">div</span> <span class=\"na\">style</span><span class=\"o\">=</span><span class=\"s\">&quot;text-indent:2em;padding-left:0em;&quot;</span><span class=\"p\">&gt;</span>揚州刺史，前漢刺史未有所治，<span class=\"p\">&lt;</span><span class=\"nt\">font</span> <span class=\"na\">size</span><span class=\"o\">=</span><span class=\"s\">&quot;-2&quot;</span><span class=\"p\">&gt;</span>它州同。<span class=\"p\">&lt;/</span><span class=\"nt\">font</span><span class=\"p\">&gt;</span>後漢治歷陽，魏、晉治壽春，晉平吳治建業。成帝咸康四年，僑立魏郡，<span class=\"p\">&lt;</span><span class=\"nt\">font</span> <span class=\"na\">size</span><span class=\"o\">=</span><span class=\"s\">&quot;-2&quot;</span><span class=\"p\">&gt;</span>別見。<span class=\"p\">&lt;/</span><span class=\"nt\">font</span><span class=\"p\">&gt;</span>領肥鄉、<span class=\"p\">&lt;</span><span class=\"nt\">font</span> <span class=\"na\">size</span><span class=\"o\">=</span><span class=\"s\">&quot;-2&quot;</span><span class=\"p\">&gt;</span>別見。<span class=\"p\">&lt;/</span><span class=\"nt\">font</span><span class=\"p\">&gt;</span>元城<span class=\"p\">&lt;</span><span class=\"nt\">font</span> <span class=\"na\">size</span><span class=\"o\">=</span><span class=\"s\">&quot;-2&quot;</span><span class=\"p\">&gt;</span>漢舊縣，晉屬陽平。<span class=\"p\">&lt;/</span><span class=\"nt\">font</span><span class=\"p\">&gt;</span>二縣，後省元城。又僑立廣川郡，<span class=\"p\">&lt;</span><span class=\"nt\">font</span> <span class=\"na\">size</span><span class=\"o\">=</span><span class=\"s\">&quot;-2&quot;</span><span class=\"p\">&gt;</span>別見。<span class=\"p\">&lt;/</span><span class=\"nt\">font</span><span class=\"p\">&gt;</span>領廣川一縣，宋初省為縣，隸魏郡。江左又立高陽、<span class=\"p\">&lt;</span><span class=\"nt\">font</span> <span class=\"na\">size</span><span class=\"o\">=</span><span class=\"s\">&quot;-2&quot;</span><span class=\"p\">&gt;</span>別見。<span class=\"p\">&lt;/</span><span class=\"nt\">font</span><span class=\"p\">&gt;</span>堂邑二郡，<span class=\"p\">&lt;</span><span class=\"nt\">font</span> <span class=\"na\">size</span><span class=\"o\">=</span><span class=\"s\">&quot;-2&quot;</span><span class=\"p\">&gt;</span>別見。<span class=\"p\">&lt;/</span><span class=\"nt\">font</span><span class=\"p\">&gt;</span>高陽領北新城、<span class=\"p\">&lt;</span><span class=\"nt\">font</span> <span class=\"na\">size</span><span class=\"o\">=</span><span class=\"s\">&quot;-2&quot;</span><span class=\"p\">&gt;</span>別見。<span class=\"p\">&lt;/</span><span class=\"nt\">font</span><span class=\"p\">&gt;</span>博陸<span class=\"p\">&lt;</span><span class=\"nt\">font</span> <span class=\"na\">size</span><span class=\"o\">=</span><span class=\"s\">&quot;-2&quot;</span><span class=\"p\">&gt;</span>博陸縣霍光所封，而二漢無，晉屬高陽。<span class=\"p\">&lt;/</span><span class=\"nt\">font</span><span class=\"p\">&gt;</span>二縣，堂邑，領堂邑一縣，後省堂邑并高陽，又省高陽并魏郡，並隸揚州，寄治京邑。文帝元嘉十一年省，以其民併建康。孝建元年，分揚州之會稽、東陽、新安、永嘉、臨海五郡為東揚州。大明三年罷州，以其地為王畿，以南臺侍御史部諸郡，如從事之部傳焉，而東揚州直云揚州。八年，罷王畿，復立揚州，揚州還為東揚州。前廢帝永光元年，省東揚州併揚州。順帝昇明三年，改揚州刺史曰牧。領郡十，領縣八十。戶一十四萬三千二百九十六，口一百四十五萬五千六百八十五。<span class=\"p\">&lt;/</span><span class=\"nt\">div</span><span class=\"p\">&gt;</span>\n",
       "<span class=\"p\">&lt;</span><span class=\"nt\">center</span><span class=\"p\">&gt;</span>．　．　．　．　．　．　．　．　．　．　．　．　．　．　．　．　．　．<span class=\"p\">&lt;/</span><span class=\"nt\">center</span><span class=\"p\">&gt;</span>\n",
       "<span class=\"p\">&lt;</span><span class=\"nt\">div</span> <span class=\"na\">style</span><span class=\"o\">=</span><span class=\"s\">&quot;text-indent:2em;padding-left:0em;&quot;</span><span class=\"p\">&gt;</span>丹陽尹，秦鄣郡，治今吳興之故鄣縣。漢初屬吳國，吳王濞反敗，屬江都國。武帝元封二年，為丹陽郡，治今宣城之宛陵縣。晉武帝太康二年，分丹陽為宣城郡，治宛陵，而丹陽移治建業。元帝太興元年，改為尹。領縣八。戶四萬一千一十，口二十三萬七千三百四十一。<span class=\"p\">&lt;/</span><span class=\"nt\">div</span><span class=\"p\">&gt;</span>\n",
       "<span class=\"p\">&lt;</span><span class=\"nt\">div</span> <span class=\"na\">style</span><span class=\"o\">=</span><span class=\"s\">&quot;text-indent:-1em;padding-left:5em;&quot;</span><span class=\"p\">&gt;</span>建康令，本秣陵縣。漢獻帝建安十六年置縣，孫權改秣陵為建業。晉武帝平吳，還為秣陵。太康三年，分秣陵之水北為建業。愍帝即位，避帝諱，改為建康。<span class=\"p\">&lt;/</span><span class=\"nt\">div</span><span class=\"p\">&gt;</span>\n",
       "<span class=\"p\">&lt;</span><span class=\"nt\">div</span> <span class=\"na\">style</span><span class=\"o\">=</span><span class=\"s\">&quot;text-indent:-1em;padding-left:5em;&quot;</span><span class=\"p\">&gt;</span>秣陵令，其地本名金陵，秦始皇改。本治去京邑六十里，今故治邨是也。晉安帝義熙九年，移治京邑，在鬭場。恭帝元熙元年，省揚州府禁防參軍，縣移治其處。<span class=\"p\">&lt;/</span><span class=\"nt\">div</span><span class=\"p\">&gt;</span>\n",
       "<span class=\"p\">&lt;</span><span class=\"nt\">div</span> <span class=\"na\">style</span><span class=\"o\">=</span><span class=\"s\">&quot;text-indent:-1em;padding-left:5em;&quot;</span><span class=\"p\">&gt;</span>丹楊令，漢舊縣。<span class=\"p\">&lt;/</span><span class=\"nt\">div</span><span class=\"p\">&gt;</span>\n",
       "<span class=\"p\">&lt;</span><span class=\"nt\">div</span> <span class=\"na\">style</span><span class=\"o\">=</span><span class=\"s\">&quot;text-indent:-1em;padding-left:5em;&quot;</span><span class=\"p\">&gt;</span>江寧令，晉武帝太康元年，分秣陵立臨江縣。二年，更名。<span class=\"p\">&lt;/</span><span class=\"nt\">div</span><span class=\"p\">&gt;</span>\n",
       "<span class=\"p\">&lt;</span><span class=\"nt\">div</span> <span class=\"na\">style</span><span class=\"o\">=</span><span class=\"s\">&quot;text-indent:-1em;padding-left:5em;&quot;</span><span class=\"p\">&gt;</span>永世令，吳分溧陽為永平縣，晉武帝太康元年更名。惠帝世，度屬義興，尋復舊。義興又有平陵縣，董覽吳地志云：「晉分永世。」太康、永寧地志並無，疑是江左立。文帝元嘉九年，以併永世、溧陽二縣。<span class=\"p\">&lt;/</span><span class=\"nt\">div</span><span class=\"p\">&gt;</span>\n",
       "<span class=\"p\">&lt;</span><span class=\"nt\">div</span> <span class=\"na\">style</span><span class=\"o\">=</span><span class=\"s\">&quot;text-indent:-1em;padding-left:5em;&quot;</span><span class=\"p\">&gt;</span>溧陽令，漢舊縣。吳省為屯田。晉武帝太康元年復立。<span class=\"p\">&lt;/</span><span class=\"nt\">div</span><span class=\"p\">&gt;</span>\n",
       "<span class=\"p\">&lt;</span><span class=\"nt\">div</span> <span class=\"na\">style</span><span class=\"o\">=</span><span class=\"s\">&quot;text-indent:-1em;padding-left:5em;&quot;</span><span class=\"p\">&gt;</span>湖熟令，漢舊縣。吳省為典農都尉。晉武帝太康元年復立。<span class=\"p\">&lt;/</span><span class=\"nt\">div</span><span class=\"p\">&gt;</span>\n",
       "<span class=\"p\">&lt;</span><span class=\"nt\">div</span> <span class=\"na\">style</span><span class=\"o\">=</span><span class=\"s\">&quot;text-indent:-1em;padding-left:5em;&quot;</span><span class=\"p\">&gt;</span>句容令，漢舊縣。<span class=\"p\">&lt;/</span><span class=\"nt\">div</span><span class=\"p\">&gt;</span>\n",
       "<span class=\"p\">&lt;</span><span class=\"nt\">center</span><span class=\"p\">&gt;</span>．　．　．　．　．　．　．　．　．　．　．　．　．　．　．　．　．　．<span class=\"p\">&lt;/</span><span class=\"nt\">center</span><span class=\"p\">&gt;</span>\n",
       "<span class=\"p\">&lt;</span><span class=\"nt\">div</span> <span class=\"na\">style</span><span class=\"o\">=</span><span class=\"s\">&quot;text-indent:2em;padding-left:0em;&quot;</span><span class=\"p\">&gt;</span>會稽太守，秦立，治吳。漢順帝永建四年，分會稽為吳郡，會稽移治山陰。領縣十。戶五萬二千二百二十八，口三十四萬八千一十四。去京都水一千三百五十五，陸同。<span class=\"p\">&lt;/</span><span class=\"nt\">div</span><span class=\"p\">&gt;</span>\n",
       "<span class=\"p\">&lt;</span><span class=\"nt\">div</span> <span class=\"na\">style</span><span class=\"o\">=</span><span class=\"s\">&quot;text-indent:-1em;padding-left:5em;&quot;</span><span class=\"p\">&gt;</span>山陰令，漢舊縣。<span class=\"p\">&lt;/</span><span class=\"nt\">div</span><span class=\"p\">&gt;</span>\n",
       "<span class=\"p\">&lt;</span><span class=\"nt\">div</span> <span class=\"na\">style</span><span class=\"o\">=</span><span class=\"s\">&quot;text-indent:-1em;padding-left:5em;&quot;</span><span class=\"p\">&gt;</span>永興令，漢舊餘暨縣，吳更名。<span class=\"p\">&lt;/</span><span class=\"nt\">div</span><span class=\"p\">&gt;</span>\n",
       "<span class=\"p\">&lt;</span><span class=\"nt\">div</span> <span class=\"na\">style</span><span class=\"o\">=</span><span class=\"s\">&quot;text-indent:-1em;padding-left:5em;&quot;</span><span class=\"p\">&gt;</span>上虞令，漢舊縣。<span class=\"p\">&lt;/</span><span class=\"nt\">div</span><span class=\"p\">&gt;</span>\n",
       "<span class=\"p\">&lt;</span><span class=\"nt\">div</span> <span class=\"na\">style</span><span class=\"o\">=</span><span class=\"s\">&quot;text-indent:-1em;padding-left:5em;&quot;</span><span class=\"p\">&gt;</span>餘姚令，漢舊縣。<span class=\"p\">&lt;/</span><span class=\"nt\">div</span><span class=\"p\">&gt;</span>\n",
       "<span class=\"p\">&lt;</span><span class=\"nt\">div</span> <span class=\"na\">style</span><span class=\"o\">=</span><span class=\"s\">&quot;text-indent:-1em;padding-left:5em;&quot;</span><span class=\"p\">&gt;</span>剡令，漢舊縣。<span class=\"p\">&lt;/</span><span class=\"nt\">div</span><span class=\"p\">&gt;</span>\n",
       "<span class=\"p\">&lt;</span><span class=\"nt\">div</span> <span class=\"na\">style</span><span class=\"o\">=</span><span class=\"s\">&quot;text-indent:-1em;padding-left:5em;&quot;</span><span class=\"p\">&gt;</span>諸暨令，漢舊縣。<span class=\"p\">&lt;/</span><span class=\"nt\">div</span><span class=\"p\">&gt;</span>\n",
       "<span class=\"p\">&lt;</span><span class=\"nt\">div</span> <span class=\"na\">style</span><span class=\"o\">=</span><span class=\"s\">&quot;text-indent:-1em;padding-left:5em;&quot;</span><span class=\"p\">&gt;</span>始寧令，何承天志，漢末分上虞立。賀續會稽記云：「順帝永建四年，分上虞南鄉立。」續漢志無。晉太康三年地志有。<span class=\"p\">&lt;/</span><span class=\"nt\">div</span><span class=\"p\">&gt;</span>\n",
       "<span class=\"p\">&lt;</span><span class=\"nt\">div</span> <span class=\"na\">style</span><span class=\"o\">=</span><span class=\"s\">&quot;text-indent:-1em;padding-left:5em;&quot;</span><span class=\"p\">&gt;</span>句章令，漢舊縣。<span class=\"p\">&lt;/</span><span class=\"nt\">div</span><span class=\"p\">&gt;</span>\n",
       "<span class=\"p\">&lt;</span><span class=\"nt\">div</span> <span class=\"na\">style</span><span class=\"o\">=</span><span class=\"s\">&quot;text-indent:-1em;padding-left:5em;&quot;</span><span class=\"p\">&gt;</span>鄮令，漢舊縣。<span class=\"p\">&lt;/</span><span class=\"nt\">div</span><span class=\"p\">&gt;</span>\n",
       "<span class=\"p\">&lt;</span><span class=\"nt\">div</span> <span class=\"na\">style</span><span class=\"o\">=</span><span class=\"s\">&quot;text-indent:-1em;padding-left:5em;&quot;</span><span class=\"p\">&gt;</span>鄞令，漢舊縣。<span class=\"p\">&lt;/</span><span class=\"nt\">div</span><span class=\"p\">&gt;</span>\n",
       "<span class=\"p\">&lt;</span><span class=\"nt\">center</span><span class=\"p\">&gt;</span>．　．　．　．　．　．　．　．　．　．　．　．　．　．　．　．　．　．<span class=\"p\">&lt;/</span><span class=\"nt\">center</span><span class=\"p\">&gt;</span>\n",
       "<span class=\"p\">&lt;</span><span class=\"nt\">div</span> <span class=\"na\">style</span><span class=\"o\">=</span><span class=\"s\">&quot;text-indent:2em;padding-left:0em;&quot;</span><span class=\"p\">&gt;</span>吳郡太守，分會稽立。孝武大明七年，度屬南徐，八年，復舊。領縣十二。戶五萬四百八十八，口四十二萬四千八百一十二。去京都水六百七十，陸五百二十。<span class=\"p\">&lt;/</span><span class=\"nt\">div</span><span class=\"p\">&gt;</span>\n",
       "<span class=\"p\">&lt;</span><span class=\"nt\">div</span> <span class=\"na\">style</span><span class=\"o\">=</span><span class=\"s\">&quot;text-indent:-1em;padding-left:5em;&quot;</span><span class=\"p\">&gt;</span>吳令，漢舊縣。<span class=\"p\">&lt;/</span><span class=\"nt\">div</span><span class=\"p\">&gt;</span>\n",
       "<span class=\"p\">&lt;</span><span class=\"nt\">div</span> <span class=\"na\">style</span><span class=\"o\">=</span><span class=\"s\">&quot;text-indent:-1em;padding-left:5em;&quot;</span><span class=\"p\">&gt;</span>婁令，漢舊縣。<span class=\"p\">&lt;/</span><span class=\"nt\">div</span><span class=\"p\">&gt;</span>\n",
       "<span class=\"p\">&lt;</span><span class=\"nt\">div</span> <span class=\"na\">style</span><span class=\"o\">=</span><span class=\"s\">&quot;text-indent:-1em;padding-left:5em;&quot;</span><span class=\"p\">&gt;</span>嘉興令，此地本名長水，秦改曰由拳。吳孫權黃龍四年，由拳縣生嘉禾，改曰禾興。孫晧父名和，又改名曰嘉興。<span class=\"p\">&lt;/</span><span class=\"nt\">div</span><span class=\"p\">&gt;</span>\n",
       "<span class=\"p\">&lt;</span><span class=\"nt\">div</span> <span class=\"na\">style</span><span class=\"o\">=</span><span class=\"s\">&quot;text-indent:-1em;padding-left:5em;&quot;</span><span class=\"p\">&gt;</span>海虞令，晉武帝太康四年，分吳縣之虞鄉立。<span class=\"p\">&lt;/</span><span class=\"nt\">div</span><span class=\"p\">&gt;</span>\n",
       "<span class=\"p\">&lt;</span><span class=\"nt\">div</span> <span class=\"na\">style</span><span class=\"o\">=</span><span class=\"s\">&quot;text-indent:-1em;padding-left:5em;&quot;</span><span class=\"p\">&gt;</span>海鹽令，漢舊縣。吳記云：「本名武原鄉，秦以為海鹽縣。」<span class=\"p\">&lt;/</span><span class=\"nt\">div</span><span class=\"p\">&gt;</span>\n",
       "<span class=\"p\">&lt;</span><span class=\"nt\">div</span> <span class=\"na\">style</span><span class=\"o\">=</span><span class=\"s\">&quot;text-indent:-1em;padding-left:5em;&quot;</span><span class=\"p\">&gt;</span>鹽官令，漢舊縣。吳記云：「鹽官本屬嘉興，吳立為海昌都尉治，此後改為縣。」非也。<span class=\"p\">&lt;/</span><span class=\"nt\">div</span><span class=\"p\">&gt;</span>\n",
       "<span class=\"p\">&lt;</span><span class=\"nt\">div</span> <span class=\"na\">style</span><span class=\"o\">=</span><span class=\"s\">&quot;text-indent:-1em;padding-left:5em;&quot;</span><span class=\"p\">&gt;</span>錢唐令，漢舊縣。<span class=\"p\">&lt;/</span><span class=\"nt\">div</span><span class=\"p\">&gt;</span>\n",
       "<span class=\"p\">&lt;</span><span class=\"nt\">div</span> <span class=\"na\">style</span><span class=\"o\">=</span><span class=\"s\">&quot;text-indent:-1em;padding-left:5em;&quot;</span><span class=\"p\">&gt;</span>富陽令，漢舊縣。本曰富春。孫權黃武四年，以為東安郡，七年，省。晉簡文鄭太后諱「春」，孝武改曰富陽。<span class=\"p\">&lt;/</span><span class=\"nt\">div</span><span class=\"p\">&gt;</span>\n",
       "<span class=\"p\">&lt;</span><span class=\"nt\">div</span> <span class=\"na\">style</span><span class=\"o\">=</span><span class=\"s\">&quot;text-indent:-1em;padding-left:5em;&quot;</span><span class=\"p\">&gt;</span>新城令，浙江西南名為桐溪，吳立為新城縣，後并桐廬。晉太康地志無。張勃云：「晉末立。」疑是太康末立，尋復省也。晉成帝咸和九年又立。<span class=\"p\">&lt;/</span><span class=\"nt\">div</span><span class=\"p\">&gt;</span>\n",
       "<span class=\"p\">&lt;</span><span class=\"nt\">div</span> <span class=\"na\">style</span><span class=\"o\">=</span><span class=\"s\">&quot;text-indent:-1em;padding-left:5em;&quot;</span><span class=\"p\">&gt;</span>建德令，吳分富春立。<span class=\"p\">&lt;/</span><span class=\"nt\">div</span><span class=\"p\">&gt;</span>\n",
       "<span class=\"p\">&lt;</span><span class=\"nt\">div</span> <span class=\"na\">style</span><span class=\"o\">=</span><span class=\"s\">&quot;text-indent:-1em;padding-left:5em;&quot;</span><span class=\"p\">&gt;</span>桐廬令，吳分富春立。<span class=\"p\">&lt;/</span><span class=\"nt\">div</span><span class=\"p\">&gt;</span>\n",
       "<span class=\"p\">&lt;</span><span class=\"nt\">div</span> <span class=\"na\">style</span><span class=\"o\">=</span><span class=\"s\">&quot;text-indent:-1em;padding-left:5em;&quot;</span><span class=\"p\">&gt;</span>壽昌令，吳分富春立新昌縣，晉武帝太康元年更名。<span class=\"p\">&lt;/</span><span class=\"nt\">div</span><span class=\"p\">&gt;</span>\n",
       "<span class=\"p\">&lt;</span><span class=\"nt\">center</span><span class=\"p\">&gt;</span>．　．　．　．　．　．　．　．　．　．　．　．　．　．　．　．　．　．<span class=\"p\">&lt;/</span><span class=\"nt\">center</span><span class=\"p\">&gt;</span>\n",
       "<span class=\"p\">&lt;</span><span class=\"nt\">div</span> <span class=\"na\">style</span><span class=\"o\">=</span><span class=\"s\">&quot;text-indent:2em;padding-left:0em;&quot;</span><span class=\"p\">&gt;</span>吳興太守，孫晧寶鼎元年，分吳、丹陽立。領縣十。戶四萬九千六百九，口三十一萬六千一百七十三。去京都水九百五十，陸五百七十。<span class=\"p\">&lt;/</span><span class=\"nt\">div</span><span class=\"p\">&gt;</span>\n",
       "<span class=\"p\">&lt;</span><span class=\"nt\">div</span> <span class=\"na\">style</span><span class=\"o\">=</span><span class=\"s\">&quot;text-indent:-1em;padding-left:5em;&quot;</span><span class=\"p\">&gt;</span>烏程令，漢舊縣，先屬吳。<span class=\"p\">&lt;/</span><span class=\"nt\">div</span><span class=\"p\">&gt;</span>\n",
       "<span class=\"p\">&lt;</span><span class=\"nt\">div</span> <span class=\"na\">style</span><span class=\"o\">=</span><span class=\"s\">&quot;text-indent:-1em;padding-left:5em;&quot;</span><span class=\"p\">&gt;</span>東遷令，晉武帝太康三年，分烏程立。後廢帝元徽四年，更名東安。順帝昇明元年復舊。<span class=\"p\">&lt;/</span><span class=\"nt\">div</span><span class=\"p\">&gt;</span>\n",
       "<span class=\"p\">&lt;</span><span class=\"nt\">div</span> <span class=\"na\">style</span><span class=\"o\">=</span><span class=\"s\">&quot;text-indent:-1em;padding-left:5em;&quot;</span><span class=\"p\">&gt;</span>武康令，吳分烏程、餘杭立永安縣，晉武帝太康元年更名。<span class=\"p\">&lt;/</span><span class=\"nt\">div</span><span class=\"p\">&gt;</span>\n",
       "<span class=\"p\">&lt;</span><span class=\"nt\">div</span> <span class=\"na\">style</span><span class=\"o\">=</span><span class=\"s\">&quot;text-indent:-1em;padding-left:5em;&quot;</span><span class=\"p\">&gt;</span>長城令，晉武帝太康三年，分烏程立。<span class=\"p\">&lt;/</span><span class=\"nt\">div</span><span class=\"p\">&gt;</span>\n",
       "<span class=\"p\">&lt;</span><span class=\"nt\">div</span> <span class=\"na\">style</span><span class=\"o\">=</span><span class=\"s\">&quot;text-indent:-1em;padding-left:5em;&quot;</span><span class=\"p\">&gt;</span>原鄉令，漢靈帝中平二年，分故鄣立。<span class=\"p\">&lt;/</span><span class=\"nt\">div</span><span class=\"p\">&gt;</span>\n",
       "<span class=\"p\">&lt;</span><span class=\"nt\">div</span> <span class=\"na\">style</span><span class=\"o\">=</span><span class=\"s\">&quot;text-indent:-1em;padding-left:5em;&quot;</span><span class=\"p\">&gt;</span>故鄣令，漢舊縣，先屬丹陽。<span class=\"p\">&lt;/</span><span class=\"nt\">div</span><span class=\"p\">&gt;</span>\n",
       "<span class=\"p\">&lt;</span><span class=\"nt\">div</span> <span class=\"na\">style</span><span class=\"o\">=</span><span class=\"s\">&quot;text-indent:-1em;padding-left:5em;&quot;</span><span class=\"p\">&gt;</span>安吉令，漢靈帝中平二年，分故鄣立。<span class=\"p\">&lt;/</span><span class=\"nt\">div</span><span class=\"p\">&gt;</span>\n",
       "<span class=\"p\">&lt;</span><span class=\"nt\">div</span> <span class=\"na\">style</span><span class=\"o\">=</span><span class=\"s\">&quot;text-indent:-1em;padding-left:5em;&quot;</span><span class=\"p\">&gt;</span>餘杭令，漢舊縣，先屬吳。<span class=\"p\">&lt;/</span><span class=\"nt\">div</span><span class=\"p\">&gt;</span>\n",
       "<span class=\"p\">&lt;</span><span class=\"nt\">div</span> <span class=\"na\">style</span><span class=\"o\">=</span><span class=\"s\">&quot;text-indent:-1em;padding-left:5em;&quot;</span><span class=\"p\">&gt;</span>臨安令，吳分餘杭為臨水縣，晉武帝太康元年更名。<span class=\"p\">&lt;/</span><span class=\"nt\">div</span><span class=\"p\">&gt;</span>\n",
       "<span class=\"p\">&lt;</span><span class=\"nt\">div</span> <span class=\"na\">style</span><span class=\"o\">=</span><span class=\"s\">&quot;text-indent:-1em;padding-left:5em;&quot;</span><span class=\"p\">&gt;</span>於潛令，漢舊縣，先屬丹陽。<span class=\"p\">&lt;/</span><span class=\"nt\">div</span><span class=\"p\">&gt;</span>\n",
       "<span class=\"p\">&lt;</span><span class=\"nt\">center</span><span class=\"p\">&gt;</span>．　．　．　．　．　．　．　．　．　．　．　．　．　．　．　．　．　．<span class=\"p\">&lt;/</span><span class=\"nt\">center</span><span class=\"p\">&gt;</span>\n",
       "<span class=\"p\">&lt;</span><span class=\"nt\">div</span> <span class=\"na\">style</span><span class=\"o\">=</span><span class=\"s\">&quot;text-indent:2em;padding-left:0em;&quot;</span><span class=\"p\">&gt;</span>淮南太守，秦立為九江郡，兼得廬江豫章。漢高帝四年，更名淮南國，分立豫章郡，文帝又分為廬江郡。武帝元狩元年，復為九江郡，治壽春縣。後漢徙治陰陵縣。魏復曰淮南，徙治壽春。晉武帝太康元年，復立歷陽、<span class=\"p\">&lt;</span><span class=\"nt\">font</span> <span class=\"na\">size</span><span class=\"o\">=</span><span class=\"s\">&quot;-2&quot;</span><span class=\"p\">&gt;</span>別見。<span class=\"p\">&lt;/</span><span class=\"nt\">font</span><span class=\"p\">&gt;</span>當塗、逡道諸縣，二年，復立鍾離縣，<span class=\"p\">&lt;</span><span class=\"nt\">font</span> <span class=\"na\">size</span><span class=\"o\">=</span><span class=\"s\">&quot;-2&quot;</span><span class=\"p\">&gt;</span>別見。<span class=\"p\">&lt;/</span><span class=\"nt\">font</span><span class=\"p\">&gt;</span>並二漢舊縣也。三國時，江淮為戰爭之地，其間不居者各數百里，此諸縣並在江北淮南，虛其地，無復民戶。吳平，民各還本，故復立焉。其後中原亂，胡寇屢南侵，淮南民多南度。成帝初，蘇峻、祖約為亂於江淮，胡寇又大至，民南度江者轉多，乃於江南僑立淮南郡及諸縣，晉末遂割丹陽之于湖縣為淮南境。宋孝武大明六年，以淮南郡併宣城，宣城郡徙治于湖。八年，復立淮南郡，屬南豫州。明帝泰始三年，還屬揚州。領縣六。戶五千三百六十二，口二萬五千八百四十。去京都水一百七十，陸一百四十。<span class=\"p\">&lt;/</span><span class=\"nt\">div</span><span class=\"p\">&gt;</span>\n",
       "<span class=\"p\">&lt;</span><span class=\"nt\">div</span> <span class=\"na\">style</span><span class=\"o\">=</span><span class=\"s\">&quot;text-indent:-1em;padding-left:5em;&quot;</span><span class=\"p\">&gt;</span>于湖令，晉武帝太康二年，分丹楊縣立，本吳督農校尉治。<span class=\"p\">&lt;/</span><span class=\"nt\">div</span><span class=\"p\">&gt;</span>\n",
       "<span class=\"p\">&lt;</span><span class=\"nt\">div</span> <span class=\"na\">style</span><span class=\"o\">=</span><span class=\"s\">&quot;text-indent:-1em;padding-left:5em;&quot;</span><span class=\"p\">&gt;</span>當塗令，晉成帝世，與逡道俱立為僑縣，晉末分于湖為境。<span class=\"p\">&lt;/</span><span class=\"nt\">div</span><span class=\"p\">&gt;</span>\n",
       "<span class=\"p\">&lt;</span><span class=\"nt\">div</span> <span class=\"na\">style</span><span class=\"o\">=</span><span class=\"s\">&quot;text-indent:-1em;padding-left:5em;&quot;</span><span class=\"p\">&gt;</span>繁昌令，漢舊名，本屬潁川。魏分潁川為襄城，又屬焉。晉亂，省襄城郡，以此縣屬淮南，割于湖為境。<span class=\"p\">&lt;/</span><span class=\"nt\">div</span><span class=\"p\">&gt;</span>\n",
       "<span class=\"p\">&lt;</span><span class=\"nt\">div</span> <span class=\"na\">style</span><span class=\"o\">=</span><span class=\"s\">&quot;text-indent:-1em;padding-left:5em;&quot;</span><span class=\"p\">&gt;</span>襄垣令，其地本蕪湖，蕪湖縣，漢舊縣。至于晉末，立襄垣縣，屬上黨。上黨民南過江，立僑郡縣，寄治蕪湖，後省上黨郡為縣，屬淮南。文帝元嘉九年，省上黨縣併襄垣。<span class=\"p\">&lt;/</span><span class=\"nt\">div</span><span class=\"p\">&gt;</span>\n",
       "<span class=\"p\">&lt;</span><span class=\"nt\">div</span> <span class=\"na\">style</span><span class=\"o\">=</span><span class=\"s\">&quot;text-indent:-1em;padding-left:5em;&quot;</span><span class=\"p\">&gt;</span>定陵令，漢舊名，本屬襄城，後割蕪湖為境。<span class=\"p\">&lt;/</span><span class=\"nt\">div</span><span class=\"p\">&gt;</span>\n",
       "<span class=\"p\">&lt;</span><span class=\"nt\">div</span> <span class=\"na\">style</span><span class=\"o\">=</span><span class=\"s\">&quot;text-indent:-1em;padding-left:5em;&quot;</span><span class=\"p\">&gt;</span>逡道令，漢作逡遒，晉作逡道，後分蕪湖為境。<span class=\"p\">&lt;/</span><span class=\"nt\">div</span><span class=\"p\">&gt;</span>\n",
       "<span class=\"p\">&lt;</span><span class=\"nt\">center</span><span class=\"p\">&gt;</span>．　．　．　．　．　．　．　．　．　．　．　．　．　．　．　．　．　．<span class=\"p\">&lt;/</span><span class=\"nt\">center</span><span class=\"p\">&gt;</span>\n",
       "<span class=\"p\">&lt;</span><span class=\"nt\">div</span> <span class=\"na\">style</span><span class=\"o\">=</span><span class=\"s\">&quot;text-indent:2em;padding-left:0em;&quot;</span><span class=\"p\">&gt;</span>宣城太守，晉武帝太康元年，分丹陽立。領縣十。戶一萬一百二十，口四萬七千九百九十二。去京都水五百八十，陸五百。<span class=\"p\">&lt;/</span><span class=\"nt\">div</span><span class=\"p\">&gt;</span>\n",
       "<span class=\"p\">&lt;</span><span class=\"nt\">div</span> <span class=\"na\">style</span><span class=\"o\">=</span><span class=\"s\">&quot;text-indent:-1em;padding-left:5em;&quot;</span><span class=\"p\">&gt;</span>宛陵令，漢舊縣。<span class=\"p\">&lt;/</span><span class=\"nt\">div</span><span class=\"p\">&gt;</span>\n",
       "<span class=\"p\">&lt;</span><span class=\"nt\">div</span> <span class=\"na\">style</span><span class=\"o\">=</span><span class=\"s\">&quot;text-indent:-1em;padding-left:5em;&quot;</span><span class=\"p\">&gt;</span>廣德令，何志云：「漢舊縣。」二漢志並無，疑是吳所立。<span class=\"p\">&lt;/</span><span class=\"nt\">div</span><span class=\"p\">&gt;</span>\n",
       "<span class=\"p\">&lt;</span><span class=\"nt\">div</span> <span class=\"na\">style</span><span class=\"o\">=</span><span class=\"s\">&quot;text-indent:-1em;padding-left:5em;&quot;</span><span class=\"p\">&gt;</span>懷安令，吳立。<span class=\"p\">&lt;/</span><span class=\"nt\">div</span><span class=\"p\">&gt;</span>\n",
       "<span class=\"p\">&lt;</span><span class=\"nt\">div</span> <span class=\"na\">style</span><span class=\"o\">=</span><span class=\"s\">&quot;text-indent:-1em;padding-left:5em;&quot;</span><span class=\"p\">&gt;</span>寧國令，吳立。<span class=\"p\">&lt;/</span><span class=\"nt\">div</span><span class=\"p\">&gt;</span>\n",
       "<span class=\"p\">&lt;</span><span class=\"nt\">div</span> <span class=\"na\">style</span><span class=\"o\">=</span><span class=\"s\">&quot;text-indent:-1em;padding-left:5em;&quot;</span><span class=\"p\">&gt;</span>宣城令，漢舊縣。<span class=\"p\">&lt;/</span><span class=\"nt\">div</span><span class=\"p\">&gt;</span>\n",
       "<span class=\"p\">&lt;</span><span class=\"nt\">div</span> <span class=\"na\">style</span><span class=\"o\">=</span><span class=\"s\">&quot;text-indent:-1em;padding-left:5em;&quot;</span><span class=\"p\">&gt;</span>安吳令，吳立。<span class=\"p\">&lt;/</span><span class=\"nt\">div</span><span class=\"p\">&gt;</span>\n",
       "<span class=\"p\">&lt;</span><span class=\"nt\">div</span> <span class=\"na\">style</span><span class=\"o\">=</span><span class=\"s\">&quot;text-indent:-1em;padding-left:5em;&quot;</span><span class=\"p\">&gt;</span>涇令，漢舊縣。<span class=\"p\">&lt;/</span><span class=\"nt\">div</span><span class=\"p\">&gt;</span>\n",
       "<span class=\"p\">&lt;</span><span class=\"nt\">div</span> <span class=\"na\">style</span><span class=\"o\">=</span><span class=\"s\">&quot;text-indent:-1em;padding-left:5em;&quot;</span><span class=\"p\">&gt;</span>臨城令，吳立。<span class=\"p\">&lt;/</span><span class=\"nt\">div</span><span class=\"p\">&gt;</span>\n",
       "<span class=\"p\">&lt;</span><span class=\"nt\">div</span> <span class=\"na\">style</span><span class=\"o\">=</span><span class=\"s\">&quot;text-indent:-1em;padding-left:5em;&quot;</span><span class=\"p\">&gt;</span>廣陽令，漢舊縣曰陵陽，子明得仙於此縣山，故以為名。晉成帝杜皇后諱「陵」，咸康四年更名。<span class=\"p\">&lt;/</span><span class=\"nt\">div</span><span class=\"p\">&gt;</span>\n",
       "<span class=\"p\">&lt;</span><span class=\"nt\">div</span> <span class=\"na\">style</span><span class=\"o\">=</span><span class=\"s\">&quot;text-indent:-1em;padding-left:5em;&quot;</span><span class=\"p\">&gt;</span>石城令，漢舊縣。<span class=\"p\">&lt;/</span><span class=\"nt\">div</span><span class=\"p\">&gt;</span>\n",
       "<span class=\"p\">&lt;</span><span class=\"nt\">center</span><span class=\"p\">&gt;</span>．　．　．　．　．　．　．　．　．　．　．　．　．　．　．　．　．　．<span class=\"p\">&lt;/</span><span class=\"nt\">center</span><span class=\"p\">&gt;</span>\n",
       "<span class=\"p\">&lt;</span><span class=\"nt\">div</span> <span class=\"na\">style</span><span class=\"o\">=</span><span class=\"s\">&quot;text-indent:2em;padding-left:0em;&quot;</span><span class=\"p\">&gt;</span>東陽太守，本會稽西部都尉，吳孫晧寶鼎元年立。領縣九。戶一萬六千二十二，口一十萬七千九百六十五。去京都水一千七百，陸同。<span class=\"p\">&lt;/</span><span class=\"nt\">div</span><span class=\"p\">&gt;</span>\n",
       "<span class=\"p\">&lt;</span><span class=\"nt\">div</span> <span class=\"na\">style</span><span class=\"o\">=</span><span class=\"s\">&quot;text-indent:-1em;padding-left:5em;&quot;</span><span class=\"p\">&gt;</span>長山令，漢獻帝初平二年，分烏傷立。<span class=\"p\">&lt;/</span><span class=\"nt\">div</span><span class=\"p\">&gt;</span>\n",
       "<span class=\"p\">&lt;</span><span class=\"nt\">div</span> <span class=\"na\">style</span><span class=\"o\">=</span><span class=\"s\">&quot;text-indent:-1em;padding-left:5em;&quot;</span><span class=\"p\">&gt;</span>太末令，漢舊縣。<span class=\"p\">&lt;/</span><span class=\"nt\">div</span><span class=\"p\">&gt;</span>\n",
       "<span class=\"p\">&lt;</span><span class=\"nt\">div</span> <span class=\"na\">style</span><span class=\"o\">=</span><span class=\"s\">&quot;text-indent:-1em;padding-left:5em;&quot;</span><span class=\"p\">&gt;</span>烏傷令。<span class=\"p\">&lt;/</span><span class=\"nt\">div</span><span class=\"p\">&gt;</span>\n",
       "<span class=\"p\">&lt;</span><span class=\"nt\">div</span> <span class=\"na\">style</span><span class=\"o\">=</span><span class=\"s\">&quot;text-indent:-1em;padding-left:5em;&quot;</span><span class=\"p\">&gt;</span>永康令，赤烏八年分烏傷上浦立。<span class=\"p\">&lt;/</span><span class=\"nt\">div</span><span class=\"p\">&gt;</span>\n",
       "<span class=\"p\">&lt;</span><span class=\"nt\">div</span> <span class=\"na\">style</span><span class=\"o\">=</span><span class=\"s\">&quot;text-indent:-1em;padding-left:5em;&quot;</span><span class=\"p\">&gt;</span>信安令，漢獻帝初平三年，分太末立曰新安。晉武帝太康元年更名。<span class=\"p\">&lt;/</span><span class=\"nt\">div</span><span class=\"p\">&gt;</span>\n",
       "<span class=\"p\">&lt;</span><span class=\"nt\">div</span> <span class=\"na\">style</span><span class=\"o\">=</span><span class=\"s\">&quot;text-indent:-1em;padding-left:5em;&quot;</span><span class=\"p\">&gt;</span>吳寧令，漢獻帝興平二年，孫氏分諸暨立。<span class=\"p\">&lt;/</span><span class=\"nt\">div</span><span class=\"p\">&gt;</span>\n",
       "<span class=\"p\">&lt;</span><span class=\"nt\">div</span> <span class=\"na\">style</span><span class=\"o\">=</span><span class=\"s\">&quot;text-indent:-1em;padding-left:5em;&quot;</span><span class=\"p\">&gt;</span>豐安令，漢獻帝興平二年，孫氏分諸暨立。<span class=\"p\">&lt;/</span><span class=\"nt\">div</span><span class=\"p\">&gt;</span>\n",
       "<span class=\"p\">&lt;</span><span class=\"nt\">div</span> <span class=\"na\">style</span><span class=\"o\">=</span><span class=\"s\">&quot;text-indent:-1em;padding-left:5em;&quot;</span><span class=\"p\">&gt;</span>定陽令，漢獻帝建安二十三年，孫氏分信安立。<span class=\"p\">&lt;/</span><span class=\"nt\">div</span><span class=\"p\">&gt;</span>\n",
       "<span class=\"p\">&lt;</span><span class=\"nt\">div</span> <span class=\"na\">style</span><span class=\"o\">=</span><span class=\"s\">&quot;text-indent:-1em;padding-left:5em;&quot;</span><span class=\"p\">&gt;</span>遂昌令，孫權赤烏二年，分太末立曰平昌。晉武帝太康元年更名。<span class=\"p\">&lt;/</span><span class=\"nt\">div</span><span class=\"p\">&gt;</span>\n",
       "<span class=\"p\">&lt;</span><span class=\"nt\">center</span><span class=\"p\">&gt;</span>．　．　．　．　．　．　．　．　．　．　．　．　．　．　．　．　．　．<span class=\"p\">&lt;/</span><span class=\"nt\">center</span><span class=\"p\">&gt;</span>\n",
       "<span class=\"p\">&lt;</span><span class=\"nt\">div</span> <span class=\"na\">style</span><span class=\"o\">=</span><span class=\"s\">&quot;text-indent:2em;padding-left:0em;&quot;</span><span class=\"p\">&gt;</span>臨海太守，本會稽東部都尉。前漢都尉治鄞，後漢分會稽為吳郡，疑是都尉徙治章安也。孫亮太平二年立。領縣五。戶三千九百六十一，口二萬四千二百二十六。去京都水二千一十九，陸同。<span class=\"p\">&lt;/</span><span class=\"nt\">div</span><span class=\"p\">&gt;</span>\n",
       "<span class=\"p\">&lt;</span><span class=\"nt\">div</span> <span class=\"na\">style</span><span class=\"o\">=</span><span class=\"s\">&quot;text-indent:-1em;padding-left:5em;&quot;</span><span class=\"p\">&gt;</span>章安令，續漢志：「故冶，閩中地，光武更名。」晉太康記：「本鄞縣南之回浦鄉，漢章帝章和中立。」未詳孰是。<span class=\"p\">&lt;/</span><span class=\"nt\">div</span><span class=\"p\">&gt;</span>\n",
       "<span class=\"p\">&lt;</span><span class=\"nt\">div</span> <span class=\"na\">style</span><span class=\"o\">=</span><span class=\"s\">&quot;text-indent:-1em;padding-left:5em;&quot;</span><span class=\"p\">&gt;</span>臨海令，吳分章安立。<span class=\"p\">&lt;/</span><span class=\"nt\">div</span><span class=\"p\">&gt;</span>\n",
       "<span class=\"p\">&lt;</span><span class=\"nt\">div</span> <span class=\"na\">style</span><span class=\"o\">=</span><span class=\"s\">&quot;text-indent:-1em;padding-left:5em;&quot;</span><span class=\"p\">&gt;</span>始豐令，吳立曰始平，晉武帝太康元年更名。<span class=\"p\">&lt;/</span><span class=\"nt\">div</span><span class=\"p\">&gt;</span>\n",
       "<span class=\"p\">&lt;</span><span class=\"nt\">div</span> <span class=\"na\">style</span><span class=\"o\">=</span><span class=\"s\">&quot;text-indent:-1em;padding-left:5em;&quot;</span><span class=\"p\">&gt;</span>寧海令，何志，漢舊縣。按二漢志、晉太康地志無。<span class=\"p\">&lt;/</span><span class=\"nt\">div</span><span class=\"p\">&gt;</span>\n",
       "<span class=\"p\">&lt;</span><span class=\"nt\">div</span> <span class=\"na\">style</span><span class=\"o\">=</span><span class=\"s\">&quot;text-indent:-1em;padding-left:5em;&quot;</span><span class=\"p\">&gt;</span>樂安令，晉康帝分始豐立。<span class=\"p\">&lt;/</span><span class=\"nt\">div</span><span class=\"p\">&gt;</span>\n",
       "<span class=\"p\">&lt;</span><span class=\"nt\">center</span><span class=\"p\">&gt;</span>．　．　．　．　．　．　．　．　．　．　．　．　．　．　．　．　．　．<span class=\"p\">&lt;/</span><span class=\"nt\">center</span><span class=\"p\">&gt;</span>\n",
       "<span class=\"p\">&lt;</span><span class=\"nt\">div</span> <span class=\"na\">style</span><span class=\"o\">=</span><span class=\"s\">&quot;text-indent:2em;padding-left:0em;&quot;</span><span class=\"p\">&gt;</span>永嘉太守，晉明帝太寧元年，分臨海立。領縣五。戶六千二百五十，口三萬六千六百八十。去京都水二千八百，陸二千六百四十。<span class=\"p\">&lt;/</span><span class=\"nt\">div</span><span class=\"p\">&gt;</span>\n",
       "<span class=\"p\">&lt;</span><span class=\"nt\">div</span> <span class=\"na\">style</span><span class=\"o\">=</span><span class=\"s\">&quot;text-indent:-1em;padding-left:5em;&quot;</span><span class=\"p\">&gt;</span>永寧令，漢順帝永建四年，分章安東甌鄉立，或云順帝永和三年立。<span class=\"p\">&lt;/</span><span class=\"nt\">div</span><span class=\"p\">&gt;</span>\n",
       "<span class=\"p\">&lt;</span><span class=\"nt\">div</span> <span class=\"na\">style</span><span class=\"o\">=</span><span class=\"s\">&quot;text-indent:-1em;padding-left:5em;&quot;</span><span class=\"p\">&gt;</span>安固令，吳立曰羅陽，孫晧改曰安陽。晉武帝太康元年更名。<span class=\"p\">&lt;/</span><span class=\"nt\">div</span><span class=\"p\">&gt;</span>\n",
       "<span class=\"p\">&lt;</span><span class=\"nt\">div</span> <span class=\"na\">style</span><span class=\"o\">=</span><span class=\"s\">&quot;text-indent:-1em;padding-left:5em;&quot;</span><span class=\"p\">&gt;</span>松陽令，吳立。<span class=\"p\">&lt;/</span><span class=\"nt\">div</span><span class=\"p\">&gt;</span>\n",
       "<span class=\"p\">&lt;</span><span class=\"nt\">div</span> <span class=\"na\">style</span><span class=\"o\">=</span><span class=\"s\">&quot;text-indent:-1em;padding-left:5em;&quot;</span><span class=\"p\">&gt;</span>樂成令，晉孝武寧康三年，分永寧立。<span class=\"p\">&lt;/</span><span class=\"nt\">div</span><span class=\"p\">&gt;</span>\n",
       "<span class=\"p\">&lt;</span><span class=\"nt\">div</span> <span class=\"na\">style</span><span class=\"o\">=</span><span class=\"s\">&quot;text-indent:-1em;padding-left:5em;&quot;</span><span class=\"p\">&gt;</span>橫陽令，晉武帝太康四年，以橫藇船屯為始陽，仍復更名。<span class=\"p\">&lt;/</span><span class=\"nt\">div</span><span class=\"p\">&gt;</span>\n",
       "<span class=\"p\">&lt;</span><span class=\"nt\">center</span><span class=\"p\">&gt;</span>．　．　．　．　．　．　．　．　．　．　．　．　．　．　．　．　．　．<span class=\"p\">&lt;/</span><span class=\"nt\">center</span><span class=\"p\">&gt;</span>\n",
       "<span class=\"p\">&lt;</span><span class=\"nt\">div</span> <span class=\"na\">style</span><span class=\"o\">=</span><span class=\"s\">&quot;text-indent:2em;padding-left:0em;&quot;</span><span class=\"p\">&gt;</span>新安太守，漢獻帝建安十三年，孫權分丹陽立曰新都，晉武帝太康元年更名。領縣五。戶一萬二千五十八，口三萬六千六百五十一。去京都水一千八百六十，陸一千八百。<span class=\"p\">&lt;/</span><span class=\"nt\">div</span><span class=\"p\">&gt;</span>\n",
       "<span class=\"p\">&lt;</span><span class=\"nt\">div</span> <span class=\"na\">style</span><span class=\"o\">=</span><span class=\"s\">&quot;text-indent:-1em;padding-left:5em;&quot;</span><span class=\"p\">&gt;</span>始新令，孫權分歙立。<span class=\"p\">&lt;/</span><span class=\"nt\">div</span><span class=\"p\">&gt;</span>\n",
       "<span class=\"p\">&lt;</span><span class=\"nt\">div</span> <span class=\"na\">style</span><span class=\"o\">=</span><span class=\"s\">&quot;text-indent:-1em;padding-left:5em;&quot;</span><span class=\"p\">&gt;</span>遂安令，孫權分歙為新定縣，晉武帝太康元年更名。<span class=\"p\">&lt;/</span><span class=\"nt\">div</span><span class=\"p\">&gt;</span>\n",
       "<span class=\"p\">&lt;</span><span class=\"nt\">div</span> <span class=\"na\">style</span><span class=\"o\">=</span><span class=\"s\">&quot;text-indent:-1em;padding-left:5em;&quot;</span><span class=\"p\">&gt;</span>歙令，漢舊縣。<span class=\"p\">&lt;/</span><span class=\"nt\">div</span><span class=\"p\">&gt;</span>\n",
       "<span class=\"p\">&lt;</span><span class=\"nt\">div</span> <span class=\"na\">style</span><span class=\"o\">=</span><span class=\"s\">&quot;text-indent:-1em;padding-left:5em;&quot;</span><span class=\"p\">&gt;</span>海寧令，孫權分歙為休陽縣，晉武帝太康元年更名。分歙置諸縣之始，又分置黎陽縣，大明八年，省併海寧。<span class=\"p\">&lt;/</span><span class=\"nt\">div</span><span class=\"p\">&gt;</span>\n",
       "<span class=\"p\">&lt;</span><span class=\"nt\">div</span> <span class=\"na\">style</span><span class=\"o\">=</span><span class=\"s\">&quot;text-indent:-1em;padding-left:5em;&quot;</span><span class=\"p\">&gt;</span>黟令，漢舊縣。<span class=\"p\">&lt;/</span><span class=\"nt\">div</span><span class=\"p\">&gt;</span>\n",
       "<span class=\"p\">&lt;</span><span class=\"nt\">center</span><span class=\"p\">&gt;</span>．　．　．　．　．　．　．　．　．　．　．　．　．　．　．　．　．　．<span class=\"p\">&lt;/</span><span class=\"nt\">center</span><span class=\"p\">&gt;</span>\n",
       "<span class=\"p\">&lt;/</span><span class=\"nt\">span</span><span class=\"p\">&gt;</span>\n",
       "            <span class=\"p\">&lt;/</span><span class=\"nt\">body</span><span class=\"p\">&gt;</span>\n",
       "        <span class=\"p\">&lt;/</span><span class=\"nt\">html</span><span class=\"p\">&gt;</span>\n",
       "        \n",
       "</pre></div>\n",
       "\n",
       "        "
      ],
      "text/plain": [
       "<IPython.core.display.HTML object>"
      ]
     },
     "execution_count": 306,
     "metadata": {
      "tags": []
     },
     "output_type": "execute_result"
    }
   ],
   "source": [
    "songshuGeo[1]"
   ]
  },
  {
   "cell_type": "code",
   "execution_count": null,
   "metadata": {
    "colab": {},
    "colab_type": "code",
    "id": "ur-4D9_x7i10",
    "outputId": "7b71589e-bb4f-474a-d638-17172ea2d40e"
   },
   "outputs": [
    {
     "data": {
      "text/html": [
       "<font style=\"color: k; background-color: #ffff42\">揚州</font>"
      ],
      "text/plain": [
       "<IPython.core.display.HTML object>"
      ]
     },
     "execution_count": 314,
     "metadata": {
      "tags": []
     },
     "output_type": "execute_result"
    }
   ],
   "source": [
    "from IPython.display import HTML\n",
    "\n",
    "HTML('<font style=\"color: k; background-color: #ffff42\">揚州</font>')"
   ]
  }
 ],
 "metadata": {
  "colab": {
   "name": "SongShu -- Geo Extraction.ipynb",
   "provenance": [],
   "version": "0.3.2"
  },
  "kernelspec": {
   "display_name": "Python 3",
   "language": "python",
   "name": "python3"
  },
  "language_info": {
   "codemirror_mode": {
    "name": "ipython",
    "version": 3
   },
   "file_extension": ".py",
   "mimetype": "text/x-python",
   "name": "python",
   "nbconvert_exporter": "python",
   "pygments_lexer": "ipython3",
   "version": "3.6.8"
  }
 },
 "nbformat": 4,
 "nbformat_minor": 2
}

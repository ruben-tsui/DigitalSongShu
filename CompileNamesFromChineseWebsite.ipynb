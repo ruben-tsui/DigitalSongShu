{
 "cells": [
  {
   "cell_type": "markdown",
   "metadata": {},
   "source": [
    "### This script extracts biographical data downloaded from a mainland Chinese website"
   ]
  },
  {
   "cell_type": "markdown",
   "metadata": {},
   "source": [
    "###### Requires Python 3.6+\n",
    "###### Last updated: 2019-02-23"
   ]
  },
  {
   "cell_type": "code",
   "execution_count": 1,
   "metadata": {},
   "outputs": [],
   "source": [
    "from bs4 import BeautifulSoup\n",
    "import os, time, sys"
   ]
  },
  {
   "cell_type": "code",
   "execution_count": 2,
   "metadata": {},
   "outputs": [],
   "source": [
    "import glob\n",
    "def getListOfFiles(dirName, fileExt=None):\n",
    "    '''\n",
    "        For the given dirName (path, folder), get the list of all files in the directory tree\n",
    "        (all subfolders) with the file extension fireExt\n",
    "    '''\n",
    "    dirName = dirName.replace('\\\\', '/')  # MS Windows-specific\n",
    "    if fileExt:  # if this is not None, empty, etc.\n",
    "        dirStr = fr'{dirName}/**/*.{fileExt}'\n",
    "    else:\n",
    "        dirStr = fr'{dirName}/**/*'\n",
    "    return list(glob.iglob(dirStr, recursive=True))\n"
   ]
  },
  {
   "cell_type": "markdown",
   "metadata": {},
   "source": [
    "### <font color=red> *Make changes to the cell below to reflect your actual folder set-up*</font>\n",
    "\n",
    "##### Place all biographical data for the dynasties of interest under this folder  "
   ]
  },
  {
   "cell_type": "code",
   "execution_count": 3,
   "metadata": {},
   "outputs": [],
   "source": [
    "docPath = r'../BioData'  # <== YOUR DATA FOLDER\n",
    "docList = getListOfFiles(docPath, 'html')"
   ]
  },
  {
   "cell_type": "markdown",
   "metadata": {},
   "source": [
    "##### A sample directory listing follows"
   ]
  },
  {
   "cell_type": "code",
   "execution_count": 5,
   "metadata": {},
   "outputs": [
    {
     "name": "stdout",
     "output_type": "stream",
     "text": [
      " Volume in drive C is OS\n",
      " Volume Serial Number is 18A5-AE9F\n",
      "\n",
      " Directory of C:\\NLP\\Raft\\BioData\n",
      "\n",
      "2019-02-26  10:39 AM    <DIR>          .\n",
      "2019-02-26  10:39 AM    <DIR>          ..\n",
      "2019-01-29  03:24 AM    <DIR>          EasternJin\n",
      "2018-12-06  02:07 AM    <DIR>          Jin\n",
      "2018-12-06  09:27 PM    <DIR>          Northern Dynasties - Northern Wei\n",
      "2018-12-06  03:45 PM    <DIR>          Southern Dynasties - Liang\n",
      "2018-12-06  11:28 AM    <DIR>          Southern Dynasties - Qi\n",
      "2018-12-05  03:02 PM    <DIR>          Southern Dynasties - Song\n",
      "               0 File(s)              0 bytes\n",
      "               8 Dir(s)  30,450,577,408 bytes free\n"
     ]
    }
   ],
   "source": [
    "if os.name == 'nt': # MS Windows\n",
    "    !dir ..\\BioData\n",
    "else: # UNIX, Linux, macOS, etc.\n",
    "    !ls -l ../BioData"
   ]
  },
  {
   "cell_type": "code",
   "execution_count": 6,
   "metadata": {},
   "outputs": [
    {
     "data": {
      "text/plain": [
       "10789"
      ]
     },
     "execution_count": 6,
     "metadata": {},
     "output_type": "execute_result"
    }
   ],
   "source": [
    "len(docList)"
   ]
  },
  {
   "cell_type": "markdown",
   "metadata": {},
   "source": [
    "##### function to create a bio entry from the contents (txt) of an HTML file"
   ]
  },
  {
   "cell_type": "code",
   "execution_count": 7,
   "metadata": {},
   "outputs": [],
   "source": [
    "def createBioEntry(txt, id):\n",
    "    BIO_ENTRY = {'id': id}  # initialize the BIOGRAPHY entry dict with the unique id\n",
    "    title = None\n",
    "    entry = None\n",
    "    bs  = BeautifulSoup(txt, 'lxml')\n",
    "    dataTable = bs.find_all('dl') # there should only be one instance of the <dl></dl> tag\n",
    "    if len(dataTable) == 0:  # the HTML contains no real data\n",
    "        return None\n",
    "    for node in dataTable[0]:\n",
    "        entry = None\n",
    "        if node.name == 'dt':\n",
    "            title = node.text\n",
    "        if node.name == 'dd':\n",
    "            entry = node.text\n",
    "        if entry:\n",
    "            #print(f\"title={title}, entry={entry}\")\n",
    "            BIO_ENTRY[title] = entry\n",
    "    return BIO_ENTRY"
   ]
  },
  {
   "cell_type": "markdown",
   "metadata": {},
   "source": [
    "### Main code\n",
    "\n",
    "#### Read .html files and put data in a dict() object"
   ]
  },
  {
   "cell_type": "code",
   "execution_count": 8,
   "metadata": {},
   "outputs": [
    {
     "name": "stdout",
     "output_type": "stream",
     "text": [
      "processed 1000 entries...\n",
      "processed 2000 entries...\n",
      "processed 4000 entries...\n",
      "processed 5000 entries...\n",
      "processed 6000 entries...\n",
      "processed 7000 entries...\n",
      "processed 8000 entries...\n",
      "processed 9000 entries...\n",
      "processed 10000 entries...\n",
      "\n",
      "Total no. of entries processed: 10187\n"
     ]
    }
   ],
   "source": [
    "BIOGRAPHY = []  # bio database list\n",
    "UNIQUE_ID = {}  # this dict keeps track of whether an entry has been processed before (duplicates)\n",
    "i = 0\n",
    "for fin in docList:\n",
    "    i += 1\n",
    "    bn = os.path.basename(fin)\n",
    "    id = bn.replace('.html', '')  # removes '.' and the file extension gives us the unique bio entry id\n",
    "    if id in UNIQUE_ID:\n",
    "        UNIQUE_ID[id] += 1\n",
    "        continue\n",
    "    else:\n",
    "        UNIQUE_ID[id] = 1\n",
    "    with open(fin, \"r\", encoding=\"utf-8\") as fi:\n",
    "        txt = fi.read()\n",
    "        entry = createBioEntry(txt, id)\n",
    "        if entry:\n",
    "            BIOGRAPHY.append(entry)\n",
    "        if i % 1000 == 0:\n",
    "            print(f\"processed {i} entries...\")\n",
    "\n",
    "print(f\"\\nTotal no. of entries processed: {len(BIOGRAPHY)}\")"
   ]
  },
  {
   "cell_type": "code",
   "execution_count": 9,
   "metadata": {},
   "outputs": [
    {
     "data": {
      "text/plain": [
       "(10187, 10189)"
      ]
     },
     "execution_count": 9,
     "metadata": {},
     "output_type": "execute_result"
    }
   ],
   "source": [
    "len(BIOGRAPHY), len(UNIQUE_ID)"
   ]
  },
  {
   "cell_type": "code",
   "execution_count": 10,
   "metadata": {},
   "outputs": [
    {
     "data": {
      "text/plain": [
       "{'218179', '230708'}"
      ]
     },
     "execution_count": 10,
     "metadata": {},
     "output_type": "execute_result"
    }
   ],
   "source": [
    "# identify empty entries\n",
    "s1 = set(BIOGRAPHY[i]['id'] for (i, v) in enumerate(BIOGRAPHY))  # extracts all id's\n",
    "s2 = set(UNIQUE_ID.keys())  # same\n",
    "s2.difference(s1)"
   ]
  },
  {
   "cell_type": "code",
   "execution_count": 11,
   "metadata": {},
   "outputs": [
    {
     "data": {
      "text/plain": [
       "[{'id': '309276', '姓名': '沮渠男成', '別名': '大且渠男成', '朝代': '東晉', '籍貫': '盧水'},\n",
       " {'id': '309278', '姓名': '沮渠百年', '朝代': '東晉'},\n",
       " {'id': '309283', '姓名': '沮渠鄯善', '朝代': '東晉'},\n",
       " {'id': '309284', '姓名': '赫連滿', '朝代': '東晉，北魏', '卒年': '427', '籍貫': '新興郡'},\n",
       " {'id': '309286', '姓名': '慕容敏', '朝代': '東晉', '籍貫': '棘城'},\n",
       " {'id': '309308', '姓名': '尹泓', '朝代': '東晉'},\n",
       " {'id': '309314',\n",
       "  '姓名': '法泉',\n",
       "  '號': '佛慧',\n",
       "  '朝代': '宋，東晉',\n",
       "  '籍貫': '隨州',\n",
       "  '簡介': '法泉，俗姓時，隨州（治今湖北隨州）人。住蔣山太平興國寺，賜號佛慧。晚年奉詔住大相國智海禪寺。能爲詩，與東坡爲方外友。見《補續高僧傳》卷一〇。',\n",
       "  '來源章節': '《全宋文》卷二〇〇五《全宋文》卷三四〇二'},\n",
       " {'id': '309319', '姓名': '法長', '朝代': '東晉'},\n",
       " {'id': '309323', '姓名': '法饒', '朝代': '東晉', '卒年': '351'},\n",
       " {'id': '309335', '姓名': '邵洎', '別名': '樂安內史洎', '朝代': '東晉', '籍貫': '安陽'}]"
      ]
     },
     "execution_count": 11,
     "metadata": {},
     "output_type": "execute_result"
    }
   ],
   "source": [
    "BIOGRAPHY[1000:1010]"
   ]
  },
  {
   "cell_type": "markdown",
   "metadata": {},
   "source": [
    "#### Write data to Excel file"
   ]
  },
  {
   "cell_type": "code",
   "execution_count": 12,
   "metadata": {},
   "outputs": [],
   "source": [
    "import pandas as pd"
   ]
  },
  {
   "cell_type": "code",
   "execution_count": 25,
   "metadata": {},
   "outputs": [],
   "source": [
    "biodf = pd.DataFrame(BIOGRAPHY)"
   ]
  },
  {
   "cell_type": "code",
   "execution_count": 26,
   "metadata": {},
   "outputs": [],
   "source": [
    "## The Excel file will have the column names in the order indicated\n",
    "columns = ['id','姓名','字','號','別名','生年','卒年','籍貫','朝代','簡介','著作列表','親屬','作品數','來源章節']\n",
    "biodf = biodf.reindex(columns, axis=1)"
   ]
  },
  {
   "cell_type": "code",
   "execution_count": 27,
   "metadata": {},
   "outputs": [],
   "source": [
    "def sort_by_length_of_indicated_column(df, col, ascending=False):\n",
    "    s = df[col].str.len().sort_values(ascending=ascending).index\n",
    "    df_out = df.reindex(s)\n",
    "    return df_out"
   ]
  },
  {
   "cell_type": "code",
   "execution_count": 28,
   "metadata": {},
   "outputs": [],
   "source": [
    "biodf = sort_by_length_of_indicated_column(biodf, '姓名')\n",
    "biodf.rename(columns={'姓名':'name'}, inplace=True)  # change '姓名' to 'name' to match it with Fagushan"
   ]
  },
  {
   "cell_type": "code",
   "execution_count": 30,
   "metadata": {},
   "outputs": [
    {
     "name": "stdout",
     "output_type": "stream",
     "text": [
      "Wall time: 3.99 s\n"
     ]
    }
   ],
   "source": [
    "%%time\n",
    "biodf.to_excel(\"BioChineseWebsite.xlsx\")"
   ]
  },
  {
   "cell_type": "code",
   "execution_count": 34,
   "metadata": {},
   "outputs": [
    {
     "data": {
      "text/plain": [
       "(10187, 2)"
      ]
     },
     "execution_count": 34,
     "metadata": {},
     "output_type": "execute_result"
    }
   ],
   "source": [
    "biodf.shape"
   ]
  },
  {
   "cell_type": "code",
   "execution_count": null,
   "metadata": {},
   "outputs": [],
   "source": [
    "## We just need 'id' and 'name'\n",
    "biodf = biodf.loc[:, ['id','name']]"
   ]
  },
  {
   "cell_type": "markdown",
   "metadata": {},
   "source": [
    "#### Now merge this data set with Fagushan's persons data set"
   ]
  },
  {
   "cell_type": "code",
   "execution_count": 36,
   "metadata": {},
   "outputs": [],
   "source": [
    "fagushandf = pd.read_excel('fagushan.persons.liusong.xlsx')\n",
    "fagushandf = fagushan_df.loc[:, ['id', 'name']]"
   ]
  },
  {
   "cell_type": "code",
   "execution_count": 37,
   "metadata": {},
   "outputs": [
    {
     "data": {
      "text/plain": [
       "(2263, 2)"
      ]
     },
     "execution_count": 37,
     "metadata": {},
     "output_type": "execute_result"
    }
   ],
   "source": [
    "fagushandf.shape"
   ]
  },
  {
   "cell_type": "code",
   "execution_count": 39,
   "metadata": {},
   "outputs": [
    {
     "data": {
      "text/plain": [
       "(12450, 2)"
      ]
     },
     "execution_count": 39,
     "metadata": {},
     "output_type": "execute_result"
    }
   ],
   "source": [
    "combined_df = pd.merge(biodf, fagushandf, how='outer')\n",
    "combined_df.shape"
   ]
  },
  {
   "cell_type": "code",
   "execution_count": 40,
   "metadata": {},
   "outputs": [],
   "source": [
    "## Now sort the list before writing to Excel\n",
    "combined_df = sort_by_length_of_indicated_column(combined_df, 'name')\n",
    "combined_df.to_excel('BioCombinedSorted.xlsx')  # remember to delete single-character entries"
   ]
  },
  {
   "cell_type": "markdown",
   "metadata": {},
   "source": [
    "#### Try reading back the Excel file"
   ]
  },
  {
   "cell_type": "code",
   "execution_count": 41,
   "metadata": {},
   "outputs": [],
   "source": [
    "biodf2 = pd.read_excel(\"BioCombinedSorted.xlsx\")"
   ]
  },
  {
   "cell_type": "code",
   "execution_count": 42,
   "metadata": {},
   "outputs": [
    {
     "data": {
      "text/html": [
       "<div>\n",
       "<style scoped>\n",
       "    .dataframe tbody tr th:only-of-type {\n",
       "        vertical-align: middle;\n",
       "    }\n",
       "\n",
       "    .dataframe tbody tr th {\n",
       "        vertical-align: top;\n",
       "    }\n",
       "\n",
       "    .dataframe thead th {\n",
       "        text-align: right;\n",
       "    }\n",
       "</style>\n",
       "<table border=\"1\" class=\"dataframe\">\n",
       "  <thead>\n",
       "    <tr style=\"text-align: right;\">\n",
       "      <th></th>\n",
       "      <th>Unnamed: 0</th>\n",
       "      <th>id</th>\n",
       "      <th>name</th>\n",
       "    </tr>\n",
       "  </thead>\n",
       "  <tbody>\n",
       "    <tr>\n",
       "      <th>0</th>\n",
       "      <td>0</td>\n",
       "      <td>90135488</td>\n",
       "      <td>段氏（慕容垂皇后）</td>\n",
       "    </tr>\n",
       "    <tr>\n",
       "      <th>1</th>\n",
       "      <td>11</td>\n",
       "      <td>90136201</td>\n",
       "      <td>顧某(張玄妹夫)</td>\n",
       "    </tr>\n",
       "    <tr>\n",
       "      <th>2</th>\n",
       "      <td>20</td>\n",
       "      <td>90136032</td>\n",
       "      <td>賀氏（拓跋珪母）</td>\n",
       "    </tr>\n",
       "    <tr>\n",
       "      <th>3</th>\n",
       "      <td>19</td>\n",
       "      <td>90135622</td>\n",
       "      <td>楊氏(苻承祖姨)</td>\n",
       "    </tr>\n",
       "    <tr>\n",
       "      <th>4</th>\n",
       "      <td>18</td>\n",
       "      <td>90135635</td>\n",
       "      <td>劉氏(何無忌母)</td>\n",
       "    </tr>\n",
       "    <tr>\n",
       "      <th>5</th>\n",
       "      <td>17</td>\n",
       "      <td>90134762</td>\n",
       "      <td>蔣氏（蔣子文妹）</td>\n",
       "    </tr>\n",
       "    <tr>\n",
       "      <th>6</th>\n",
       "      <td>16</td>\n",
       "      <td>90135361</td>\n",
       "      <td>任氏(皇甫謐母)</td>\n",
       "    </tr>\n",
       "    <tr>\n",
       "      <th>7</th>\n",
       "      <td>15</td>\n",
       "      <td>90135620</td>\n",
       "      <td>趙氏(孫道溫妻)</td>\n",
       "    </tr>\n",
       "    <tr>\n",
       "      <th>8</th>\n",
       "      <td>14</td>\n",
       "      <td>90134650</td>\n",
       "      <td>趙氏(吳康之妻)</td>\n",
       "    </tr>\n",
       "    <tr>\n",
       "      <th>9</th>\n",
       "      <td>13</td>\n",
       "      <td>90135359</td>\n",
       "      <td>崔氏(房景伯母)</td>\n",
       "    </tr>\n",
       "    <tr>\n",
       "      <th>10</th>\n",
       "      <td>12</td>\n",
       "      <td>90134909</td>\n",
       "      <td>楊氏（司馬炎妻）</td>\n",
       "    </tr>\n",
       "    <tr>\n",
       "      <th>11</th>\n",
       "      <td>21</td>\n",
       "      <td>90136043</td>\n",
       "      <td>劉氏(苟金龍妻)</td>\n",
       "    </tr>\n",
       "    <tr>\n",
       "      <th>12</th>\n",
       "      <td>10</td>\n",
       "      <td>90134353</td>\n",
       "      <td>崔氏（李叔引妻）</td>\n",
       "    </tr>\n",
       "    <tr>\n",
       "      <th>13</th>\n",
       "      <td>8</td>\n",
       "      <td>303221</td>\n",
       "      <td>郁久閭他吾無鹿胡</td>\n",
       "    </tr>\n",
       "    <tr>\n",
       "      <th>14</th>\n",
       "      <td>7</td>\n",
       "      <td>325743</td>\n",
       "      <td>豆邏伏跋豆伐可汗</td>\n",
       "    </tr>\n",
       "    <tr>\n",
       "      <th>15</th>\n",
       "      <td>6</td>\n",
       "      <td>90148796</td>\n",
       "      <td>馮氏(杜行寶妻)</td>\n",
       "    </tr>\n",
       "    <tr>\n",
       "      <th>16</th>\n",
       "      <td>5</td>\n",
       "      <td>90135642</td>\n",
       "      <td>淩氏(駱文牙母)</td>\n",
       "    </tr>\n",
       "    <tr>\n",
       "      <th>17</th>\n",
       "      <td>4</td>\n",
       "      <td>90134687</td>\n",
       "      <td>劉氏(王叔英妻)</td>\n",
       "    </tr>\n",
       "    <tr>\n",
       "      <th>18</th>\n",
       "      <td>3</td>\n",
       "      <td>90134469</td>\n",
       "      <td>孔某（張楚媛夫）</td>\n",
       "    </tr>\n",
       "    <tr>\n",
       "      <th>19</th>\n",
       "      <td>2</td>\n",
       "      <td>90134838</td>\n",
       "      <td>褚氏（司馬岳妻）</td>\n",
       "    </tr>\n",
       "  </tbody>\n",
       "</table>\n",
       "</div>"
      ],
      "text/plain": [
       "    Unnamed: 0        id       name\n",
       "0            0  90135488  段氏（慕容垂皇后）\n",
       "1           11  90136201   顧某(張玄妹夫)\n",
       "2           20  90136032   賀氏（拓跋珪母）\n",
       "3           19  90135622   楊氏(苻承祖姨)\n",
       "4           18  90135635   劉氏(何無忌母)\n",
       "5           17  90134762   蔣氏（蔣子文妹）\n",
       "6           16  90135361   任氏(皇甫謐母)\n",
       "7           15  90135620   趙氏(孫道溫妻)\n",
       "8           14  90134650   趙氏(吳康之妻)\n",
       "9           13  90135359   崔氏(房景伯母)\n",
       "10          12  90134909   楊氏（司馬炎妻）\n",
       "11          21  90136043   劉氏(苟金龍妻)\n",
       "12          10  90134353   崔氏（李叔引妻）\n",
       "13           8    303221   郁久閭他吾無鹿胡\n",
       "14           7    325743   豆邏伏跋豆伐可汗\n",
       "15           6  90148796   馮氏(杜行寶妻)\n",
       "16           5  90135642   淩氏(駱文牙母)\n",
       "17           4  90134687   劉氏(王叔英妻)\n",
       "18           3  90134469   孔某（張楚媛夫）\n",
       "19           2  90134838   褚氏（司馬岳妻）"
      ]
     },
     "execution_count": 42,
     "metadata": {},
     "output_type": "execute_result"
    }
   ],
   "source": [
    "biodf2[:20]"
   ]
  },
  {
   "cell_type": "code",
   "execution_count": null,
   "metadata": {},
   "outputs": [],
   "source": []
  }
 ],
 "metadata": {
  "kernelspec": {
   "display_name": "Python 3",
   "language": "python",
   "name": "python3"
  },
  "language_info": {
   "codemirror_mode": {
    "name": "ipython",
    "version": 3
   },
   "file_extension": ".py",
   "mimetype": "text/x-python",
   "name": "python",
   "nbconvert_exporter": "python",
   "pygments_lexer": "ipython3",
   "version": "3.6.8"
  }
 },
 "nbformat": 4,
 "nbformat_minor": 2
}

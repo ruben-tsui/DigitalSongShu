{
 "cells": [
  {
   "cell_type": "code",
   "execution_count": 1,
   "metadata": {},
   "outputs": [],
   "source": [
    "##########################################################\n",
    "# Type in the base name of your zht document\n",
    "# File extension (副檔名) must be \".zht.txt\";\n",
    "# Input file must be encoded in UTF-8 (without BOM)\n",
    "#\n",
    "base      = r'songshu.all'\n",
    "POS       = \"yes\" # 產生詞性標記\n",
    "user_dict = \"yes\" # \"yes\" or \"no\" 是否要使用使用者自訂詞庫\n",
    "#dict_file = \"userdict.txt\"\n",
    "dict_file = \"DSSP.userdict.txt\"\n",
    "#\n",
    "# Output file will have the file extension \".zht.seg.txt\".\n",
    "##########################################################"
   ]
  },
  {
   "cell_type": "code",
   "execution_count": 4,
   "metadata": {},
   "outputs": [
    {
     "name": "stdout",
     "output_type": "stream",
     "text": [
      "processed 1000 lines...\n",
      "processed 2000 lines...\n",
      "processed 3000 lines...\n",
      "processed 4000 lines...\n",
      "processed 5000 lines...\n",
      "processed 6000 lines...\n",
      "processed 7000 lines...\n",
      "processed 8000 lines...\n",
      "processed 9000 lines...\n",
      "processed 10000 lines...\n",
      "processed 11000 lines...\n",
      "All done! Total no. of lines processed = 11656.\n",
      "Elapsed time: 19.02 sec\n",
      "Your segmented file with POS tags is: 'songshu.all.zht.seg.pos.txt'\n"
     ]
    }
   ],
   "source": [
    "\"\"\"\n",
    "Updated on Fri 2017-03-30\n",
    "Written for:\n",
    "Translation Technology\n",
    "Graduate Program in Translation & Interpretation\n",
    "National Taiwan University\n",
    "Written by: RubenTsui@gmail.com\n",
    "Note: This script performs the following:\n",
    "    (1) Convert zht to zhs with OpenCC-Python (pure Python) available from\n",
    "            https://github.com/yichen0831/opencc-python \n",
    "    (2) Segment zhs text with NLPIR:\n",
    "            http://ictclas.nlpir.org/\n",
    "        However, we use the Python wrapper available from:\n",
    "            http://pynlpir.readthedocs.io/en/latest/\n",
    "    (3) Tokenize original zht text based on segmentation\n",
    "        patterns the converted (simplified) text from (2)\n",
    "\"\"\"\n",
    "import time\n",
    "start_time = time.time()\n",
    "# convert zh-tw to zh-cn\n",
    "from opencc import OpenCC \n",
    "openCC = OpenCC('t2s')  # convert from Simplified-to-Traditional\n",
    "\n",
    "USERDICT = (user_dict.lower() == \"yes\" )\n",
    "if (USERDICT):\n",
    "    userdict = dict_file\n",
    "    userdict_zhs = userdict + \".zhs\" \n",
    "    udi = open(userdict, \"r\", encoding='utf-8')\n",
    "    udo = open(userdict_zhs , 'w', encoding='utf-8', newline=\"\\n\")\n",
    "    for linet in udi:\n",
    "        lines = openCC.convert(linet.strip())\n",
    "        udo.write(lines+\"\\n\")\n",
    "    udi.close()\n",
    "    udo.close()\n",
    "\n",
    "zht     = base + \".zht.txt\"\n",
    "zht_seg = base + \".zht.seg.pos.txt\"\n",
    "\n",
    "\n",
    "# traditional Chinese\n",
    "fit = open(zht, \"r\", encoding='utf-8')\n",
    "fot = open(zht_seg , 'w', encoding='utf-8', newline=\"\\n\")\n",
    "\n",
    "# begin segmentation\n",
    "import pynlpir\n",
    "pynlpir.open(encoding=\"utf-8\")\n",
    "if (USERDICT):\n",
    "    pynlpir.nlpir.ImportUserDict(bytes(userdict_zhs, 'utf-8')) \n",
    "\n",
    "sep = \" \" # separator of Chinese tokens (space by default)\n",
    "n = 0\n",
    "for linet in fit:\n",
    "\n",
    "    n += 1\n",
    "    if (linet.strip() == ''): # empty string\n",
    "        fot.write(\"\\n\")\n",
    "        continue\n",
    "    lines = openCC.convert(linet.strip())\n",
    "    lines_seg = pynlpir.segment(lines, pos_tagging=True, pos_names=None) \n",
    "    # segment with optional POS-tagging\n",
    "\n",
    "    # The following segments the zht text according to the\n",
    "    # segmentation patterns obtained from NLPIR above\n",
    "    tokens   = []  # initialize list to hold 'words' of segmented zht line\n",
    "    pos_tags = []  # initialize list to hold pos tags of segmented words\n",
    "    while len(lines_seg) > 0:  # loop until nothing is left in lines_seg\n",
    "        t, p = lines_seg.pop(0)  # remove leftmost zhs token and save to variable t0\n",
    "        m = len(t)  # no. of characters in token\n",
    "        tokens.append(linet[0:m])  # add corresponding zht token to tokens[]\n",
    "        pos_tags.append(p)\n",
    "        linet = linet[m:]  # delete token from zht line (from beginning of string)\n",
    "\n",
    "    #fot.write(sep.join(tokens)+\"\\n\")  # wirte zht-seg output\n",
    "    #tok_pos = [\"{}_{}\".format(x, y) for x,y in zip(tokens, pos_tags)]  # list of tok_pos pairs\n",
    "    tok_pos = []\n",
    "    for word, pos in zip(tokens, pos_tags):\n",
    "        if pos in ('name','office','place', 'era'):\n",
    "            tok_pos.append(f\"{word}_{pos}\")\n",
    "        else:\n",
    "            tok_pos.append(word)\n",
    "    \n",
    "    fot.write(sep.join(tok_pos)+\"\\n\")\n",
    "    #if (n % 1000 == 0): print(f\"processed {n} lines...\")\n",
    "    #if (n == 1000): break\n",
    "    if (n % 1000 == 0): print(f\"processed {n} lines...\")\n",
    "\n",
    "fit.close()\n",
    "fot.close()\n",
    "pynlpir.close()\n",
    "print(\"All done! Total no. of lines processed = {num}.\".format(num=n))\n",
    "elapsed_time = round(time.time() - start_time, 2)\n",
    "print(\"Elapsed time: {sec} sec\".format(sec=elapsed_time))\n",
    "print(\"Your segmented file with POS tags is: '{f}'\".format(f=zht_seg))\n"
   ]
  },
  {
   "cell_type": "code",
   "execution_count": 44,
   "metadata": {},
   "outputs": [
    {
     "data": {
      "text/plain": [
       "10711"
      ]
     },
     "execution_count": 44,
     "metadata": {},
     "output_type": "execute_result"
    }
   ],
   "source": [
    "n"
   ]
  },
  {
   "cell_type": "code",
   "execution_count": 23,
   "metadata": {},
   "outputs": [
    {
     "data": {
      "text/plain": [
       "True"
      ]
     },
     "execution_count": 23,
     "metadata": {},
     "output_type": "execute_result"
    }
   ],
   "source": [
    "isinstance(lines, str)"
   ]
  },
  {
   "cell_type": "code",
   "execution_count": 36,
   "metadata": {},
   "outputs": [],
   "source": [
    "fot.close()"
   ]
  },
  {
   "cell_type": "code",
   "execution_count": 46,
   "metadata": {},
   "outputs": [
    {
     "data": {
      "text/plain": [
       "'\\n'"
      ]
     },
     "execution_count": 46,
     "metadata": {},
     "output_type": "execute_result"
    }
   ],
   "source": [
    "linet"
   ]
  },
  {
   "cell_type": "code",
   "execution_count": null,
   "metadata": {},
   "outputs": [],
   "source": [
    "lines_seg = pynlpir.segment(lines, pos_tagging=True, pos_names=None) "
   ]
  },
  {
   "cell_type": "code",
   "execution_count": 32,
   "metadata": {},
   "outputs": [
    {
     "data": {
      "text/plain": [
       "'太宗遣荊州典籤邵宰乘驛還江陵，經過襄陽，袁顗馳書報琬，勸勿解甲，并奉表勸子勛即位。郢州承子勛初檄，及聞太宗定大事，即解甲下標。繼聞尋陽不息，而顗又響應，郢府行事錄事參軍荀卞之大懼，慮為琬所咎責，即遣諮議領中兵參軍鄭景玄率軍馳下，并送軍糧。琬乃稱說符瑞，造乘輿御服，云松滋縣生豹自來，柴桑縣送竹有「來奉天子」字，又云青龍見東淮，白鹿出西岡。令顧昭之撰為瑞命記。立宗廟，設壇埸，矯作崇憲太后璽，令羣僚上偽號於子勛。泰始二年正月七日，即位於尋陽城，改景和二年為義嘉元年。以安陸王子綏為司徒、驃騎將軍、揚州刺史，尋陽王子房車騎將軍，臨海王子頊衞將軍，並開府儀同三司。邵陵王子元撫軍將軍。其日雲雨晦合，行禮忘稱萬歲。取子勛所乘車，除脚以為輦，置偽殿之西，其夕有鳩棲其中，鴞集其幰。又有禿鶖集城上。子綏拜司徒日，雷電晦冥，震其黃閤柱，鴟尾墮地，又有鴟棲其帳上。以鄧琬為左將軍、尚書右僕射，張悅領軍將軍、吏部尚書，征虜將軍如故，進袁顗號安北將軍，加尚書左僕射。臨川內史張淹為侍中。府主簿顧昭之、武昌太守劉弼並為黃門侍郎，廬江太守王子仲委郡奔尋陽，亦為黃門侍郎。鄱陽內史丘景先，廬陵內史殷損、西陽太守謝稚、後軍府記室參軍孫詵、長沙內史孔靈產、參軍事沈伯玉、荀道林並為中書侍郎。荀卞之為尚書左丞，府主簿江乂為右丞。府主簿蕭寶欣為通直郎。琬大息粹、悅息洵並正員郎，粹領衞尉，洵弟洌司徒主簿。建武將軍、領軍主、晉熙太守閻湛之加寧朔將軍。廬陵內史王僧胤為祕書丞。桂陽太守劉卷為尚書殿中郎。褚靈嗣、潘欣之、沈光祖，中書通事舍人。餘諸州郡，並加爵號。\\n'"
      ]
     },
     "execution_count": 32,
     "metadata": {},
     "output_type": "execute_result"
    }
   ],
   "source": [
    "linet"
   ]
  },
  {
   "cell_type": "code",
   "execution_count": 48,
   "metadata": {},
   "outputs": [],
   "source": [
    "import pandas as pd"
   ]
  },
  {
   "cell_type": "code",
   "execution_count": 49,
   "metadata": {},
   "outputs": [
    {
     "data": {
      "text/html": [
       "<div>\n",
       "<style scoped>\n",
       "    .dataframe tbody tr th:only-of-type {\n",
       "        vertical-align: middle;\n",
       "    }\n",
       "\n",
       "    .dataframe tbody tr th {\n",
       "        vertical-align: top;\n",
       "    }\n",
       "\n",
       "    .dataframe thead th {\n",
       "        text-align: right;\n",
       "    }\n",
       "</style>\n",
       "<table border=\"1\" class=\"dataframe\">\n",
       "  <thead>\n",
       "    <tr style=\"text-align: right;\">\n",
       "      <th></th>\n",
       "      <th>phrase</th>\n",
       "      <th>type</th>\n",
       "    </tr>\n",
       "  </thead>\n",
       "  <tbody>\n",
       "    <tr>\n",
       "      <th>0</th>\n",
       "      <td>德輿</td>\n",
       "      <td>name</td>\n",
       "    </tr>\n",
       "    <tr>\n",
       "      <th>1</th>\n",
       "      <td>寄奴</td>\n",
       "      <td>name</td>\n",
       "    </tr>\n",
       "    <tr>\n",
       "      <th>2</th>\n",
       "      <td>漢高帝</td>\n",
       "      <td>name</td>\n",
       "    </tr>\n",
       "    <tr>\n",
       "      <th>3</th>\n",
       "      <td>綏輿里</td>\n",
       "      <td>place</td>\n",
       "    </tr>\n",
       "    <tr>\n",
       "      <th>4</th>\n",
       "      <td>楚元王</td>\n",
       "      <td>office</td>\n",
       "    </tr>\n",
       "    <tr>\n",
       "      <th>5</th>\n",
       "      <td>晉哀帝</td>\n",
       "      <td>name</td>\n",
       "    </tr>\n",
       "    <tr>\n",
       "      <th>6</th>\n",
       "      <td>隆安</td>\n",
       "      <td>era</td>\n",
       "    </tr>\n",
       "    <tr>\n",
       "      <th>7</th>\n",
       "      <td>安帝</td>\n",
       "      <td>name</td>\n",
       "    </tr>\n",
       "    <tr>\n",
       "      <th>8</th>\n",
       "      <td>會稽</td>\n",
       "      <td>place</td>\n",
       "    </tr>\n",
       "    <tr>\n",
       "      <th>9</th>\n",
       "      <td>衞將軍</td>\n",
       "      <td>office</td>\n",
       "    </tr>\n",
       "    <tr>\n",
       "      <th>10</th>\n",
       "      <td>謝琰</td>\n",
       "      <td>name</td>\n",
       "    </tr>\n",
       "  </tbody>\n",
       "</table>\n",
       "</div>"
      ],
      "text/plain": [
       "   phrase    type\n",
       "0      德輿    name\n",
       "1      寄奴    name\n",
       "2     漢高帝    name\n",
       "3     綏輿里   place\n",
       "4     楚元王  office\n",
       "5     晉哀帝    name\n",
       "6      隆安     era\n",
       "7      安帝    name\n",
       "8      會稽   place\n",
       "9     衞將軍  office\n",
       "10     謝琰    name"
      ]
     },
     "execution_count": 49,
     "metadata": {},
     "output_type": "execute_result"
    }
   ],
   "source": [
    "df = pd.read_excel('sort_test.xlsx')\n",
    "df"
   ]
  },
  {
   "cell_type": "code",
   "execution_count": 54,
   "metadata": {},
   "outputs": [
    {
     "data": {
      "text/html": [
       "<div>\n",
       "<style scoped>\n",
       "    .dataframe tbody tr th:only-of-type {\n",
       "        vertical-align: middle;\n",
       "    }\n",
       "\n",
       "    .dataframe tbody tr th {\n",
       "        vertical-align: top;\n",
       "    }\n",
       "\n",
       "    .dataframe thead th {\n",
       "        text-align: right;\n",
       "    }\n",
       "</style>\n",
       "<table border=\"1\" class=\"dataframe\">\n",
       "  <thead>\n",
       "    <tr style=\"text-align: right;\">\n",
       "      <th></th>\n",
       "      <th>phrase</th>\n",
       "      <th>type</th>\n",
       "    </tr>\n",
       "  </thead>\n",
       "  <tbody>\n",
       "    <tr>\n",
       "      <th>6</th>\n",
       "      <td>隆安</td>\n",
       "      <td>era</td>\n",
       "    </tr>\n",
       "    <tr>\n",
       "      <th>10</th>\n",
       "      <td>謝琰</td>\n",
       "      <td>name</td>\n",
       "    </tr>\n",
       "    <tr>\n",
       "      <th>7</th>\n",
       "      <td>安帝</td>\n",
       "      <td>name</td>\n",
       "    </tr>\n",
       "    <tr>\n",
       "      <th>1</th>\n",
       "      <td>寄奴</td>\n",
       "      <td>name</td>\n",
       "    </tr>\n",
       "    <tr>\n",
       "      <th>0</th>\n",
       "      <td>德輿</td>\n",
       "      <td>name</td>\n",
       "    </tr>\n",
       "    <tr>\n",
       "      <th>8</th>\n",
       "      <td>會稽</td>\n",
       "      <td>place</td>\n",
       "    </tr>\n",
       "    <tr>\n",
       "      <th>5</th>\n",
       "      <td>晉哀帝</td>\n",
       "      <td>name</td>\n",
       "    </tr>\n",
       "    <tr>\n",
       "      <th>2</th>\n",
       "      <td>漢高帝</td>\n",
       "      <td>name</td>\n",
       "    </tr>\n",
       "    <tr>\n",
       "      <th>9</th>\n",
       "      <td>衞將軍</td>\n",
       "      <td>office</td>\n",
       "    </tr>\n",
       "    <tr>\n",
       "      <th>4</th>\n",
       "      <td>楚元王</td>\n",
       "      <td>office</td>\n",
       "    </tr>\n",
       "    <tr>\n",
       "      <th>3</th>\n",
       "      <td>綏輿里</td>\n",
       "      <td>place</td>\n",
       "    </tr>\n",
       "  </tbody>\n",
       "</table>\n",
       "</div>"
      ],
      "text/plain": [
       "   phrase    type\n",
       "6      隆安     era\n",
       "10     謝琰    name\n",
       "7      安帝    name\n",
       "1      寄奴    name\n",
       "0      德輿    name\n",
       "8      會稽   place\n",
       "5     晉哀帝    name\n",
       "2     漢高帝    name\n",
       "9     衞將軍  office\n",
       "4     楚元王  office\n",
       "3     綏輿里   place"
      ]
     },
     "execution_count": 54,
     "metadata": {},
     "output_type": "execute_result"
    }
   ],
   "source": [
    "s = df.phrase.str.len().sort_values(ascending=True).index\n",
    "df = df.reindex(s)\n",
    "df"
   ]
  },
  {
   "cell_type": "code",
   "execution_count": 55,
   "metadata": {},
   "outputs": [
    {
     "data": {
      "text/html": [
       "<div>\n",
       "<style scoped>\n",
       "    .dataframe tbody tr th:only-of-type {\n",
       "        vertical-align: middle;\n",
       "    }\n",
       "\n",
       "    .dataframe tbody tr th {\n",
       "        vertical-align: top;\n",
       "    }\n",
       "\n",
       "    .dataframe thead th {\n",
       "        text-align: right;\n",
       "    }\n",
       "</style>\n",
       "<table border=\"1\" class=\"dataframe\">\n",
       "  <thead>\n",
       "    <tr style=\"text-align: right;\">\n",
       "      <th></th>\n",
       "      <th>phrase</th>\n",
       "      <th>type</th>\n",
       "    </tr>\n",
       "  </thead>\n",
       "  <tbody>\n",
       "    <tr>\n",
       "      <th>6</th>\n",
       "      <td>隆安</td>\n",
       "      <td>era</td>\n",
       "    </tr>\n",
       "    <tr>\n",
       "      <th>10</th>\n",
       "      <td>謝琰</td>\n",
       "      <td>name</td>\n",
       "    </tr>\n",
       "    <tr>\n",
       "      <th>7</th>\n",
       "      <td>安帝</td>\n",
       "      <td>name</td>\n",
       "    </tr>\n",
       "    <tr>\n",
       "      <th>1</th>\n",
       "      <td>寄奴</td>\n",
       "      <td>name</td>\n",
       "    </tr>\n",
       "    <tr>\n",
       "      <th>0</th>\n",
       "      <td>德輿</td>\n",
       "      <td>name</td>\n",
       "    </tr>\n",
       "    <tr>\n",
       "      <th>5</th>\n",
       "      <td>晉哀帝</td>\n",
       "      <td>name</td>\n",
       "    </tr>\n",
       "    <tr>\n",
       "      <th>2</th>\n",
       "      <td>漢高帝</td>\n",
       "      <td>name</td>\n",
       "    </tr>\n",
       "    <tr>\n",
       "      <th>9</th>\n",
       "      <td>衞將軍</td>\n",
       "      <td>office</td>\n",
       "    </tr>\n",
       "    <tr>\n",
       "      <th>4</th>\n",
       "      <td>楚元王</td>\n",
       "      <td>office</td>\n",
       "    </tr>\n",
       "    <tr>\n",
       "      <th>8</th>\n",
       "      <td>會稽</td>\n",
       "      <td>place</td>\n",
       "    </tr>\n",
       "    <tr>\n",
       "      <th>3</th>\n",
       "      <td>綏輿里</td>\n",
       "      <td>place</td>\n",
       "    </tr>\n",
       "  </tbody>\n",
       "</table>\n",
       "</div>"
      ],
      "text/plain": [
       "   phrase    type\n",
       "6      隆安     era\n",
       "10     謝琰    name\n",
       "7      安帝    name\n",
       "1      寄奴    name\n",
       "0      德輿    name\n",
       "5     晉哀帝    name\n",
       "2     漢高帝    name\n",
       "9     衞將軍  office\n",
       "4     楚元王  office\n",
       "8      會稽   place\n",
       "3     綏輿里   place"
      ]
     },
     "execution_count": 55,
     "metadata": {},
     "output_type": "execute_result"
    }
   ],
   "source": [
    "df = df.sort_values(['type'], ascending=[True])\n",
    "df"
   ]
  },
  {
   "cell_type": "code",
   "execution_count": null,
   "metadata": {},
   "outputs": [],
   "source": []
  }
 ],
 "metadata": {
  "anaconda-cloud": {},
  "hide_input": false,
  "kernelspec": {
   "display_name": "Python 3",
   "language": "python",
   "name": "python3"
  },
  "language_info": {
   "codemirror_mode": {
    "name": "ipython",
    "version": 3
   },
   "file_extension": ".py",
   "mimetype": "text/x-python",
   "name": "python",
   "nbconvert_exporter": "python",
   "pygments_lexer": "ipython3",
   "version": "3.6.8"
  }
 },
 "nbformat": 4,
 "nbformat_minor": 2
}

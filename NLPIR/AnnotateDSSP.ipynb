{
 "cells": [
  {
   "cell_type": "code",
   "execution_count": 2,
   "metadata": {},
   "outputs": [],
   "source": [
    "import pandas as pd"
   ]
  },
  {
   "cell_type": "markdown",
   "metadata": {},
   "source": []
  },
  {
   "cell_type": "code",
   "execution_count": 14,
   "metadata": {},
   "outputs": [
    {
     "name": "stdout",
     "output_type": "stream",
     "text": [
      "Wall time: 2.29 s\n"
     ]
    }
   ],
   "source": [
    "%%time\n",
    "eras_df = pd.read_excel(\"DSSP_NamedEntities.xlsx\", sheet_name=\"Eras\")\n",
    "names_df = pd.read_excel(\"DSSP_NamedEntities.xlsx\", sheet_name=\"Names\")\n",
    "offices_df = pd.read_excel(\"DSSP_NamedEntities.xlsx\", sheet_name=\"Offices\")\n",
    "places_df = pd.read_excel(\"DSSP_NamedEntities.xlsx\", sheet_name=\"Places\")\n",
    "dates_df = pd.read_excel(\"DSSP_NamedEntities.xlsx\", sheet_name=\"Dates\")\n"
   ]
  },
  {
   "cell_type": "code",
   "execution_count": 17,
   "metadata": {},
   "outputs": [
    {
     "name": "stdout",
     "output_type": "stream",
     "text": [
      "Wall time: 1.58 s\n"
     ]
    }
   ],
   "source": [
    "%%time\n",
    "dict_file = \"DSSP.userdict.txt\"\n",
    "with open(dict_file, \"w\", encoding=\"utf-8\", newline=\"\\n\") as fo:\n",
    "    for idx, row in eras_df.iterrows(): # eras\n",
    "        fo.write(f\"{row['c_nianhao_chn']}\\tera\\n\")\n",
    "    for idx, row in names_df.iterrows(): # names\n",
    "        fo.write(f\"{row['phrase']}\\tname\\n\")\n",
    "    for idx, row in offices_df.iterrows(): # office\n",
    "        fo.write(f\"{row['phrase']}\\toffice\\n\")\n",
    "    for idx, row in places_df.iterrows(): # places\n",
    "        fo.write(f\"{row['phrase']}\\tplace\\n\")\n",
    "    for idx, row in dates_df.iterrows(): # dates\n",
    "        fo.write(f\"{row['phrase']}\\t{row['category']}\\n\")                 \n"
   ]
  },
  {
   "cell_type": "code",
   "execution_count": 16,
   "metadata": {},
   "outputs": [],
   "source": [
    "fo.close()"
   ]
  },
  {
   "cell_type": "code",
   "execution_count": null,
   "metadata": {},
   "outputs": [],
   "source": []
  }
 ],
 "metadata": {
  "kernelspec": {
   "display_name": "Python 3",
   "language": "python",
   "name": "python3"
  },
  "language_info": {
   "codemirror_mode": {
    "name": "ipython",
    "version": 3
   },
   "file_extension": ".py",
   "mimetype": "text/x-python",
   "name": "python",
   "nbconvert_exporter": "python",
   "pygments_lexer": "ipython3",
   "version": "3.6.8"
  }
 },
 "nbformat": 4,
 "nbformat_minor": 2
}
